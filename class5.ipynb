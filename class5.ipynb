{
  "nbformat": 4,
  "nbformat_minor": 0,
  "metadata": {
    "colab": {
      "provenance": []
    },
    "kernelspec": {
      "name": "python3",
      "display_name": "Python 3"
    },
    "language_info": {
      "name": "python"
    }
  },
  "cells": [
    {
      "cell_type": "markdown",
      "source": [
        "#list\n",
        "\n",
        "\n",
        "* iteration operation with loop\n",
        "*apply any operation on elemant   \n",
        "\n"
      ],
      "metadata": {
        "id": "194NXgdv5tER"
      }
    },
    {
      "cell_type": "code",
      "source": [
        "names : list[str] = [\"eman\",\"ali\",\"hassan\"]\n",
        "print(names)"
      ],
      "metadata": {
        "colab": {
          "base_uri": "https://localhost:8080/"
        },
        "id": "4EMMHdbH95uM",
        "outputId": "cd7be9d7-c623-46e9-ec9f-f02780bbccdc"
      },
      "execution_count": null,
      "outputs": [
        {
          "output_type": "stream",
          "name": "stdout",
          "text": [
            "['eman', 'ali', 'hassan']\n"
          ]
        }
      ]
    },
    {
      "cell_type": "code",
      "source": [
        "names : list[str] = [\"eman\",\"ali\",\"hassan\"]\n",
        "for name in names:\n",
        "    print(name)"
      ],
      "metadata": {
        "colab": {
          "base_uri": "https://localhost:8080/"
        },
        "id": "uAVgBDNMESEZ",
        "outputId": "3fab8d36-34db-42a8-db10-ce51ba180deb"
      },
      "execution_count": null,
      "outputs": [
        {
          "output_type": "stream",
          "name": "stdout",
          "text": [
            "eman\n",
            "ali\n",
            "hassan\n"
          ]
        }
      ]
    },
    {
      "cell_type": "code",
      "source": [
        "names : list[str] = [\"eman\",\"ali\",\"hassan\"]\n",
        "i:int = 0 # counter = 0\n",
        "\n",
        "while i<len(names): # names length =3\n",
        "    print(names[i])\n",
        "    i += 1\n",
        "\n"
      ],
      "metadata": {
        "colab": {
          "base_uri": "https://localhost:8080/"
        },
        "id": "lzcxIaEBEfVg",
        "outputId": "d4f8aced-af32-4064-ebb9-4e1ea6322da8"
      },
      "execution_count": null,
      "outputs": [
        {
          "output_type": "stream",
          "name": "stdout",
          "text": [
            "eman\n",
            "ali\n",
            "hassan\n"
          ]
        }
      ]
    },
    {
      "cell_type": "code",
      "source": [
        "names : list[str] = [\"eman\",\"ali\",\"hassan\"]\n",
        "for name in names:\n",
        "    print(f'Welcome Dear Tacher {name.title()}')"
      ],
      "metadata": {
        "colab": {
          "base_uri": "https://localhost:8080/"
        },
        "id": "Ad3zJkJTHR2G",
        "outputId": "f8470f74-983c-4e60-891a-5f9d819ee435"
      },
      "execution_count": null,
      "outputs": [
        {
          "output_type": "stream",
          "name": "stdout",
          "text": [
            "Welcome Dear Tacher Eman\n",
            "Welcome Dear Tacher Ali\n",
            "Welcome Dear Tacher Hassan\n"
          ]
        }
      ]
    },
    {
      "cell_type": "code",
      "source": [
        "names : list[str] = [\"eman\",\"ali\",\"hassan\"]\n",
        "for name in names:\n",
        "    print(f'Welcome Dear Tacher {name.title()}')\n",
        "    print(\"PIAIC Gen AI Tea\\n\")"
      ],
      "metadata": {
        "colab": {
          "base_uri": "https://localhost:8080/"
        },
        "id": "8CaO7Db0HpW0",
        "outputId": "f9dc2a46-c87c-4ac3-bef4-769c53f455cd"
      },
      "execution_count": null,
      "outputs": [
        {
          "output_type": "stream",
          "name": "stdout",
          "text": [
            "Welcome Dear Tacher Eman\n",
            "PIAIC Gen AI Tea\n",
            "\n",
            "Welcome Dear Tacher Ali\n",
            "PIAIC Gen AI Tea\n",
            "\n",
            "Welcome Dear Tacher Hassan\n",
            "PIAIC Gen AI Tea\n",
            "\n"
          ]
        }
      ]
    },
    {
      "cell_type": "code",
      "source": [
        "names : list[str] = [\"eman\",\"ali\",\"hassan\"]\n",
        "for name in names:\n",
        "    print(f'Welcome Dear Tacher {name.title()}')\n",
        "    print(\"PIAIC Gen AI Team\\n\")\n",
        "\n",
        "print(\"Pakistan zinda bad\")"
      ],
      "metadata": {
        "colab": {
          "base_uri": "https://localhost:8080/"
        },
        "id": "bR86c1JjHpa9",
        "outputId": "e62f455a-26d0-4b76-b573-904503c5069b"
      },
      "execution_count": null,
      "outputs": [
        {
          "output_type": "stream",
          "name": "stdout",
          "text": [
            "Welcome Dear Tacher Eman\n",
            "PIAIC Gen AI Team\n",
            "\n",
            "Welcome Dear Tacher Ali\n",
            "PIAIC Gen AI Team\n",
            "\n",
            "Welcome Dear Tacher Hassan\n",
            "PIAIC Gen AI Team\n",
            "\n",
            "Pakistan zinda bad\n"
          ]
        }
      ]
    },
    {
      "cell_type": "code",
      "source": [
        "names : list[str] = [\"eman\",\"ali\",\"hassan\"]\n",
        "for name in names[-2:]:\n",
        "    print(f'Welcome Dear Tacher {name.title()}')\n",
        "    print(\"PIAIC Gen AI Team\\n\")\n",
        "\n",
        "print(\"Pakistan zinda bad\")"
      ],
      "metadata": {
        "colab": {
          "base_uri": "https://localhost:8080/"
        },
        "id": "qvaAKgoVHpfG",
        "outputId": "325929f0-bd02-499a-892e-48a57e3c4370"
      },
      "execution_count": null,
      "outputs": [
        {
          "output_type": "stream",
          "name": "stdout",
          "text": [
            "Welcome Dear Tacher Ali\n",
            "PIAIC Gen AI Team\n",
            "\n",
            "Welcome Dear Tacher Hassan\n",
            "PIAIC Gen AI Team\n",
            "\n",
            "Pakistan zinda bad\n"
          ]
        }
      ]
    },
    {
      "cell_type": "code",
      "source": [
        "names : list[str] = [\"eman\",\"ali\",\"hassan\"]\n",
        "for name in names[2:]:\n",
        "    print(f'Welcome Dear Tacher {name.title()}')\n",
        "    print(\"PIAIC Gen AI Team\\n\")\n",
        "\n",
        "print(\"Pakistan zinda bad\")"
      ],
      "metadata": {
        "colab": {
          "base_uri": "https://localhost:8080/"
        },
        "id": "wMDYQEEeHpj9",
        "outputId": "7d38a947-1f57-4108-8f62-69db68204b92"
      },
      "execution_count": null,
      "outputs": [
        {
          "output_type": "stream",
          "name": "stdout",
          "text": [
            "Welcome Dear Tacher Hassan\n",
            "PIAIC Gen AI Team\n",
            "\n",
            "Pakistan zinda bad\n"
          ]
        }
      ]
    },
    {
      "cell_type": "code",
      "source": [
        "names : list[str] = [\"eman\",\"ali\",\"hassan\"]\n",
        "names:list[str] = ['Sir Zia', \"Muhammad Qasim\", \"DR Noman\"]\n",
        "\n",
        "for name in names[::-1]:\n",
        "    print(f'Welcome Dear Tacher {name.upper()}')\n",
        "    print(\"PIAIC Gen AI Team\\n\")\n",
        "print(\"Pakistan zinda bad\\n\")\n"
      ],
      "metadata": {
        "colab": {
          "base_uri": "https://localhost:8080/"
        },
        "id": "aVb5qsK6HpoV",
        "outputId": "68bea8f8-c4fb-4a2d-d514-56eb31f1ca11"
      },
      "execution_count": null,
      "outputs": [
        {
          "output_type": "stream",
          "name": "stdout",
          "text": [
            "Welcome Dear Tacher DR NOMAN\n",
            "PIAIC Gen AI Team\n",
            "\n",
            "Welcome Dear Tacher MUHAMMAD QASIM\n",
            "PIAIC Gen AI Team\n",
            "\n",
            "Welcome Dear Tacher SIR ZIA\n",
            "PIAIC Gen AI Team\n",
            "\n",
            "Pakistan zinda bad\n",
            "\n"
          ]
        }
      ]
    },
    {
      "cell_type": "code",
      "source": [
        "data_base : list[tuple[str,str]] = [(\"qasim\",'123'),\n",
        "                                    (\"sirzia\",'345'),\n",
        "                                    ('ikhlas','789')\n",
        "                                    ]\n",
        "\n",
        "for row in data_base:\n",
        "    print(row)"
      ],
      "metadata": {
        "colab": {
          "base_uri": "https://localhost:8080/"
        },
        "id": "ksT00SZ_ZG77",
        "outputId": "e5734827-fb1d-44d1-a2c7-a3eeb393c132"
      },
      "execution_count": null,
      "outputs": [
        {
          "output_type": "stream",
          "name": "stdout",
          "text": [
            "('qasim', '123')\n",
            "('sirzia', '345')\n",
            "('ikhlas', '789')\n"
          ]
        }
      ]
    },
    {
      "cell_type": "code",
      "source": [
        "data_base : list[tuple[str,str]] = [(\"qasim\",'123'),\n",
        "                                    (\"sirzia\",'345'),\n",
        "                                    ('ikhlas','789')\n",
        "                                    ]\n",
        "\n",
        "for row in data_base:\n",
        "    user, password = row\n",
        "    print(user, password)"
      ],
      "metadata": {
        "colab": {
          "base_uri": "https://localhost:8080/"
        },
        "id": "wXjW9oq6ZKJj",
        "outputId": "866282ed-6a9e-4719-aa06-4dcde63e84b9"
      },
      "execution_count": null,
      "outputs": [
        {
          "output_type": "stream",
          "name": "stdout",
          "text": [
            "qasim 123\n",
            "sirzia 345\n",
            "ikhlas 789\n"
          ]
        }
      ]
    },
    {
      "cell_type": "code",
      "source": [
        "input_user : str = input(\"Enter user name\")\n",
        "print(input_user)"
      ],
      "metadata": {
        "colab": {
          "base_uri": "https://localhost:8080/"
        },
        "id": "POQXe1ihaD-p",
        "outputId": "c44ff035-664d-4675-c1ad-3384b16d68dd"
      },
      "execution_count": null,
      "outputs": [
        {
          "output_type": "stream",
          "name": "stdout",
          "text": [
            "Enter user nameAnzala\n",
            "Anzala\n"
          ]
        }
      ]
    },
    {
      "cell_type": "code",
      "source": [
        "data_base : list[tuple[str,str]] = [(\"qasim\",'123'),\n",
        "                                    (\"sirzia\",'345'),\n",
        "                                    ('ikhlas','789')\n",
        "                                    ]\n",
        "input_user : str = input(\"Enter user name\")\n",
        "input_password : str = input(\"Enter user password\")\n",
        "\n",
        "\n",
        "\n",
        "for row in data_base:\n",
        "    user, password = row\n",
        "    if input_user == user and input_password == password:\n",
        "        print(\"Valid User\")\n",
        "        break"
      ],
      "metadata": {
        "colab": {
          "base_uri": "https://localhost:8080/"
        },
        "id": "xTJCswsla1Cu",
        "outputId": "6e94ceab-6eda-4604-ebe9-987365de9258"
      },
      "execution_count": null,
      "outputs": [
        {
          "output_type": "stream",
          "name": "stdout",
          "text": [
            "Enter user nameqasim\n",
            "Enter user password123\n",
            "Valid User \n"
          ]
        }
      ]
    },
    {
      "cell_type": "code",
      "source": [
        "data_base : list[tuple[str,str]] = [(\"qasim\",'123'),\n",
        "                                    (\"sirzia\",'345'),\n",
        "                                    ('ikhlas','789')\n",
        "                                    ]\n",
        "input_user : str = input(\"Enter user name\")\n",
        "input_password : str = input(\"Enter user password\")\n",
        "\n",
        "\n",
        "\n",
        "for row in data_base:\n",
        "    user, password = row\n",
        "    if input_user == user and input_password == password:\n",
        "        print(\"Valid User\")\n",
        "        break"
      ],
      "metadata": {
        "colab": {
          "base_uri": "https://localhost:8080/"
        },
        "outputId": "6e94ceab-6eda-4604-ebe9-987365de9258",
        "id": "CUgzU_ofbYMc"
      },
      "execution_count": null,
      "outputs": [
        {
          "output_type": "stream",
          "name": "stdout",
          "text": [
            "Enter user nameqasim\n",
            "Enter user password123\n",
            "Valid User \n"
          ]
        }
      ]
    },
    {
      "cell_type": "code",
      "source": [
        "data_base : list[tuple[str,str]] = [(\"qasim\",'123'),\n",
        "                                    (\"sirzia\",'345'),\n",
        "                                    ('ikhlas','789')\n",
        "                                    ]\n",
        "input_user : str = input(\"Enter user name\")\n",
        "input_password : str = input(\"Enter user password\")\n",
        "\n",
        "\n",
        "\n",
        "for row in data_base:\n",
        "    user, password = row # (\"qasim\",'123')\n",
        "    if input_user == user and input_password == password:\n",
        "        print(\"Valid User\")\n",
        "        break\n",
        "else:\n",
        "    print(\"Not found or Invalid user name\")\n"
      ],
      "metadata": {
        "colab": {
          "base_uri": "https://localhost:8080/"
        },
        "id": "LF074r_tchoo",
        "outputId": "a8cd0e98-4e96-42a4-f0e6-1218ac88bbd7"
      },
      "execution_count": null,
      "outputs": [
        {
          "output_type": "stream",
          "name": "stdout",
          "text": [
            "Enter user nameanzala\n",
            "Enter user password456\n",
            "Not found or Invalid user name\n"
          ]
        }
      ]
    },
    {
      "cell_type": "code",
      "source": [
        "data_base : list[tuple[str,str]] = [(\"qasim\",'123'),\n",
        "                                    (\"sirzia\",'345'),\n",
        "                                    ('ikhlas','789')\n",
        "                                    ]\n",
        "input_user : str = input(\"Enter user name\")\n",
        "input_password : str = input(\"Enter user password\")\n",
        "\n",
        "\n",
        "\n",
        "for row in data_base:\n",
        "    user, password = row # (\"qasim\",'123')\n",
        "    if input_user == user and input_password == password:\n",
        "        print(\"Valid User\")\n",
        "        break\n",
        "else:\n",
        "    print(\"Not found or Invalid user name\")\n"
      ],
      "metadata": {
        "colab": {
          "base_uri": "https://localhost:8080/"
        },
        "id": "2s8yyzKDcmGg",
        "outputId": "b7f4996e-714c-46b4-bbe7-25d3b871a918"
      },
      "execution_count": null,
      "outputs": [
        {
          "output_type": "stream",
          "name": "stdout",
          "text": [
            "Enter user nameqasim\n",
            "Enter user password123\n",
            "Valid User\n"
          ]
        }
      ]
    },
    {
      "cell_type": "code",
      "source": [
        "names:list[str] = ['Sir Zia', \"Muhammad Qasim\", \"DR Noman\"]\n",
        "\n",
        "for name in names:\n",
        "    print(name)\n",
        "else:\n",
        "    print(\"Hello world\")\n"
      ],
      "metadata": {
        "colab": {
          "base_uri": "https://localhost:8080/"
        },
        "id": "Dn3RwFpnczEH",
        "outputId": "7cff4405-8c1d-4664-b0d4-bc0627c3ad84"
      },
      "execution_count": null,
      "outputs": [
        {
          "output_type": "stream",
          "name": "stdout",
          "text": [
            "Sir Zia\n",
            "Muhammad Qasim\n",
            "DR Noman\n",
            "Hello world\n"
          ]
        }
      ]
    },
    {
      "cell_type": "code",
      "source": [
        "names:list[str] = ['Sir Zia', \"Muhammad Qasim\", \"DR Noman\"]\n",
        "\n",
        "for name in names:\n",
        "    print(name)\n",
        "    break"
      ],
      "metadata": {
        "colab": {
          "base_uri": "https://localhost:8080/"
        },
        "id": "gy0pqWt8dz6V",
        "outputId": "947c8173-2366-4e73-e409-c1138ede699d"
      },
      "execution_count": null,
      "outputs": [
        {
          "output_type": "stream",
          "name": "stdout",
          "text": [
            "Sir Zia\n"
          ]
        }
      ]
    },
    {
      "cell_type": "code",
      "source": [
        "names:list[str] = ['Sir Zia', \"Muhammad Qasim\", \"DR Noman\"]\n",
        "\n",
        "for name in names:\n",
        "    print(name)\n",
        "    break\n",
        "else:\n",
        "    print(\"Hello world\")\n"
      ],
      "metadata": {
        "colab": {
          "base_uri": "https://localhost:8080/"
        },
        "id": "Dm_Pk9S0d3gV",
        "outputId": "9391a409-ea69-4976-986f-242ccf19a2d3"
      },
      "execution_count": null,
      "outputs": [
        {
          "output_type": "stream",
          "name": "stdout",
          "text": [
            "Sir Zia\n"
          ]
        }
      ]
    },
    {
      "cell_type": "code",
      "source": [
        "names:list[str] = ['Sir Zia', \"Muhammad Qasim\", \"DR Noman\"]\n",
        "\n",
        "for name in names:\n",
        "    print(name)\n",
        "print(\"Hello world\")"
      ],
      "metadata": {
        "colab": {
          "base_uri": "https://localhost:8080/"
        },
        "id": "o21CjF8Ud3pO",
        "outputId": "be4b6064-1eff-4d5e-9b69-d59a694e761a"
      },
      "execution_count": null,
      "outputs": [
        {
          "output_type": "stream",
          "name": "stdout",
          "text": [
            "Sir Zia\n",
            "Muhammad Qasim\n",
            "DR Noman\n",
            "Hello world\n"
          ]
        }
      ]
    },
    {
      "cell_type": "code",
      "source": [
        "names:list[str] = ['Sir Zia', \"Muhammad Qasim\", \"DR Noman\"]\n",
        "\n",
        "for name in names:\n",
        "print(name)"
      ],
      "metadata": {
        "colab": {
          "base_uri": "https://localhost:8080/",
          "height": 106
        },
        "id": "8cxJZY9GeZ20",
        "outputId": "a63d93c1-fc3e-442e-87a7-b64406daae9e"
      },
      "execution_count": null,
      "outputs": [
        {
          "output_type": "error",
          "ename": "IndentationError",
          "evalue": "expected an indented block after 'for' statement on line 3 (<ipython-input-24-c114a3ba4e9a>, line 4)",
          "traceback": [
            "\u001b[0;36m  File \u001b[0;32m\"<ipython-input-24-c114a3ba4e9a>\"\u001b[0;36m, line \u001b[0;32m4\u001b[0m\n\u001b[0;31m    print(name)\u001b[0m\n\u001b[0m    ^\u001b[0m\n\u001b[0;31mIndentationError\u001b[0m\u001b[0;31m:\u001b[0m expected an indented block after 'for' statement on line 3\n"
          ]
        }
      ]
    },
    {
      "cell_type": "code",
      "source": [
        "names:list[str] = ['Sir Zia', \"Muhammad Qasim\", \"DR Noman\"]\n",
        "\n",
        "for name in names\n",
        "print(name)"
      ],
      "metadata": {
        "colab": {
          "base_uri": "https://localhost:8080/",
          "height": 106
        },
        "id": "t1lcAsYieZ6N",
        "outputId": "359af7ca-2de8-4ab9-802c-e5c490921a4b"
      },
      "execution_count": null,
      "outputs": [
        {
          "output_type": "error",
          "ename": "SyntaxError",
          "evalue": "expected ':' (<ipython-input-25-48865745289d>, line 3)",
          "traceback": [
            "\u001b[0;36m  File \u001b[0;32m\"<ipython-input-25-48865745289d>\"\u001b[0;36m, line \u001b[0;32m3\u001b[0m\n\u001b[0;31m    for name in names\u001b[0m\n\u001b[0m                     ^\u001b[0m\n\u001b[0;31mSyntaxError\u001b[0m\u001b[0;31m:\u001b[0m expected ':'\n"
          ]
        }
      ]
    },
    {
      "cell_type": "code",
      "source": [
        "magicians: list[str] = ['alice', 'david', 'carolina']\n",
        "for magician in magicians:\n",
        "    print(f\"{magician.title()}, that was a great trick!\")\n",
        "\n",
        "\n",
        "print(f\"I can't wait to see your next trick, {magician.title()}.\\n\")"
      ],
      "metadata": {
        "colab": {
          "base_uri": "https://localhost:8080/"
        },
        "id": "-wulVXnHfFrR",
        "outputId": "05e66538-a68b-4ecc-86a1-1225fe6aff07"
      },
      "execution_count": null,
      "outputs": [
        {
          "output_type": "stream",
          "name": "stdout",
          "text": [
            "Alice, that was a great trick!\n",
            "David, that was a great trick!\n",
            "Carolina, that was a great trick!\n",
            "I can't wait to see your next trick, Carolina.\n",
            "\n"
          ]
        }
      ]
    },
    {
      "cell_type": "code",
      "source": [
        "message = \"Hello Python world!\"\n",
        "    print(message)"
      ],
      "metadata": {
        "colab": {
          "base_uri": "https://localhost:8080/",
          "height": 106
        },
        "id": "5OIINDJefFuA",
        "outputId": "77bf80ac-f5ca-417e-c549-0b51f4f62ab0"
      },
      "execution_count": null,
      "outputs": [
        {
          "output_type": "error",
          "ename": "IndentationError",
          "evalue": "unexpected indent (<ipython-input-27-b60e1942954d>, line 2)",
          "traceback": [
            "\u001b[0;36m  File \u001b[0;32m\"<ipython-input-27-b60e1942954d>\"\u001b[0;36m, line \u001b[0;32m2\u001b[0m\n\u001b[0;31m    print(message)\u001b[0m\n\u001b[0m    ^\u001b[0m\n\u001b[0;31mIndentationError\u001b[0m\u001b[0;31m:\u001b[0m unexpected indent\n"
          ]
        }
      ]
    },
    {
      "cell_type": "code",
      "source": [
        "message = (\"Hello Python world!\")\n",
        "    print(message)"
      ],
      "metadata": {
        "colab": {
          "base_uri": "https://localhost:8080/",
          "height": 106
        },
        "id": "pXfFIfKDfFxx",
        "outputId": "677ccfe2-c41a-43bc-df5c-a5a2ac7ce7f0"
      },
      "execution_count": null,
      "outputs": [
        {
          "output_type": "error",
          "ename": "IndentationError",
          "evalue": "unexpected indent (<ipython-input-28-48fd2bdef801>, line 2)",
          "traceback": [
            "\u001b[0;36m  File \u001b[0;32m\"<ipython-input-28-48fd2bdef801>\"\u001b[0;36m, line \u001b[0;32m2\u001b[0m\n\u001b[0;31m    print(message)\u001b[0m\n\u001b[0m    ^\u001b[0m\n\u001b[0;31mIndentationError\u001b[0m\u001b[0;31m:\u001b[0m unexpected indent\n"
          ]
        }
      ]
    },
    {
      "cell_type": "code",
      "source": [
        "magicians = ['alice', 'david', 'carolina']\n",
        "for magician in magicians:\n",
        "    print(f\"{magician.title()}, that was a great trick!\")\n",
        "    print(f\"I can't wait to see your next trick, {magician.title()}.\\n\")\n",
        "\n",
        "\n",
        "print(\"Thank you everyone, that was a great magic show!\")"
      ],
      "metadata": {
        "colab": {
          "base_uri": "https://localhost:8080/"
        },
        "id": "f3sMnpKDfF1F",
        "outputId": "2ac46372-be56-4ff5-f01c-0c40dd049311"
      },
      "execution_count": null,
      "outputs": [
        {
          "output_type": "stream",
          "name": "stdout",
          "text": [
            "Alice, that was a great trick!\n",
            "I can't wait to see your next trick, Alice.\n",
            "\n",
            "David, that was a great trick!\n",
            "I can't wait to see your next trick, David.\n",
            "\n",
            "Carolina, that was a great trick!\n",
            "I can't wait to see your next trick, Carolina.\n",
            "\n",
            "Thank you everyone, that was a great magic show!\n"
          ]
        }
      ]
    },
    {
      "cell_type": "code",
      "source": [
        "magicians = ['alice', 'david', 'carolina']\n",
        "for magician in magicians:\n",
        "    print(f\"{magician.title()}, that was a great trick!\")\n",
        "    print(f\"I can't wait to see your next trick, {magician.title()}.\\n\")\n",
        "\n",
        "    print(\"Thank you everyone, that was a great magic show!\")"
      ],
      "metadata": {
        "colab": {
          "base_uri": "https://localhost:8080/"
        },
        "id": "PksNRKNnfGQZ",
        "outputId": "2417f7a9-7537-49ad-fd96-c9a62902792d"
      },
      "execution_count": null,
      "outputs": [
        {
          "output_type": "stream",
          "name": "stdout",
          "text": [
            "Alice, that was a great trick!\n",
            "I can't wait to see your next trick, Alice.\n",
            "\n",
            "Thank you everyone, that was a great magic show!\n",
            "David, that was a great trick!\n",
            "I can't wait to see your next trick, David.\n",
            "\n",
            "Thank you everyone, that was a great magic show!\n",
            "Carolina, that was a great trick!\n",
            "I can't wait to see your next trick, Carolina.\n",
            "\n",
            "Thank you everyone, that was a great magic show!\n"
          ]
        }
      ]
    },
    {
      "cell_type": "markdown",
      "source": [
        "## Number with loop\n",
        "\n",
        "*   range(start,end,step)\n",
        "\n"
      ],
      "metadata": {
        "id": "ZXwZx1lCkSFw"
      }
    },
    {
      "cell_type": "code",
      "source": [
        "range(10)"
      ],
      "metadata": {
        "colab": {
          "base_uri": "https://localhost:8080/"
        },
        "id": "muGwlR8CuysQ",
        "outputId": "8814a087-358f-4edb-bb15-a1841ff9f76a"
      },
      "execution_count": null,
      "outputs": [
        {
          "output_type": "execute_result",
          "data": {
            "text/plain": [
              "range(0, 10)"
            ]
          },
          "metadata": {},
          "execution_count": 32
        }
      ]
    },
    {
      "cell_type": "code",
      "source": [
        "list(range(10))"
      ],
      "metadata": {
        "colab": {
          "base_uri": "https://localhost:8080/"
        },
        "id": "cW01_CqjvxpS",
        "outputId": "b26efa6e-67ab-48fd-9a5b-0338ecfe2192"
      },
      "execution_count": null,
      "outputs": [
        {
          "output_type": "execute_result",
          "data": {
            "text/plain": [
              "[0, 1, 2, 3, 4, 5, 6, 7, 8, 9]"
            ]
          },
          "metadata": {},
          "execution_count": 37
        }
      ]
    },
    {
      "cell_type": "code",
      "source": [
        "list(range(2,10))"
      ],
      "metadata": {
        "colab": {
          "base_uri": "https://localhost:8080/"
        },
        "id": "7hhe8088vxsH",
        "outputId": "0226669b-3855-4749-dc2e-da04437ffb52"
      },
      "execution_count": null,
      "outputs": [
        {
          "output_type": "execute_result",
          "data": {
            "text/plain": [
              "[2, 3, 4, 5, 6, 7, 8, 9]"
            ]
          },
          "metadata": {},
          "execution_count": 38
        }
      ]
    },
    {
      "cell_type": "code",
      "source": [
        "list(range(2,100))"
      ],
      "metadata": {
        "colab": {
          "base_uri": "https://localhost:8080/"
        },
        "id": "m06qjG-jvxus",
        "outputId": "b0c61c57-257f-495d-970f-74cd95075058"
      },
      "execution_count": null,
      "outputs": [
        {
          "output_type": "execute_result",
          "data": {
            "text/plain": [
              "[2,\n",
              " 3,\n",
              " 4,\n",
              " 5,\n",
              " 6,\n",
              " 7,\n",
              " 8,\n",
              " 9,\n",
              " 10,\n",
              " 11,\n",
              " 12,\n",
              " 13,\n",
              " 14,\n",
              " 15,\n",
              " 16,\n",
              " 17,\n",
              " 18,\n",
              " 19,\n",
              " 20,\n",
              " 21,\n",
              " 22,\n",
              " 23,\n",
              " 24,\n",
              " 25,\n",
              " 26,\n",
              " 27,\n",
              " 28,\n",
              " 29,\n",
              " 30,\n",
              " 31,\n",
              " 32,\n",
              " 33,\n",
              " 34,\n",
              " 35,\n",
              " 36,\n",
              " 37,\n",
              " 38,\n",
              " 39,\n",
              " 40,\n",
              " 41,\n",
              " 42,\n",
              " 43,\n",
              " 44,\n",
              " 45,\n",
              " 46,\n",
              " 47,\n",
              " 48,\n",
              " 49,\n",
              " 50,\n",
              " 51,\n",
              " 52,\n",
              " 53,\n",
              " 54,\n",
              " 55,\n",
              " 56,\n",
              " 57,\n",
              " 58,\n",
              " 59,\n",
              " 60,\n",
              " 61,\n",
              " 62,\n",
              " 63,\n",
              " 64,\n",
              " 65,\n",
              " 66,\n",
              " 67,\n",
              " 68,\n",
              " 69,\n",
              " 70,\n",
              " 71,\n",
              " 72,\n",
              " 73,\n",
              " 74,\n",
              " 75,\n",
              " 76,\n",
              " 77,\n",
              " 78,\n",
              " 79,\n",
              " 80,\n",
              " 81,\n",
              " 82,\n",
              " 83,\n",
              " 84,\n",
              " 85,\n",
              " 86,\n",
              " 87,\n",
              " 88,\n",
              " 89,\n",
              " 90,\n",
              " 91,\n",
              " 92,\n",
              " 93,\n",
              " 94,\n",
              " 95,\n",
              " 96,\n",
              " 97,\n",
              " 98,\n",
              " 99]"
            ]
          },
          "metadata": {},
          "execution_count": 39
        }
      ]
    },
    {
      "cell_type": "code",
      "source": [
        "list(range(2,21,2))"
      ],
      "metadata": {
        "colab": {
          "base_uri": "https://localhost:8080/"
        },
        "id": "mL9eCsZqvxx3",
        "outputId": "fff2f703-390b-476c-8d07-eba00da16a92"
      },
      "execution_count": null,
      "outputs": [
        {
          "output_type": "execute_result",
          "data": {
            "text/plain": [
              "[2, 4, 6, 8, 10, 12, 14, 16, 18, 20]"
            ]
          },
          "metadata": {},
          "execution_count": 40
        }
      ]
    },
    {
      "cell_type": "code",
      "source": [
        "for n in range(1,11):\n",
        "    print(n)"
      ],
      "metadata": {
        "colab": {
          "base_uri": "https://localhost:8080/"
        },
        "id": "EQVT8G-XfGTL",
        "outputId": "c94fdc00-d65b-4f8e-a20f-fc0781c9e6cf"
      },
      "execution_count": null,
      "outputs": [
        {
          "output_type": "stream",
          "name": "stdout",
          "text": [
            "1\n",
            "2\n",
            "3\n",
            "4\n",
            "5\n",
            "6\n",
            "7\n",
            "8\n",
            "9\n",
            "10\n"
          ]
        }
      ]
    },
    {
      "cell_type": "code",
      "source": [
        "for n in range(10,11):\n",
        "    print(n)"
      ],
      "metadata": {
        "colab": {
          "base_uri": "https://localhost:8080/"
        },
        "id": "LCeWUrtLfGVo",
        "outputId": "11b017d1-a0d2-4b05-ac46-591d18160ccd"
      },
      "execution_count": null,
      "outputs": [
        {
          "output_type": "stream",
          "name": "stdout",
          "text": [
            "10\n"
          ]
        }
      ]
    },
    {
      "cell_type": "code",
      "source": [
        "for n in range(1,11):\n",
        "    print(f\"{2} X {n} = {n*2}\")"
      ],
      "metadata": {
        "colab": {
          "base_uri": "https://localhost:8080/"
        },
        "id": "EZvOfctD1V0I",
        "outputId": "47744966-1b76-4091-cbef-1d1485f59b57"
      },
      "execution_count": null,
      "outputs": [
        {
          "output_type": "stream",
          "name": "stdout",
          "text": [
            "2 X 1 = 2\n",
            "2 X 2 = 4\n",
            "2 X 3 = 6\n",
            "2 X 4 = 8\n",
            "2 X 5 = 10\n",
            "2 X 6 = 12\n",
            "2 X 7 = 14\n",
            "2 X 8 = 16\n",
            "2 X 9 = 18\n",
            "2 X 10 = 20\n"
          ]
        }
      ]
    },
    {
      "cell_type": "code",
      "source": [
        "squares:list[int] = []\n",
        "for value in range(1, 11):\n",
        "    square = value ** 2\n",
        "    squares.append(square)\n",
        "print(squares)"
      ],
      "metadata": {
        "colab": {
          "base_uri": "https://localhost:8080/"
        },
        "id": "vjtR1sFz1V2v",
        "outputId": "b5416f99-ff95-4760-f2fb-b8aed99c6528"
      },
      "execution_count": null,
      "outputs": [
        {
          "output_type": "stream",
          "name": "stdout",
          "text": [
            "[1, 4, 9, 16, 25, 36, 49, 64, 81, 100]\n"
          ]
        }
      ]
    },
    {
      "cell_type": "markdown",
      "source": [
        "# List comprehensive\n",
        "\n",
        "    for item in items_list:  \n",
        "     loop_body\n",
        "#Comprehensive Style\n",
        "     [loop_body for item in items_list]\n",
        "  \n",
        "\n",
        "\n"
      ],
      "metadata": {
        "id": "EhvgaZn-7NVd"
      }
    },
    {
      "cell_type": "code",
      "source": [
        "list(range(1,11))"
      ],
      "metadata": {
        "colab": {
          "base_uri": "https://localhost:8080/"
        },
        "id": "rDikTVky1V5B",
        "outputId": "af81c066-f07b-4a4b-97cf-fd448fea1c0b"
      },
      "execution_count": null,
      "outputs": [
        {
          "output_type": "execute_result",
          "data": {
            "text/plain": [
              "[1, 2, 3, 4, 5, 6, 7, 8, 9, 10]"
            ]
          },
          "metadata": {},
          "execution_count": 45
        }
      ]
    },
    {
      "cell_type": "code",
      "source": [
        "for i in range(1,11):\n",
        "    print(i**2)"
      ],
      "metadata": {
        "colab": {
          "base_uri": "https://localhost:8080/"
        },
        "id": "RIoOFp1M1V7J",
        "outputId": "994ec0fc-4ed6-426d-f153-904f03ec6e74"
      },
      "execution_count": null,
      "outputs": [
        {
          "output_type": "stream",
          "name": "stdout",
          "text": [
            "1\n",
            "4\n",
            "9\n",
            "16\n",
            "25\n",
            "36\n",
            "49\n",
            "64\n",
            "81\n",
            "100\n"
          ]
        }
      ]
    },
    {
      "cell_type": "code",
      "source": [
        "[i**2 for i in range(1,11)]\n"
      ],
      "metadata": {
        "colab": {
          "base_uri": "https://localhost:8080/"
        },
        "id": "xgg6scna929s",
        "outputId": "9a9a459f-0718-4ce4-d432-a173fe910884"
      },
      "execution_count": null,
      "outputs": [
        {
          "output_type": "execute_result",
          "data": {
            "text/plain": [
              "[1, 4, 9, 16, 25, 36, 49, 64, 81, 100]"
            ]
          },
          "metadata": {},
          "execution_count": 49
        }
      ]
    },
    {
      "cell_type": "code",
      "source": [
        "'line1'\n",
        "'line2'\n",
        "'line3'"
      ],
      "metadata": {
        "colab": {
          "base_uri": "https://localhost:8080/",
          "height": 35
        },
        "id": "E6K74PdP_2Nf",
        "outputId": "71fdaa57-f4c5-4fea-8b5a-95a2c1752b33"
      },
      "execution_count": null,
      "outputs": [
        {
          "output_type": "execute_result",
          "data": {
            "text/plain": [
              "'line3'"
            ],
            "application/vnd.google.colaboratory.intrinsic+json": {
              "type": "string"
            }
          },
          "metadata": {},
          "execution_count": 50
        }
      ]
    },
    {
      "cell_type": "code",
      "source": [
        "print('line1')\n",
        "print('line2')\n",
        "print('line3')"
      ],
      "metadata": {
        "colab": {
          "base_uri": "https://localhost:8080/"
        },
        "id": "gIFXxBXH_2QZ",
        "outputId": "7fdc3e7e-e86f-4a35-9d85-8e58f40aca17"
      },
      "execution_count": null,
      "outputs": [
        {
          "output_type": "stream",
          "name": "stdout",
          "text": [
            "line1\n",
            "line2\n",
            "line3\n"
          ]
        }
      ]
    },
    {
      "cell_type": "code",
      "source": [
        "digits:list[int] = [1, 2, 3, 4, 5, 6, 7, 8, 9, 0]\n",
        "\n",
        "print(digits)\n",
        "print(max(digits))\n",
        "print(min(digits))\n",
        "print(sum(digits))"
      ],
      "metadata": {
        "colab": {
          "base_uri": "https://localhost:8080/"
        },
        "id": "IGtQQDawBSxx",
        "outputId": "1263ac65-ac05-40ad-bcdf-b508660d8289"
      },
      "execution_count": null,
      "outputs": [
        {
          "output_type": "stream",
          "name": "stdout",
          "text": [
            "[1, 2, 3, 4, 5, 6, 7, 8, 9, 0]\n",
            "9\n",
            "0\n",
            "45\n"
          ]
        }
      ]
    },
    {
      "cell_type": "code",
      "source": [
        "my_foods = ['pizza', 'falafel', 'carrot cake']\n",
        "friend_foods = my_foods[:] # deep copy\n",
        "\n",
        "print(my_foods)\n",
        "print(friend_foods)\n",
        "\n",
        "friend_foods[0] = \"Tikka\"\n",
        "\n",
        "print(my_foods)\n",
        "print(friend_foods)"
      ],
      "metadata": {
        "colab": {
          "base_uri": "https://localhost:8080/"
        },
        "id": "BpyD3hzUNq1c",
        "outputId": "71cf6050-c186-4cc8-daad-2190a65bfd95"
      },
      "execution_count": null,
      "outputs": [
        {
          "output_type": "stream",
          "name": "stdout",
          "text": [
            "['pizza', 'falafel', 'carrot cake']\n",
            "['pizza', 'falafel', 'carrot cake']\n",
            "['pizza', 'falafel', 'carrot cake']\n",
            "['Tikka', 'falafel', 'carrot cake']\n"
          ]
        }
      ]
    },
    {
      "cell_type": "markdown",
      "source": [
        "# Tuples"
      ],
      "metadata": {
        "id": "AlLvdhDyOfuj"
      }
    },
    {
      "cell_type": "code",
      "source": [
        "names:tuple[str] = ('A',\"B\",'C')\n",
        "print(names[0])\n",
        "print(names[0:2])"
      ],
      "metadata": {
        "colab": {
          "base_uri": "https://localhost:8080/"
        },
        "id": "ycJXIRo2OhAJ",
        "outputId": "ca591dbc-d2fb-4abc-bc07-46fdb1b4afcd"
      },
      "execution_count": null,
      "outputs": [
        {
          "output_type": "stream",
          "name": "stdout",
          "text": [
            "A\n",
            "('A', 'B')\n"
          ]
        }
      ]
    },
    {
      "cell_type": "code",
      "source": [
        "names:tuple[str] = ('A',\"B\",'C')\n",
        "\n",
        "names[0] = \"Pakistan\""
      ],
      "metadata": {
        "colab": {
          "base_uri": "https://localhost:8080/",
          "height": 176
        },
        "id": "7yHN8Jt0OhDR",
        "outputId": "e922cffa-92ac-4bc2-8c73-2dc47c947eb9"
      },
      "execution_count": null,
      "outputs": [
        {
          "output_type": "error",
          "ename": "TypeError",
          "evalue": "'tuple' object does not support item assignment",
          "traceback": [
            "\u001b[0;31m---------------------------------------------------------------------------\u001b[0m",
            "\u001b[0;31mTypeError\u001b[0m                                 Traceback (most recent call last)",
            "\u001b[0;32m<ipython-input-55-3038e564e74f>\u001b[0m in \u001b[0;36m<cell line: 3>\u001b[0;34m()\u001b[0m\n\u001b[1;32m      1\u001b[0m \u001b[0mnames\u001b[0m\u001b[0;34m:\u001b[0m\u001b[0mtuple\u001b[0m\u001b[0;34m[\u001b[0m\u001b[0mstr\u001b[0m\u001b[0;34m]\u001b[0m \u001b[0;34m=\u001b[0m \u001b[0;34m(\u001b[0m\u001b[0;34m'A'\u001b[0m\u001b[0;34m,\u001b[0m\u001b[0;34m\"B\"\u001b[0m\u001b[0;34m,\u001b[0m\u001b[0;34m'C'\u001b[0m\u001b[0;34m)\u001b[0m\u001b[0;34m\u001b[0m\u001b[0;34m\u001b[0m\u001b[0m\n\u001b[1;32m      2\u001b[0m \u001b[0;34m\u001b[0m\u001b[0m\n\u001b[0;32m----> 3\u001b[0;31m \u001b[0mnames\u001b[0m\u001b[0;34m[\u001b[0m\u001b[0;36m0\u001b[0m\u001b[0;34m]\u001b[0m \u001b[0;34m=\u001b[0m \u001b[0;34m\"Pakistan\"\u001b[0m\u001b[0;34m\u001b[0m\u001b[0;34m\u001b[0m\u001b[0m\n\u001b[0m",
            "\u001b[0;31mTypeError\u001b[0m: 'tuple' object does not support item assignment"
          ]
        }
      ]
    },
    {
      "cell_type": "code",
      "source": [
        "names:tuple[str] = ('A',\"B\",'C')\n",
        "\n",
        "names:tuple[str] = ('Pakistan',\"B\",'C')\n",
        "\n",
        "print(names)"
      ],
      "metadata": {
        "colab": {
          "base_uri": "https://localhost:8080/"
        },
        "id": "ebS-hvbgO-3A",
        "outputId": "19a07681-8470-457b-d40b-9c87f0d7cc28"
      },
      "execution_count": null,
      "outputs": [
        {
          "output_type": "stream",
          "name": "stdout",
          "text": [
            "('Pakistan', 'B', 'C')\n"
          ]
        }
      ]
    },
    {
      "cell_type": "code",
      "source": [
        "from typing import Any\n",
        "data : tuple[Any] = (\"A\",[1,2,3], True)\n",
        "\n",
        "print(data)"
      ],
      "metadata": {
        "colab": {
          "base_uri": "https://localhost:8080/"
        },
        "id": "yzyuDn7MPDdI",
        "outputId": "cc0ad2b4-59b4-442a-a5cd-9d4ef2eb0395"
      },
      "execution_count": null,
      "outputs": [
        {
          "output_type": "stream",
          "name": "stdout",
          "text": [
            "('A', [1, 2, 3], True)\n"
          ]
        }
      ]
    },
    {
      "cell_type": "code",
      "source": [
        "from typing import Any\n",
        "data : tuple[Any] = (\"A\",[1,2,3], True)\n",
        "\n",
        "print(data)"
      ],
      "metadata": {
        "colab": {
          "base_uri": "https://localhost:8080/"
        },
        "id": "RNM-78C6PDgJ",
        "outputId": "90bb403e-20de-4742-a98a-cfe782e2bd85"
      },
      "execution_count": null,
      "outputs": [
        {
          "output_type": "stream",
          "name": "stdout",
          "text": [
            "('A', [1, 2, 3], True)\n"
          ]
        }
      ]
    },
    {
      "cell_type": "code",
      "source": [
        "data : tuple[Any] = (\"A\",[1,2,3], True)\n",
        "\n",
        "print(data[1])\n",
        "data[1].append(20)\n",
        "print(data)"
      ],
      "metadata": {
        "colab": {
          "base_uri": "https://localhost:8080/"
        },
        "id": "zBQMcCm7PDkf",
        "outputId": "c69d4fed-c652-48dc-b7fd-836fa8cebf96"
      },
      "execution_count": null,
      "outputs": [
        {
          "output_type": "stream",
          "name": "stdout",
          "text": [
            "[1, 2, 3]\n",
            "('A', [1, 2, 3, 20], True)\n"
          ]
        }
      ]
    },
    {
      "cell_type": "code",
      "source": [
        "a  = input(\"abc\") # return string type\n",
        "print(type(a))\n",
        "print(a)\n"
      ],
      "metadata": {
        "colab": {
          "base_uri": "https://localhost:8080/"
        },
        "id": "HuykX-HoRF96",
        "outputId": "7c761ddb-728f-42ca-db8e-a77e16fe24c3"
      },
      "execution_count": null,
      "outputs": [
        {
          "output_type": "stream",
          "name": "stdout",
          "text": [
            "abc123\n",
            "<class 'str'>\n",
            "123\n"
          ]
        }
      ]
    },
    {
      "cell_type": "code",
      "source": [
        "sorted([7,8,1,3])"
      ],
      "metadata": {
        "colab": {
          "base_uri": "https://localhost:8080/"
        },
        "id": "E_tDpv3nRRFp",
        "outputId": "3ef7e279-3eae-4d9d-9cf1-dc5da256263b"
      },
      "execution_count": null,
      "outputs": [
        {
          "output_type": "execute_result",
          "data": {
            "text/plain": [
              "[1, 3, 7, 8]"
            ]
          },
          "metadata": {},
          "execution_count": 65
        }
      ]
    }
  ]
}