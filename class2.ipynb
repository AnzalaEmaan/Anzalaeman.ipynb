{
  "nbformat": 4,
  "nbformat_minor": 0,
  "metadata": {
    "colab": {
      "provenance": []
    },
    "kernelspec": {
      "name": "python3",
      "display_name": "Python 3"
    },
    "language_info": {
      "name": "python"
    }
  },
  "cells": [
    {
      "cell_type": "code",
      "execution_count": null,
      "metadata": {
        "id": "NnJEjSe9gRe1",
        "colab": {
          "base_uri": "https://localhost:8080/"
        },
        "outputId": "03b82ecb-5407-466f-ddc5-03eae1e88ec2"
      },
      "outputs": [
        {
          "output_type": "stream",
          "name": "stdout",
          "text": [
            "name\n"
          ]
        }
      ],
      "source": [
        "print(\"name\")"
      ]
    },
    {
      "cell_type": "code",
      "source": [
        "print(name)"
      ],
      "metadata": {
        "colab": {
          "base_uri": "https://localhost:8080/",
          "height": 147
        },
        "id": "XpLfczJ9Q-4H",
        "outputId": "1b3a867e-b295-4356-f2a1-920ac4d96f71"
      },
      "execution_count": null,
      "outputs": [
        {
          "output_type": "error",
          "ename": "NameError",
          "evalue": "name 'name' is not defined",
          "traceback": [
            "\u001b[0;31m---------------------------------------------------------------------------\u001b[0m",
            "\u001b[0;31mNameError\u001b[0m                                 Traceback (most recent call last)",
            "\u001b[0;32m<ipython-input-2-9ba126b17b03>\u001b[0m in \u001b[0;36m<cell line: 1>\u001b[0;34m()\u001b[0m\n\u001b[0;32m----> 1\u001b[0;31m \u001b[0mprint\u001b[0m\u001b[0;34m(\u001b[0m\u001b[0mname\u001b[0m\u001b[0;34m)\u001b[0m\u001b[0;34m\u001b[0m\u001b[0;34m\u001b[0m\u001b[0m\n\u001b[0m",
            "\u001b[0;31mNameError\u001b[0m: name 'name' is not defined"
          ]
        }
      ]
    },
    {
      "cell_type": "code",
      "source": [
        "name : str = \"Muhammad Qasim\"\n",
        "print(name)"
      ],
      "metadata": {
        "colab": {
          "base_uri": "https://localhost:8080/"
        },
        "id": "5p_WAI0lRLeT",
        "outputId": "1eca5bb6-f289-4ee8-a357-084ab8ad5d52"
      },
      "execution_count": null,
      "outputs": [
        {
          "output_type": "stream",
          "name": "stdout",
          "text": [
            "Muhammad Qasim\n"
          ]
        }
      ]
    },
    {
      "cell_type": "markdown",
      "source": [
        "String Data type in python"
      ],
      "metadata": {
        "id": "QZGo44rfReET"
      }
    },
    {
      "cell_type": "code",
      "source": [
        "name : str = \"Muhammad Qasim\"\n",
        "print(type(name))\n",
        "print(name)"
      ],
      "metadata": {
        "colab": {
          "base_uri": "https://localhost:8080/"
        },
        "id": "KSN4nE4-RifT",
        "outputId": "5c015e20-b040-4f88-ae3a-01372b2921da"
      },
      "execution_count": null,
      "outputs": [
        {
          "output_type": "stream",
          "name": "stdout",
          "text": [
            "<class 'str'>\n",
            "Muhammad Qasim\n"
          ]
        }
      ]
    },
    {
      "cell_type": "code",
      "source": [
        "name : str = 'Muhammad Qasim'\n",
        "print(type(name))\n",
        "print(name)"
      ],
      "metadata": {
        "colab": {
          "base_uri": "https://localhost:8080/"
        },
        "id": "tPjuc6_4SDcp",
        "outputId": "a9ae1f1b-142e-4df6-f4a6-81d8b7a638df"
      },
      "execution_count": null,
      "outputs": [
        {
          "output_type": "stream",
          "name": "stdout",
          "text": [
            "<class 'str'>\n",
            "Muhammad Qasim\n"
          ]
        }
      ]
    },
    {
      "cell_type": "code",
      "source": [
        "message : str = 'PIAIC Student Card \\n father's Name'\n",
        "print(message)"
      ],
      "metadata": {
        "colab": {
          "base_uri": "https://localhost:8080/",
          "height": 110
        },
        "id": "EfYyt5SXSMf6",
        "outputId": "fd5bae33-af98-465d-ee85-8b7899c93778"
      },
      "execution_count": null,
      "outputs": [
        {
          "output_type": "error",
          "ename": "SyntaxError",
          "evalue": "unterminated string literal (detected at line 1) (<ipython-input-6-7d1b74a8ae9c>, line 1)",
          "traceback": [
            "\u001b[0;36m  File \u001b[0;32m\"<ipython-input-6-7d1b74a8ae9c>\"\u001b[0;36m, line \u001b[0;32m1\u001b[0m\n\u001b[0;31m    message : str = 'PIAIC Student Card \\n father's Name'\u001b[0m\n\u001b[0m                                                        ^\u001b[0m\n\u001b[0;31mSyntaxError\u001b[0m\u001b[0;31m:\u001b[0m unterminated string literal (detected at line 1)\n"
          ]
        }
      ]
    },
    {
      "cell_type": "code",
      "source": [
        "message : str = \"PIAIC Student Card \\n father's Name\"\n",
        "print(message)"
      ],
      "metadata": {
        "colab": {
          "base_uri": "https://localhost:8080/"
        },
        "id": "Wah-I_m-SQ6x",
        "outputId": "f361d7c5-8421-4237-c924-b2106e97a53d"
      },
      "execution_count": null,
      "outputs": [
        {
          "output_type": "stream",
          "name": "stdout",
          "text": [
            "PIAIC Student Card \n",
            " father's Name\n"
          ]
        }
      ]
    },
    {
      "cell_type": "code",
      "source": [
        "message : str = 'PIAIC \"Student Card\" \\n father Name'\n",
        "print(message)"
      ],
      "metadata": {
        "colab": {
          "base_uri": "https://localhost:8080/"
        },
        "id": "DMrNOoEBSdlI",
        "outputId": "c9407a32-6d14-4366-95c5-d23b946ca6b5"
      },
      "execution_count": null,
      "outputs": [
        {
          "output_type": "stream",
          "name": "stdout",
          "text": [
            "PIAIC \"Student Card\" \n",
            " father Name\n"
          ]
        }
      ]
    },
    {
      "cell_type": "code",
      "source": [
        "message : str = 'PIAIC Student Card \\n father\\'s Name'\n",
        "print(message)"
      ],
      "metadata": {
        "colab": {
          "base_uri": "https://localhost:8080/"
        },
        "id": "Gy6LFYtJSxN4",
        "outputId": "bd91222d-145d-4566-e6a2-3b80c894a9ec"
      },
      "execution_count": null,
      "outputs": [
        {
          "output_type": "stream",
          "name": "stdout",
          "text": [
            "PIAIC Student Card \n",
            " father's Name\n"
          ]
        }
      ]
    },
    {
      "cell_type": "code",
      "source": [
        "message : str = \"PIAIC Student Card \\n father's Name\"\n",
        "print(message)"
      ],
      "metadata": {
        "colab": {
          "base_uri": "https://localhost:8080/"
        },
        "id": "UUWIHN7bSxRn",
        "outputId": "d31c3c73-e757-44e4-c246-269a945e4c48"
      },
      "execution_count": null,
      "outputs": [
        {
          "output_type": "stream",
          "name": "stdout",
          "text": [
            "PIAIC Student Card \n",
            " father's Name\n"
          ]
        }
      ]
    },
    {
      "cell_type": "code",
      "source": [
        "\"a\" + \"b\" + \"c\""
      ],
      "metadata": {
        "colab": {
          "base_uri": "https://localhost:8080/",
          "height": 36
        },
        "id": "AsBEhiiOTWKe",
        "outputId": "58b8fa93-7091-43b4-ed97-525d607d157f"
      },
      "execution_count": null,
      "outputs": [
        {
          "output_type": "execute_result",
          "data": {
            "text/plain": [
              "'abc'"
            ],
            "application/vnd.google.colaboratory.intrinsic+json": {
              "type": "string"
            }
          },
          "metadata": {},
          "execution_count": 12
        }
      ]
    },
    {
      "cell_type": "code",
      "source": [
        "\"a\" + \"7\""
      ],
      "metadata": {
        "colab": {
          "base_uri": "https://localhost:8080/",
          "height": 36
        },
        "id": "34ign1PVTpZ0",
        "outputId": "d7eceef2-f921-48ce-b1a2-32068e820f6b"
      },
      "execution_count": null,
      "outputs": [
        {
          "output_type": "execute_result",
          "data": {
            "text/plain": [
              "'a7'"
            ],
            "application/vnd.google.colaboratory.intrinsic+json": {
              "type": "string"
            }
          },
          "metadata": {},
          "execution_count": 13
        }
      ]
    },
    {
      "cell_type": "code",
      "source": [
        "name : str = 'Muhammad Qasim'\n",
        "fname : str = \"Muhammad Aslam\"\n",
        "education : str = \"Master in Data Science\"\n",
        "age : int = 30\n",
        "card : str = \"PIAIC Student Card\\nStudent Name: \" + name\n",
        "print(card)\n"
      ],
      "metadata": {
        "colab": {
          "base_uri": "https://localhost:8080/"
        },
        "id": "O61BhhwJVrH2",
        "outputId": "7145bfe0-da31-4fb1-f55f-ff86c4dd8bcb"
      },
      "execution_count": null,
      "outputs": [
        {
          "output_type": "stream",
          "name": "stdout",
          "text": [
            "PIAIC Student Card\n",
            "Student Name: Muhammad Qasim\n"
          ]
        }
      ]
    },
    {
      "cell_type": "code",
      "source": [
        "name : str = 'Muhammad Qasim'\n",
        "fname : str = \"Muhammad Aslam\"\n",
        "education : str = \"Master in Data Science\"\n",
        "age : int = 30\n",
        "\n",
        "card : str = \"PIAIC Student Card\\nStudent Name: \" + name + \"\\nAge:\" + str(age)\n",
        "\n",
        "print(card)"
      ],
      "metadata": {
        "colab": {
          "base_uri": "https://localhost:8080/"
        },
        "id": "Sqq34iwpV8Re",
        "outputId": "59fab273-4f61-4f28-d7fa-80fe34f41c9a"
      },
      "execution_count": null,
      "outputs": [
        {
          "output_type": "stream",
          "name": "stdout",
          "text": [
            "PIAIC Student Card\n",
            "Student Name: Muhammad Qasim\n",
            "Age:30\n"
          ]
        }
      ]
    },
    {
      "cell_type": "code",
      "source": [
        "name : str = 'Muhammad Qasim'\n",
        "fname : str = \"Muhammad Aslam\"\n",
        "education : str = \"Master in Data Science\"\n",
        "age : int = 30\n",
        "\n",
        "card : str = \"PIAIC Student Card\\nStudent Name: \" + name + \"\\nAge:\" + str(age) + \"\\neducation: \" + str(education)\n",
        "\n",
        "print(card)"
      ],
      "metadata": {
        "id": "4E9JvNm5WN0U",
        "colab": {
          "base_uri": "https://localhost:8080/"
        },
        "outputId": "8e2cae90-4359-4b42-a3dd-9d0fe3732d3a"
      },
      "execution_count": null,
      "outputs": [
        {
          "output_type": "stream",
          "name": "stdout",
          "text": [
            "PIAIC Student Card\n",
            "Student Name: Muhammad Qasim\n",
            "Age:30\n",
            "education: Master in Data Science\n"
          ]
        }
      ]
    },
    {
      "cell_type": "code",
      "source": [
        "print(7 + 8 + 2)"
      ],
      "metadata": {
        "colab": {
          "base_uri": "https://localhost:8080/"
        },
        "id": "qzf1eRqlgYFK",
        "outputId": "a63c60ef-ffae-4f0a-fa4e-76518a00b622"
      },
      "execution_count": null,
      "outputs": [
        {
          "output_type": "stream",
          "name": "stdout",
          "text": [
            "17\n"
          ]
        }
      ]
    },
    {
      "cell_type": "markdown",
      "source": [
        "# back slash line continue"
      ],
      "metadata": {
        "id": "JRLKH-8dg20P"
      }
    },
    {
      "cell_type": "code",
      "source": [
        "print(7 + \\\n",
        "      8 + \\\n",
        "        2)"
      ],
      "metadata": {
        "colab": {
          "base_uri": "https://localhost:8080/"
        },
        "id": "gxlqyfunhDCO",
        "outputId": "2062e576-268c-48a8-f64e-d1e53f70fe61"
      },
      "execution_count": null,
      "outputs": [
        {
          "output_type": "stream",
          "name": "stdout",
          "text": [
            "17\n"
          ]
        }
      ]
    },
    {
      "cell_type": "code",
      "source": [
        "name : str = 'Muhammad Qasim'\n",
        "fname : str = \"Muhammad Aslam\"\n",
        "education : str = \"Master in Data Science\"\n",
        "age : int = 30\n",
        "\n",
        "card : str = \"PIAIC Student Card\\nStudent Name: \" + name +\\\n",
        "\"\\nAge:\" + str(age)+ \"\\n\"+\\\n",
        "\"Education: \" + education\n",
        "\n",
        "print(card)"
      ],
      "metadata": {
        "colab": {
          "base_uri": "https://localhost:8080/"
        },
        "id": "dSNizs9ahId8",
        "outputId": "160f6d09-62d2-4955-c37e-fad4dc712ee6"
      },
      "execution_count": null,
      "outputs": [
        {
          "output_type": "stream",
          "name": "stdout",
          "text": [
            "PIAIC Student Card\n",
            "Student Name: Muhammad Qasim\n",
            "Age:30\n",
            "Education: Master in Data Science\n"
          ]
        }
      ]
    },
    {
      "cell_type": "markdown",
      "source": [
        "# Define multiline string \"\"\" \"\"\", ''' '''"
      ],
      "metadata": {
        "id": "V5DK0pywmBMK"
      }
    },
    {
      "cell_type": "code",
      "source": [
        "name : str = 'Muhammad Qasim'\n",
        "fname : str = \"Muhammad Aslam\"\n",
        "education : str = \"Master in Data Science\"\n",
        "age : int = 30\n",
        "\n",
        "\n",
        "card : str = \"\"\"\n",
        "PIAIC Student Card\n",
        "Student Name :.....\n",
        "Father's Name:.....\n",
        "Age: ......\n",
        "Education : .....\n",
        "\"\"\"\n",
        "\n",
        "print(card)"
      ],
      "metadata": {
        "colab": {
          "base_uri": "https://localhost:8080/"
        },
        "id": "eQRkpcwrlysG",
        "outputId": "3e509471-6302-4b9e-9b74-d8f3d854d795"
      },
      "execution_count": null,
      "outputs": [
        {
          "output_type": "stream",
          "name": "stdout",
          "text": [
            "\n",
            "PIAIC Student Card\n",
            "Student Name :..... \n",
            "Father's Name:..... \n",
            "Age: ......\n",
            "Education : .....\n",
            "\n"
          ]
        }
      ]
    },
    {
      "cell_type": "markdown",
      "source": [
        "# F-string pthon"
      ],
      "metadata": {
        "id": "z6beeIQvmERt"
      }
    },
    {
      "cell_type": "code",
      "source": [
        "name : str = 'Muhammad Qasim'\n",
        "fname : str = \"Muhammad Aslam\"\n",
        "education : str = \"Master in Data Science\"\n",
        "age : int = 30\n",
        "\n",
        "\n",
        "card : str = f\"\"\"\n",
        "PIAIC Student Card\n",
        "Student Name : {name}\n",
        "Father's Name: {fname}\n",
        "Age: {age}\n",
        "Education : {education}\n",
        "\"\"\"\n",
        "print(card)"
      ],
      "metadata": {
        "colab": {
          "base_uri": "https://localhost:8080/"
        },
        "id": "0ZXR3mkgmH8-",
        "outputId": "bfd2c7b3-14a3-42d5-a622-36892126b7f1"
      },
      "execution_count": null,
      "outputs": [
        {
          "output_type": "stream",
          "name": "stdout",
          "text": [
            "\n",
            "PIAIC Student Card\n",
            "Student Name : Muhammad Qasim\n",
            "Father's Name: Muhammad Aslam\n",
            "Age: 30\n",
            "Education : Master in Data Science\n",
            "\n"
          ]
        }
      ]
    },
    {
      "cell_type": "code",
      "source": [
        "name : str = 'Muhammad Qasim'\n",
        "fname : str = \"Muhammad Aslam\"\n",
        "education : str = \"Master in Data Science\"\n",
        "age : int = 30\n",
        "\n",
        "\n",
        "card : str = f'''\n",
        "PIAIC Student Card\n",
        "Student Name : {name}\n",
        "Father's Name: {fname}\n",
        "Age: {age}\n",
        "Education : {education}\n",
        "'''\n",
        "print(card)"
      ],
      "metadata": {
        "colab": {
          "base_uri": "https://localhost:8080/"
        },
        "id": "14pQ8rYxwMYd",
        "outputId": "3474eddf-cfc5-4ac3-ceb6-2f6eb9b4c043"
      },
      "execution_count": null,
      "outputs": [
        {
          "output_type": "stream",
          "name": "stdout",
          "text": [
            "\n",
            "PIAIC Student Card\n",
            "Student Name : Muhammad Qasim\n",
            "Father's Name: Muhammad Aslam\n",
            "Age: 30\n",
            "Education : Master in Data Science\n",
            "\n"
          ]
        }
      ]
    },
    {
      "cell_type": "code",
      "source": [
        "name : str = 'Muhammad Qasim'\n",
        "fname : str = \"Muhammad Aslam\"\n",
        "education : str = \"Master in Data Science\"\n",
        "age : int = 30\n",
        "\n",
        "\n",
        "card : str = `\n",
        "PIAIC Student Card\n",
        "Student Name : {name}\n",
        "Father's Name: {fname}\n",
        "Age: {age}\n",
        "Education : {education}\n",
        "`\n",
        "\n",
        "print(card)"
      ],
      "metadata": {
        "colab": {
          "base_uri": "https://localhost:8080/",
          "height": 110
        },
        "id": "mipEmUjawTVH",
        "outputId": "ce1ac856-1bce-4d25-ed29-1bfb51085762"
      },
      "execution_count": null,
      "outputs": [
        {
          "output_type": "error",
          "ename": "SyntaxError",
          "evalue": "unterminated string literal (detected at line 10) (<ipython-input-31-f962ae3085c4>, line 10)",
          "traceback": [
            "\u001b[0;36m  File \u001b[0;32m\"<ipython-input-31-f962ae3085c4>\"\u001b[0;36m, line \u001b[0;32m10\u001b[0m\n\u001b[0;31m    Father's Name: {fname}\u001b[0m\n\u001b[0m          ^\u001b[0m\n\u001b[0;31mSyntaxError\u001b[0m\u001b[0;31m:\u001b[0m unterminated string literal (detected at line 10)\n"
          ]
        }
      ]
    },
    {
      "cell_type": "code",
      "source": [
        "name : str = 'Muhammad Qasim'\n",
        "fname : str = \"Muhammad Aslam\"\n",
        "education : str = \"Master in Data Science\"\n",
        "age : int = 30\n",
        "\n",
        "\n",
        "card : str = f\"\"\"\n",
        "PIAIC Student Card\n",
        "Student Name : {name}\n",
        "Father's Name: {fname}\n",
        "Age: {age}\n",
        "Education : {education}\n",
        "\n",
        "Total {2 + 8 + 9 + 3}\n",
        "\"\"\"\n",
        "\n",
        "print(card)"
      ],
      "metadata": {
        "colab": {
          "base_uri": "https://localhost:8080/"
        },
        "id": "lfP6QTHmx3cE",
        "outputId": "ea120350-453d-4b5d-ddc7-35d5db93caff"
      },
      "execution_count": null,
      "outputs": [
        {
          "output_type": "stream",
          "name": "stdout",
          "text": [
            "\n",
            "PIAIC Student Card\n",
            "Student Name : Muhammad Qasim\n",
            "Father's Name: Muhammad Aslam\n",
            "Age: 30\n",
            "Education : Master in Data Science\n",
            "\n",
            "Total 22\n",
            "\n"
          ]
        }
      ]
    },
    {
      "cell_type": "markdown",
      "source": [
        "# F-string and Jinja style"
      ],
      "metadata": {
        "id": "N-QfU89gx8Rw"
      }
    },
    {
      "cell_type": "code",
      "source": [
        "f\"\"\"\n",
        "student name {name}\n",
        "\"\"\""
      ],
      "metadata": {
        "colab": {
          "base_uri": "https://localhost:8080/",
          "height": 36
        },
        "id": "KcVuyMsTx9Vn",
        "outputId": "9dcc078e-b984-408e-ab76-30a41c2e1cb5"
      },
      "execution_count": null,
      "outputs": [
        {
          "output_type": "execute_result",
          "data": {
            "text/plain": [
              "'\\nstudent name Muhammad Qasim\\n'"
            ],
            "application/vnd.google.colaboratory.intrinsic+json": {
              "type": "string"
            }
          },
          "metadata": {},
          "execution_count": 33
        }
      ]
    },
    {
      "cell_type": "code",
      "source": [
        "\"\"\"\n",
        "student name {{name}}\n",
        "\"\"\""
      ],
      "metadata": {
        "colab": {
          "base_uri": "https://localhost:8080/",
          "height": 36
        },
        "id": "PGuHcJ2uylBt",
        "outputId": "f637d869-cd65-467d-fb30-fcce16512c51"
      },
      "execution_count": null,
      "outputs": [
        {
          "output_type": "execute_result",
          "data": {
            "text/plain": [
              "'\\nstudent name {{name}}\\n'"
            ],
            "application/vnd.google.colaboratory.intrinsic+json": {
              "type": "string"
            }
          },
          "metadata": {},
          "execution_count": 34
        }
      ]
    },
    {
      "cell_type": "code",
      "source": [
        "name : str = 'Muhammad Qasim'\n",
        "fname : str = \"Muhammad Aslam\"\n",
        "education : str = \"Master in Data Science\"\n",
        "age : int = 30\n",
        "\n",
        "\n",
        "card : str = f\"\"\"\n",
        "PIAIC Student Card\n",
        "Student Name : %s\n",
        "Father's Name: %s\n",
        "Age: %d\n",
        "Education : %s\n",
        "\n",
        "\"\"\" % (name, fname, age, education)\n",
        "\n",
        "print(card)"
      ],
      "metadata": {
        "colab": {
          "base_uri": "https://localhost:8080/"
        },
        "id": "sVcc0AZVzC7r",
        "outputId": "6ea44a9d-32fd-444b-f816-1ae0a82e2124"
      },
      "execution_count": null,
      "outputs": [
        {
          "output_type": "stream",
          "name": "stdout",
          "text": [
            "\n",
            "PIAIC Student Card\n",
            "Student Name : Muhammad Qasim\n",
            "Father's Name: Muhammad Aslam\n",
            "Age: 30\n",
            "Education : Master in Data Science\n",
            "\n",
            "\n"
          ]
        }
      ]
    },
    {
      "cell_type": "code",
      "source": [
        "[i for i in dir(str) if \"__\" not in i]"
      ],
      "metadata": {
        "colab": {
          "base_uri": "https://localhost:8080/"
        },
        "id": "yFs_BCaB03Ru",
        "outputId": "7b5e962b-6f8e-4789-8199-69bdd701d0cc"
      },
      "execution_count": null,
      "outputs": [
        {
          "output_type": "execute_result",
          "data": {
            "text/plain": [
              "['capitalize',\n",
              " 'casefold',\n",
              " 'center',\n",
              " 'count',\n",
              " 'encode',\n",
              " 'endswith',\n",
              " 'expandtabs',\n",
              " 'find',\n",
              " 'format',\n",
              " 'format_map',\n",
              " 'index',\n",
              " 'isalnum',\n",
              " 'isalpha',\n",
              " 'isascii',\n",
              " 'isdecimal',\n",
              " 'isdigit',\n",
              " 'isidentifier',\n",
              " 'islower',\n",
              " 'isnumeric',\n",
              " 'isprintable',\n",
              " 'isspace',\n",
              " 'istitle',\n",
              " 'isupper',\n",
              " 'join',\n",
              " 'ljust',\n",
              " 'lower',\n",
              " 'lstrip',\n",
              " 'maketrans',\n",
              " 'partition',\n",
              " 'removeprefix',\n",
              " 'removesuffix',\n",
              " 'replace',\n",
              " 'rfind',\n",
              " 'rindex',\n",
              " 'rjust',\n",
              " 'rpartition',\n",
              " 'rsplit',\n",
              " 'rstrip',\n",
              " 'split',\n",
              " 'splitlines',\n",
              " 'startswith',\n",
              " 'strip',\n",
              " 'swapcase',\n",
              " 'title',\n",
              " 'translate',\n",
              " 'upper',\n",
              " 'zfill']"
            ]
          },
          "metadata": {},
          "execution_count": 38
        }
      ]
    },
    {
      "cell_type": "code",
      "source": [
        "a = 7\n",
        "b = 8\n",
        "\"pakistan value a = {} and value b = {}\".format(a,b)"
      ],
      "metadata": {
        "colab": {
          "base_uri": "https://localhost:8080/",
          "height": 36
        },
        "id": "ZNvigbTa1dht",
        "outputId": "428e44e9-4488-4acb-903d-341ed2196cc4"
      },
      "execution_count": null,
      "outputs": [
        {
          "output_type": "execute_result",
          "data": {
            "text/plain": [
              "'pakistan value a = 7 and value b = 8'"
            ],
            "application/vnd.google.colaboratory.intrinsic+json": {
              "type": "string"
            }
          },
          "metadata": {},
          "execution_count": 39
        }
      ]
    },
    {
      "cell_type": "code",
      "source": [
        "\n",
        "\"pakistan value a = {} and value b = {}\".format(a,b)"
      ],
      "metadata": {
        "colab": {
          "base_uri": "https://localhost:8080/",
          "height": 36
        },
        "id": "o7v1xzwe1kqc",
        "outputId": "366c645d-0e75-478a-e9ec-e1e42f02dc05"
      },
      "execution_count": null,
      "outputs": [
        {
          "output_type": "execute_result",
          "data": {
            "text/plain": [
              "'pakistan value a = 7 and value b = 8'"
            ],
            "application/vnd.google.colaboratory.intrinsic+json": {
              "type": "string"
            }
          },
          "metadata": {},
          "execution_count": 40
        }
      ]
    },
    {
      "cell_type": "code",
      "source": [
        "name : str = \"MUhAMMad QaSiM\"\n",
        "\n",
        "print(name.capitalize())\n",
        "print(name.lower())"
      ],
      "metadata": {
        "colab": {
          "base_uri": "https://localhost:8080/"
        },
        "id": "HFOSmFUz1tu8",
        "outputId": "59ba2d9d-e370-42b9-dc80-53a8abfd849b"
      },
      "execution_count": null,
      "outputs": [
        {
          "output_type": "stream",
          "name": "stdout",
          "text": [
            "Muhammad qasim\n",
            "muhammad qasim\n"
          ]
        }
      ]
    },
    {
      "cell_type": "code",
      "source": [
        "name : str = 'Muhammad Qasim'\n",
        "fname : str = \"Muhammad Aslam\"\n",
        "education : str = \"Master in Data Science\"\n",
        "age : int = 30\n",
        "\n",
        "\n",
        "card : str = f\"\"\"\n",
        "PIAIC Student Card\n",
        "Student Name : {name}\n",
        "Father's Name: {fname}\n",
        "Age: {age}\n",
        "Education : {education}\n",
        "\n",
        "Total {2 + 8 + 9 + 3}\n",
        "\"\"\"\n",
        "print(card)\n"
      ],
      "metadata": {
        "colab": {
          "base_uri": "https://localhost:8080/"
        },
        "id": "RFJvQoZf6eyV",
        "outputId": "b34a8b67-f39a-4330-f54d-b1e1c57dea55"
      },
      "execution_count": null,
      "outputs": [
        {
          "output_type": "stream",
          "name": "stdout",
          "text": [
            "\n",
            "PIAIC Student Card\n",
            "Student Name : Muhammad Qasim\n",
            "Father's Name: Muhammad Aslam\n",
            "Age: 30\n",
            "Education : Master in Data Science\n",
            "\n",
            "Total 22\n",
            "\n"
          ]
        }
      ]
    },
    {
      "cell_type": "code",
      "source": [
        "name : str = 'Muhammad Qasim'\n",
        "fname : str = \"Muhammad Aslam\"\n",
        "education : str = \"Master in Data Science\"\n",
        "age : int = 30\n",
        "\n",
        "\n",
        "card : str = \"\"\"\n",
        "PIAIC Student Card\n",
        "Student Name : {}\n",
        "Father's Name: {}\n",
        "Age: {}\n",
        "Education : {}\n",
        "\"\"\".format(fname, name, education, age)\n",
        "print(card)\n"
      ],
      "metadata": {
        "colab": {
          "base_uri": "https://localhost:8080/"
        },
        "id": "md_t0soM7hIC",
        "outputId": "394ade2c-5f59-4ce7-cc61-4ecf5e124f6c"
      },
      "execution_count": null,
      "outputs": [
        {
          "output_type": "stream",
          "name": "stdout",
          "text": [
            "\n",
            "PIAIC Student Card\n",
            "Student Name : Muhammad Aslam\n",
            "Father's Name: Muhammad Qasim\n",
            "Age: Master in Data Science\n",
            "Education : 30\n",
            "\n"
          ]
        }
      ]
    },
    {
      "cell_type": "code",
      "source": [
        "name : str = 'Muhammad Qasim'\n",
        "fname : str = \"Muhammad Aslam\"\n",
        "education : str = \"Master in Data Science\"\n",
        "age : int = 30\n",
        "\n",
        "\n",
        "card : str = \"\"\"\n",
        "PIAIC Student Card\n",
        "Student Name : {a}\n",
        "Father's Name: {b}\n",
        "Age: {c}\n",
        "Education : {d}\n",
        "\"\"\".format(a=name, b=fname, c=age, d=education)\n",
        "\n",
        "\n",
        "print(card)"
      ],
      "metadata": {
        "colab": {
          "base_uri": "https://localhost:8080/"
        },
        "id": "_S9D1X7ia_tb",
        "outputId": "9ec77eab-e8ef-4336-f3b6-3e541907749d"
      },
      "execution_count": null,
      "outputs": [
        {
          "output_type": "stream",
          "name": "stdout",
          "text": [
            "\n",
            "PIAIC Student Card\n",
            "Student Name : Muhammad Qasim\n",
            "Father's Name: Muhammad Aslam\n",
            "Age: 30\n",
            "Education : Master in Data Science\n",
            "\n"
          ]
        }
      ]
    },
    {
      "cell_type": "markdown",
      "source": [
        "# Recommended below two f-string format"
      ],
      "metadata": {
        "id": "Avf_7kapbp-8"
      }
    },
    {
      "cell_type": "code",
      "source": [
        "name : str = 'Muhammad Qasim'\n",
        "fname : str = \"Muhammad Aslam\"\n",
        "education : str = \"Master in Data Science\"\n",
        "age : int = 30\n",
        "\n",
        "\n",
        "card : str = f\"\"\"\n",
        "PIAIC Student Card\n",
        "Student Name : {name}\n",
        "Father's Name: {fname}\n",
        "Age: {age}\n",
        "Education : {education}\n",
        "\"\"\"\n",
        "\n",
        "print(card)"
      ],
      "metadata": {
        "colab": {
          "base_uri": "https://localhost:8080/"
        },
        "id": "qhKzKzcIbusb",
        "outputId": "c3190a58-22e0-44ab-8f28-4f9a46e8d49d"
      },
      "execution_count": null,
      "outputs": [
        {
          "output_type": "stream",
          "name": "stdout",
          "text": [
            "\n",
            "PIAIC Student Card\n",
            "Student Name : Muhammad Qasim\n",
            "Father's Name: Muhammad Aslam\n",
            "Age: 30\n",
            "Education : Master in Data Science\n",
            "\n"
          ]
        }
      ]
    },
    {
      "cell_type": "code",
      "source": [
        "student_code : str = \"\"\"\n",
        "print(\"My Name is Muhammad Qasim\")\n",
        "a:int = 7\n",
        "b:int = 8\n",
        "print(a + b)\n",
        "\"\"\"\n",
        "\n",
        "exec(student_code)"
      ],
      "metadata": {
        "colab": {
          "base_uri": "https://localhost:8080/"
        },
        "id": "sNFI1ZoffV1m",
        "outputId": "1d77c31f-bbb7-4b5c-b539-ad1528109c5b"
      },
      "execution_count": null,
      "outputs": [
        {
          "output_type": "stream",
          "name": "stdout",
          "text": [
            "My Name is Muhammad Qasim\n",
            "15\n"
          ]
        }
      ]
    },
    {
      "cell_type": "markdown",
      "source": [
        "# Explore String methods and attributes\n",
        "\n",
        "1.  pre-define global function we have used\n",
        "\n",
        "* print\n",
        "* type\n",
        "* id  \n",
        "* dir\n",
        "* len  \n",
        "\n",
        "\n",
        "\n",
        "\n",
        "\n",
        "\n",
        "\n"
      ],
      "metadata": {
        "id": "3mwnnlPLbc3L"
      }
    },
    {
      "cell_type": "code",
      "source": [
        "a: list[str] = [i for i in dir(str) if \"__\" not in i]\n",
        "print(a)\n",
        "print(len(a))"
      ],
      "metadata": {
        "colab": {
          "base_uri": "https://localhost:8080/"
        },
        "id": "CnqfOEIlb3zF",
        "outputId": "24f8b74b-9fa5-43b6-ac72-720163569832"
      },
      "execution_count": null,
      "outputs": [
        {
          "output_type": "stream",
          "name": "stdout",
          "text": [
            "['capitalize', 'casefold', 'center', 'count', 'encode', 'endswith', 'expandtabs', 'find', 'format', 'format_map', 'index', 'isalnum', 'isalpha', 'isascii', 'isdecimal', 'isdigit', 'isidentifier', 'islower', 'isnumeric', 'isprintable', 'isspace', 'istitle', 'isupper', 'join', 'ljust', 'lower', 'lstrip', 'maketrans', 'partition', 'removeprefix', 'removesuffix', 'replace', 'rfind', 'rindex', 'rjust', 'rpartition', 'rsplit', 'rstrip', 'split', 'splitlines', 'startswith', 'strip', 'swapcase', 'title', 'translate', 'upper', 'zfill']\n",
            "47\n"
          ]
        }
      ]
    },
    {
      "cell_type": "code",
      "source": [
        "name : str = \"MuHammAd QasIm\"\n",
        "print(name.capitalize())"
      ],
      "metadata": {
        "colab": {
          "base_uri": "https://localhost:8080/"
        },
        "id": "t5zioz0RgFnN",
        "outputId": "6257848e-039a-4072-f54d-c6f50a52afa7"
      },
      "execution_count": null,
      "outputs": [
        {
          "output_type": "stream",
          "name": "stdout",
          "text": [
            "Muhammad qasim\n"
          ]
        }
      ]
    },
    {
      "cell_type": "code",
      "source": [
        "name : str = \"MuHammAd QasIm\"\n",
        "print(name)\n",
        "print(name.casefold())"
      ],
      "metadata": {
        "colab": {
          "base_uri": "https://localhost:8080/"
        },
        "id": "fI8jrcFzgWHm",
        "outputId": "76e2c4e5-cf42-417c-ed2f-4523038f77f1"
      },
      "execution_count": null,
      "outputs": [
        {
          "output_type": "stream",
          "name": "stdout",
          "text": [
            "MuHammAd QasIm\n",
            "muhammad qasim\n"
          ]
        }
      ]
    },
    {
      "cell_type": "code",
      "source": [
        "name : str = \"MuHammAd QasIm\"\n",
        "print(name)\n",
        "print(name.lower())"
      ],
      "metadata": {
        "colab": {
          "base_uri": "https://localhost:8080/"
        },
        "id": "eenab7g-hTeS",
        "outputId": "3999f35c-4acc-4794-8c31-58dad6ea1ec5"
      },
      "execution_count": null,
      "outputs": [
        {
          "output_type": "stream",
          "name": "stdout",
          "text": [
            "MuHammAd QasIm\n",
            "muhammad qasim\n"
          ]
        }
      ]
    },
    {
      "cell_type": "code",
      "source": [
        "name : str = \"      MuHammAd QasIm      \"\n",
        "print(name)\n",
        "print(name.lstrip())"
      ],
      "metadata": {
        "colab": {
          "base_uri": "https://localhost:8080/"
        },
        "id": "fa99iR0XjZ8x",
        "outputId": "0638d383-c506-4fee-8121-a3a9b0e21010"
      },
      "execution_count": null,
      "outputs": [
        {
          "output_type": "stream",
          "name": "stdout",
          "text": [
            "      MuHammAd QasIm      \n",
            "MuHammAd QasIm      \n"
          ]
        }
      ]
    },
    {
      "cell_type": "code",
      "source": [
        "name : str =\"      MuHammAd QasIm      \"\n",
        "print(name)\n",
        "print(name.rstrip())"
      ],
      "metadata": {
        "colab": {
          "base_uri": "https://localhost:8080/"
        },
        "id": "y20266kejaXz",
        "outputId": "a32e69e1-c364-42e1-ab28-26987bd976ac"
      },
      "execution_count": null,
      "outputs": [
        {
          "output_type": "stream",
          "name": "stdout",
          "text": [
            "      MuHammAd QasIm      \n",
            "      MuHammAd QasIm\n"
          ]
        }
      ]
    },
    {
      "cell_type": "code",
      "source": [
        "name : str =\"     MuHammAd QasIm     \"\n",
        "print(name)\n",
        "print(name.strip())"
      ],
      "metadata": {
        "colab": {
          "base_uri": "https://localhost:8080/"
        },
        "id": "Jruq5g8kltrE",
        "outputId": "579cf3da-21be-4f8b-ed61-03784ccefcab"
      },
      "execution_count": null,
      "outputs": [
        {
          "output_type": "stream",
          "name": "stdout",
          "text": [
            "     MuHammAd QasIm     \n",
            "MuHammAd QasIm\n"
          ]
        }
      ]
    },
    {
      "cell_type": "code",
      "source": [
        "name : str =\"     MuHammAd      QasIm     \"\n",
        "print(name)\n",
        "print(name.strip())"
      ],
      "metadata": {
        "colab": {
          "base_uri": "https://localhost:8080/"
        },
        "id": "82E--tuHl8pT",
        "outputId": "dce3db69-f9f9-405b-b93d-7e04659583d6"
      },
      "execution_count": null,
      "outputs": [
        {
          "output_type": "stream",
          "name": "stdout",
          "text": [
            "     MuHammAd      QasIm     \n",
            "MuHammAd      QasIm\n"
          ]
        }
      ]
    },
    {
      "cell_type": "code",
      "source": [
        "import re\n",
        "\n",
        "name : str = \"      MuHammAd           QasIm         \"\n",
        "\n",
        "display(name)\n",
        "\n",
        "name1 : str = re.sub(' {2,100}',' ', name).strip()\n",
        "display(name1)"
      ],
      "metadata": {
        "colab": {
          "base_uri": "https://localhost:8080/",
          "height": 54
        },
        "id": "Yfvo8GF4raDe",
        "outputId": "27548195-2463-4c75-ee27-47a9ba9133a1"
      },
      "execution_count": null,
      "outputs": [
        {
          "output_type": "display_data",
          "data": {
            "text/plain": [
              "'      MuHammAd           QasIm         '"
            ],
            "application/vnd.google.colaboratory.intrinsic+json": {
              "type": "string"
            }
          },
          "metadata": {}
        },
        {
          "output_type": "display_data",
          "data": {
            "text/plain": [
              "'MuHammAd QasIm'"
            ],
            "application/vnd.google.colaboratory.intrinsic+json": {
              "type": "string"
            }
          },
          "metadata": {}
        }
      ]
    },
    {
      "cell_type": "code",
      "source": [
        "name : str = \"MuHammAd QasIm\"\n",
        "\n",
        "#variable_name.method()\n",
        "display(name)\n",
        "display(name.title())"
      ],
      "metadata": {
        "colab": {
          "base_uri": "https://localhost:8080/",
          "height": 54
        },
        "id": "idrxHWQzryJ4",
        "outputId": "aade4f90-8394-4298-cba4-2f8fc5089ade"
      },
      "execution_count": null,
      "outputs": [
        {
          "output_type": "display_data",
          "data": {
            "text/plain": [
              "'MuHammAd QasIm'"
            ],
            "application/vnd.google.colaboratory.intrinsic+json": {
              "type": "string"
            }
          },
          "metadata": {}
        },
        {
          "output_type": "display_data",
          "data": {
            "text/plain": [
              "'Muhammad Qasim'"
            ],
            "application/vnd.google.colaboratory.intrinsic+json": {
              "type": "string"
            }
          },
          "metadata": {}
        }
      ]
    },
    {
      "cell_type": "code",
      "source": [
        "name:str = \"Ada Lovelace\"\n",
        "print(name.upper())\n",
        "print(name.lower())"
      ],
      "metadata": {
        "colab": {
          "base_uri": "https://localhost:8080/"
        },
        "id": "RRQq31s4raGh",
        "outputId": "36815eb6-d92c-4ffd-f2fe-7e80db026531"
      },
      "execution_count": null,
      "outputs": [
        {
          "output_type": "stream",
          "name": "stdout",
          "text": [
            "ADA LOVELACE\n",
            "ada lovelace\n"
          ]
        }
      ]
    },
    {
      "cell_type": "code",
      "source": [
        "print(\"Name:\\t\\t Muhammad Qasim\")"
      ],
      "metadata": {
        "colab": {
          "base_uri": "https://localhost:8080/"
        },
        "id": "_xv69WxFr83o",
        "outputId": "da4f7ebc-e993-4280-8885-82b194dd9f0d"
      },
      "execution_count": null,
      "outputs": [
        {
          "output_type": "stream",
          "name": "stdout",
          "text": [
            "Name:\t\t Muhammad Qasim\n"
          ]
        }
      ]
    },
    {
      "cell_type": "code",
      "source": [
        "print(\"Name:\\nMuhammad Qasim\")"
      ],
      "metadata": {
        "colab": {
          "base_uri": "https://localhost:8080/"
        },
        "id": "GIH-kK9pr86q",
        "outputId": "09307ac3-54d7-416f-81b7-4d6efab93a93"
      },
      "execution_count": null,
      "outputs": [
        {
          "output_type": "stream",
          "name": "stdout",
          "text": [
            "Name:\n",
            "Muhammad Qasim\n"
          ]
        }
      ]
    },
    {
      "cell_type": "code",
      "source": [
        "print(\"Name:\\bMuhammad Qasim\")"
      ],
      "metadata": {
        "colab": {
          "base_uri": "https://localhost:8080/"
        },
        "id": "Q0yVTjWxr8-v",
        "outputId": "6973ab36-1721-4ec2-ddf5-82c47102f1c6"
      },
      "execution_count": null,
      "outputs": [
        {
          "output_type": "stream",
          "name": "stdout",
          "text": [
            "Name:\bMuhammad Qasim\n"
          ]
        }
      ]
    },
    {
      "cell_type": "code",
      "source": [
        "1name : str = \"Qasim\"\n",
        "print(1name)"
      ],
      "metadata": {
        "colab": {
          "base_uri": "https://localhost:8080/",
          "height": 110
        },
        "id": "cQUts7y8suXi",
        "outputId": "17ab4729-6c18-4898-9a5a-bf7853dc8493"
      },
      "execution_count": null,
      "outputs": [
        {
          "output_type": "error",
          "ename": "SyntaxError",
          "evalue": "invalid decimal literal (<ipython-input-18-9f1dbcafc488>, line 1)",
          "traceback": [
            "\u001b[0;36m  File \u001b[0;32m\"<ipython-input-18-9f1dbcafc488>\"\u001b[0;36m, line \u001b[0;32m1\u001b[0m\n\u001b[0;31m    1name : str = \"Qasim\"\u001b[0m\n\u001b[0m    ^\u001b[0m\n\u001b[0;31mSyntaxError\u001b[0m\u001b[0;31m:\u001b[0m invalid decimal literal\n"
          ]
        }
      ]
    },
    {
      "cell_type": "code",
      "source": [
        "name1 : str = \"Qasim\"\n",
        "print(name1)"
      ],
      "metadata": {
        "colab": {
          "base_uri": "https://localhost:8080/"
        },
        "id": "HmpXdgnFtXHO",
        "outputId": "a700d724-40b8-4142-f5e1-030f7632d271"
      },
      "execution_count": null,
      "outputs": [
        {
          "output_type": "stream",
          "name": "stdout",
          "text": [
            "Qasim\n"
          ]
        }
      ]
    },
    {
      "cell_type": "code",
      "source": [
        "piaic student name : str = \"Muhammad Qasim\"\n",
        "print(piaic student name)"
      ],
      "metadata": {
        "colab": {
          "base_uri": "https://localhost:8080/",
          "height": 110
        },
        "id": "MKtg5twyuFXC",
        "outputId": "757d589f-3781-4644-cde3-b67b1001e136"
      },
      "execution_count": null,
      "outputs": [
        {
          "output_type": "error",
          "ename": "SyntaxError",
          "evalue": "invalid syntax (<ipython-input-22-7db0624ff810>, line 1)",
          "traceback": [
            "\u001b[0;36m  File \u001b[0;32m\"<ipython-input-22-7db0624ff810>\"\u001b[0;36m, line \u001b[0;32m1\u001b[0m\n\u001b[0;31m    piaic student name : str = \"Muhammad Qasim\"\u001b[0m\n\u001b[0m          ^\u001b[0m\n\u001b[0;31mSyntaxError\u001b[0m\u001b[0;31m:\u001b[0m invalid syntax\n"
          ]
        }
      ]
    },
    {
      "cell_type": "code",
      "source": [
        "piaic_student_name : str = \"Muhammad Qasim\"\n",
        "print(piaic_student_name)"
      ],
      "metadata": {
        "colab": {
          "base_uri": "https://localhost:8080/"
        },
        "id": "xJLbP5CUuFaa",
        "outputId": "860f2b5a-9509-4bd6-ccde-c6fa24e9a9db"
      },
      "execution_count": null,
      "outputs": [
        {
          "output_type": "stream",
          "name": "stdout",
          "text": [
            "Muhammad Qasim\n"
          ]
        }
      ]
    }
  ]
}