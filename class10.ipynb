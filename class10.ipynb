{
  "nbformat": 4,
  "nbformat_minor": 0,
  "metadata": {
    "colab": {
      "provenance": []
    },
    "kernelspec": {
      "name": "python3",
      "display_name": "Python 3"
    },
    "language_info": {
      "name": "python"
    }
  },
  "cells": [
    {
      "cell_type": "markdown",
      "source": [
        "#Function\n",
        "\n",
        "*  pre-define function\n",
        "      *  provided by in language\n",
        "*  user-define function\n",
        "      *  custom function\n",
        "  \n",
        "## Similar properties on both type\n",
        "\n",
        "* Return and None-return function\n",
        "      * Return   \n",
        "          * we can assign this function output in any variable  \n",
        "      *  None-Return\n",
        "          * only run we can't assign value to variable  \n",
        "# components\n",
        "* function declaration  \n",
        "* function body\n",
        "* function calling  \n",
        "## Syntax function\n",
        " * def function_name(param1:type, param2:type,...)->Return_type:\n",
        "    * function_body\n",
        " * function_name(arg1,arg2)\n",
        "# Syntaxt lambda function\n",
        "* one line function\n",
        "* without name\n",
        "* only use in this line\n",
        "      \n",
        "       lambda param1,param2 : function_body\n",
        "\n",
        "# Pre-define function\n",
        "\n",
        "* print\n",
        "* len\n",
        "* id\n",
        "* dir\n",
        "* chr\n",
        "* ord\n",
        "* exec\n",
        "\n",
        "\n",
        "\n",
        "\n",
        "\n",
        "\n"
      ],
      "metadata": {
        "id": "qxXaZ93m54x9"
      }
    },
    {
      "cell_type": "markdown",
      "source": [
        "# Return and None-return function"
      ],
      "metadata": {
        "id": "g5PKdjtm_Ec8"
      }
    },
    {
      "cell_type": "code",
      "source": [
        "a : str = print(\"Pakistan\")\n",
        "\n",
        "display(a)"
      ],
      "metadata": {
        "colab": {
          "base_uri": "https://localhost:8080/",
          "height": 52
        },
        "id": "W-TdAG-s_Izs",
        "outputId": "4ebe5313-da19-4b10-9abc-3f13145c4f8a"
      },
      "execution_count": null,
      "outputs": [
        {
          "output_type": "stream",
          "name": "stdout",
          "text": [
            "Pakistan\n"
          ]
        },
        {
          "output_type": "display_data",
          "data": {
            "text/plain": [
              "None"
            ]
          },
          "metadata": {}
        }
      ]
    },
    {
      "cell_type": "code",
      "source": [
        "a : int = len(\"Pakistan\")\n",
        "\n",
        "display(a)"
      ],
      "metadata": {
        "colab": {
          "base_uri": "https://localhost:8080/",
          "height": 34
        },
        "id": "Dxbcpc42CIYN",
        "outputId": "c3bcc728-5976-46cd-8da3-be0ab3199db4"
      },
      "execution_count": null,
      "outputs": [
        {
          "output_type": "display_data",
          "data": {
            "text/plain": [
              "8"
            ]
          },
          "metadata": {}
        }
      ]
    },
    {
      "cell_type": "code",
      "source": [
        "print(\"aa\")\n",
        "print(len('aaa'))"
      ],
      "metadata": {
        "colab": {
          "base_uri": "https://localhost:8080/"
        },
        "id": "t6He4XntCNMD",
        "outputId": "ab79322d-ef0b-4f92-954c-9a2457844d23"
      },
      "execution_count": null,
      "outputs": [
        {
          "output_type": "stream",
          "name": "stdout",
          "text": [
            "aa\n",
            "3\n"
          ]
        }
      ]
    },
    {
      "cell_type": "markdown",
      "source": [
        "# **components*\n",
        "*  function declaration\n",
        "    * function name\n",
        "    * parameters\n",
        "      * param : type\n",
        "    * return output type\n",
        "*  function body\n",
        "    * any businuess logic write here\n",
        "* function calling\n",
        "    * function(arg1,arg2)\n",
        "\n",
        "# Syntax function\n",
        "\n",
        "def function_name(param1:type, param2:type,...)->Return_type: # declaration\n",
        "   *  function_body # body\n",
        "\n",
        "function_name(arg1,arg2) # calling\n"
      ],
      "metadata": {
        "id": "7E7bAySACf4y"
      }
    },
    {
      "cell_type": "markdown",
      "source": [
        "# Create simple function without any argument (defualt function)**bold text**"
      ],
      "metadata": {
        "id": "aw0wZ4CJM08C"
      }
    },
    {
      "cell_type": "code",
      "source": [
        "def piaic()->None:\n",
        "    print(\"PIAIC Generative Artificial Intelligence\")\n",
        "    print(\"Python Crash course\")\n",
        "piaic()\n"
      ],
      "metadata": {
        "colab": {
          "base_uri": "https://localhost:8080/"
        },
        "id": "noK-etpeCNTE",
        "outputId": "978f50c5-f370-4c6d-a5f8-d37d948125cf"
      },
      "execution_count": null,
      "outputs": [
        {
          "output_type": "stream",
          "name": "stdout",
          "text": [
            "PIAIC Generative Artificial Intelligence\n",
            "Python Crash course\n"
          ]
        }
      ]
    },
    {
      "cell_type": "code",
      "source": [
        "piaic()\n",
        "piaic()"
      ],
      "metadata": {
        "colab": {
          "base_uri": "https://localhost:8080/"
        },
        "id": "X3OVKTT_CNWb",
        "outputId": "542c829c-4e19-4094-af75-eab71461efa7"
      },
      "execution_count": null,
      "outputs": [
        {
          "output_type": "stream",
          "name": "stdout",
          "text": [
            "PIAIC Generative Artificial Intelligence\n",
            "Python Crash course\n",
            "PIAIC Generative Artificial Intelligence\n",
            "Python Crash course\n"
          ]
        }
      ]
    },
    {
      "cell_type": "code",
      "source": [
        "piaic()\n",
        "piaic()\n",
        "piaic()\n",
        "piaic()"
      ],
      "metadata": {
        "colab": {
          "base_uri": "https://localhost:8080/"
        },
        "id": "2ir9ZRzmCNcV",
        "outputId": "0b2091d5-540a-4685-f131-48287c4e1f4a"
      },
      "execution_count": null,
      "outputs": [
        {
          "output_type": "stream",
          "name": "stdout",
          "text": [
            "PIAIC Generative Artificial Intelligence\n",
            "Python Crash course\n",
            "PIAIC Generative Artificial Intelligence\n",
            "Python Crash course\n",
            "PIAIC Generative Artificial Intelligence\n",
            "Python Crash course\n",
            "PIAIC Generative Artificial Intelligence\n",
            "Python Crash course\n"
          ]
        }
      ]
    },
    {
      "cell_type": "markdown",
      "source": [
        "# Required parameters functions"
      ],
      "metadata": {
        "id": "IDVENPzDPbPs"
      }
    },
    {
      "cell_type": "code",
      "source": [
        "def add_two_numbers(num1 : int , num2 : int)->int:\n",
        "    return num1 + num2\n",
        "\n",
        "add_two_numbers(7,20)"
      ],
      "metadata": {
        "colab": {
          "base_uri": "https://localhost:8080/"
        },
        "id": "Q3cOEte_CNfy",
        "outputId": "c9770989-8182-41e7-a5c9-4a15773a97bd"
      },
      "execution_count": null,
      "outputs": [
        {
          "output_type": "execute_result",
          "data": {
            "text/plain": [
              "27"
            ]
          },
          "metadata": {},
          "execution_count": 7
        }
      ]
    },
    {
      "cell_type": "code",
      "source": [
        "add_two_numbers(7)"
      ],
      "metadata": {
        "colab": {
          "base_uri": "https://localhost:8080/",
          "height": 141
        },
        "id": "bFc-CO3fCNsD",
        "outputId": "301b2f84-d626-4656-97e4-84f7ec315f34"
      },
      "execution_count": null,
      "outputs": [
        {
          "output_type": "error",
          "ename": "TypeError",
          "evalue": "add_two_numbers() missing 1 required positional argument: 'num2'",
          "traceback": [
            "\u001b[0;31m---------------------------------------------------------------------------\u001b[0m",
            "\u001b[0;31mTypeError\u001b[0m                                 Traceback (most recent call last)",
            "\u001b[0;32m<ipython-input-8-49cca8528885>\u001b[0m in \u001b[0;36m<cell line: 1>\u001b[0;34m()\u001b[0m\n\u001b[0;32m----> 1\u001b[0;31m \u001b[0madd_two_numbers\u001b[0m\u001b[0;34m(\u001b[0m\u001b[0;36m7\u001b[0m\u001b[0;34m)\u001b[0m\u001b[0;34m\u001b[0m\u001b[0;34m\u001b[0m\u001b[0m\n\u001b[0m",
            "\u001b[0;31mTypeError\u001b[0m: add_two_numbers() missing 1 required positional argument: 'num2'"
          ]
        }
      ]
    },
    {
      "cell_type": "code",
      "source": [
        "add_two_numbers(7,5)"
      ],
      "metadata": {
        "colab": {
          "base_uri": "https://localhost:8080/"
        },
        "outputId": "0a368542-409b-4e83-ac1e-fc214dfb4b7c",
        "id": "1Wnw_RcOR7u4"
      },
      "execution_count": null,
      "outputs": [
        {
          "output_type": "execute_result",
          "data": {
            "text/plain": [
              "12"
            ]
          },
          "metadata": {},
          "execution_count": 9
        }
      ]
    },
    {
      "cell_type": "code",
      "source": [
        "def add_two_numbers(num1 : int , num2 : int)->int:\n",
        "    print(f\"num1 value {num1} and num 2 value {num2}\")\n",
        "    return num1 + num2\n",
        "\n",
        "add_two_numbers(7,20)"
      ],
      "metadata": {
        "colab": {
          "base_uri": "https://localhost:8080/"
        },
        "id": "BClXtgmVCNvl",
        "outputId": "b25c1f3b-7b4a-4ba9-8b3c-b3655503732d"
      },
      "execution_count": null,
      "outputs": [
        {
          "output_type": "stream",
          "name": "stdout",
          "text": [
            "num1 value 7 and num 2 value 20\n"
          ]
        },
        {
          "output_type": "execute_result",
          "data": {
            "text/plain": [
              "27"
            ]
          },
          "metadata": {},
          "execution_count": 10
        }
      ]
    },
    {
      "cell_type": "code",
      "source": [
        "def add_two_numbers(num1 : int , num2 : int)->int:\n",
        "    print(f\"num1 value {num1} and num 2 value {num2}\")\n",
        "    return num1 + num2\n",
        "\n",
        "add_two_numbers(num2=7,num1=20)"
      ],
      "metadata": {
        "id": "r0qaJNcFCNyz"
      },
      "execution_count": null,
      "outputs": []
    },
    {
      "cell_type": "markdown",
      "source": [
        "# fucntion with optional parameters"
      ],
      "metadata": {
        "id": "zXLA8rZRSct5"
      }
    },
    {
      "cell_type": "code",
      "source": [
        "def add_two_numbers(num1: int, num2:int = 0) -> int:\n",
        "    print(num1, num2)\n",
        "    return num1 + num2\n",
        "\n",
        "add_two_numbers(2)"
      ],
      "metadata": {
        "colab": {
          "base_uri": "https://localhost:8080/"
        },
        "id": "lWwDjPYxCN1j",
        "outputId": "f5edaef7-596f-4c1b-e278-f5cf8cbf8006"
      },
      "execution_count": null,
      "outputs": [
        {
          "output_type": "stream",
          "name": "stdout",
          "text": [
            "2 0\n"
          ]
        },
        {
          "output_type": "execute_result",
          "data": {
            "text/plain": [
              "2"
            ]
          },
          "metadata": {},
          "execution_count": 11
        }
      ]
    },
    {
      "cell_type": "code",
      "source": [
        "def add_two_numbers(num1: int, num2:int = 0) -> int:\n",
        "    print(num1, num2)\n",
        "    return num1 + num2\n",
        "\n",
        "add_two_numbers(7,2)"
      ],
      "metadata": {
        "colab": {
          "base_uri": "https://localhost:8080/"
        },
        "id": "Er1DuL8cCN42",
        "outputId": "d50fc921-e1e0-455f-d980-be4ae940cd47"
      },
      "execution_count": null,
      "outputs": [
        {
          "output_type": "stream",
          "name": "stdout",
          "text": [
            "7 2\n"
          ]
        },
        {
          "output_type": "execute_result",
          "data": {
            "text/plain": [
              "9"
            ]
          },
          "metadata": {},
          "execution_count": 12
        }
      ]
    },
    {
      "cell_type": "markdown",
      "source": [
        "# Syntaxt lambda function\n",
        "* one line function\n",
        "* without name\n",
        "* only use in this line\n",
        "\n",
        "     lambda param1,param2 : function_body"
      ],
      "metadata": {
        "id": "9aVKbewgTMhm"
      }
    },
    {
      "cell_type": "code",
      "source": [
        "a = lambda num1, num2 : num1 + num2\n",
        "\n",
        "a(7,8)"
      ],
      "metadata": {
        "colab": {
          "base_uri": "https://localhost:8080/"
        },
        "id": "ePBiIcwfCN8N",
        "outputId": "98b35e0c-1eb4-487b-bcc1-5f254f63fc1f"
      },
      "execution_count": null,
      "outputs": [
        {
          "output_type": "execute_result",
          "data": {
            "text/plain": [
              "15"
            ]
          },
          "metadata": {},
          "execution_count": 13
        }
      ]
    },
    {
      "cell_type": "code",
      "source": [
        "data : list[int] = [1,2,3,4,5,6,7,8,9,10]\n",
        "\n",
        "data = list(map(lambda x:x**2 , data))\n",
        "\n",
        "data"
      ],
      "metadata": {
        "colab": {
          "base_uri": "https://localhost:8080/"
        },
        "id": "6rgBuJPmUf56",
        "outputId": "38d1d2ef-7d36-4b7d-9633-571e8a0c785f"
      },
      "execution_count": null,
      "outputs": [
        {
          "output_type": "execute_result",
          "data": {
            "text/plain": [
              "[1, 4, 9, 16, 25, 36, 49, 64, 81, 100]"
            ]
          },
          "metadata": {},
          "execution_count": 14
        }
      ]
    },
    {
      "cell_type": "code",
      "source": [
        "data : list[int] = [1,2,3,4,5,6,7,8,9,10]\n",
        "\n",
        "data = list(filter(lambda x:x%2==0 ,data))\n",
        "\n",
        "data"
      ],
      "metadata": {
        "colab": {
          "base_uri": "https://localhost:8080/"
        },
        "id": "6yH14jvyUf8y",
        "outputId": "9a85d4ae-0530-4d9d-a278-0f75c0ecc1ce"
      },
      "execution_count": null,
      "outputs": [
        {
          "output_type": "execute_result",
          "data": {
            "text/plain": [
              "[2, 4, 6, 8, 10]"
            ]
          },
          "metadata": {},
          "execution_count": 16
        }
      ]
    },
    {
      "cell_type": "code",
      "source": [
        "from typing import Callable\n",
        "\n",
        "add: Callable[[int, int], int] = lambda x, y: x + y\n",
        "result = add(10, 20)\n",
        "print(result)"
      ],
      "metadata": {
        "colab": {
          "base_uri": "https://localhost:8080/"
        },
        "id": "KqymWy39Uf_l",
        "outputId": "4961c064-7513-4ef6-efcd-2aa3abb1b299"
      },
      "execution_count": null,
      "outputs": [
        {
          "output_type": "stream",
          "name": "stdout",
          "text": [
            "30\n"
          ]
        }
      ]
    },
    {
      "cell_type": "code",
      "source": [
        "data:list[int] = list(filter(lambda x:x%2==0 ,range(1,101)))\n",
        "data\n",
        "\n",
        "\n"
      ],
      "metadata": {
        "colab": {
          "base_uri": "https://localhost:8080/"
        },
        "id": "aRItjD3hUgBx",
        "outputId": "958bec6b-a353-4865-bd00-15e0df09dffe"
      },
      "execution_count": null,
      "outputs": [
        {
          "output_type": "execute_result",
          "data": {
            "text/plain": [
              "[2,\n",
              " 4,\n",
              " 6,\n",
              " 8,\n",
              " 10,\n",
              " 12,\n",
              " 14,\n",
              " 16,\n",
              " 18,\n",
              " 20,\n",
              " 22,\n",
              " 24,\n",
              " 26,\n",
              " 28,\n",
              " 30,\n",
              " 32,\n",
              " 34,\n",
              " 36,\n",
              " 38,\n",
              " 40,\n",
              " 42,\n",
              " 44,\n",
              " 46,\n",
              " 48,\n",
              " 50,\n",
              " 52,\n",
              " 54,\n",
              " 56,\n",
              " 58,\n",
              " 60,\n",
              " 62,\n",
              " 64,\n",
              " 66,\n",
              " 68,\n",
              " 70,\n",
              " 72,\n",
              " 74,\n",
              " 76,\n",
              " 78,\n",
              " 80,\n",
              " 82,\n",
              " 84,\n",
              " 86,\n",
              " 88,\n",
              " 90,\n",
              " 92,\n",
              " 94,\n",
              " 96,\n",
              " 98,\n",
              " 100]"
            ]
          },
          "metadata": {},
          "execution_count": 18
        }
      ]
    },
    {
      "cell_type": "markdown",
      "source": [
        "# Generator Function\n",
        "* iterate on element one by one\n",
        "* stop after each iteration\n",
        "* remember old iteration value (last iterate value)\n",
        "* next iterate\n",
        "      *  go farward from last iterate value"
      ],
      "metadata": {
        "id": "QuVQLQ_MdYQy"
      }
    },
    {
      "cell_type": "code",
      "source": [
        "def my_range(start:int , end:int , step: int=1):\n",
        "    for i in range(start,end+1,step):\n",
        "        yield i\n",
        "\n",
        "\n",
        "a = my_range(1,10)\n",
        "print(a)\n",
        "print(list(a))\n"
      ],
      "metadata": {
        "colab": {
          "base_uri": "https://localhost:8080/"
        },
        "id": "IKcbYdLLUgEf",
        "outputId": "a6e24772-d7eb-40bc-929b-73001913c173"
      },
      "execution_count": null,
      "outputs": [
        {
          "output_type": "stream",
          "name": "stdout",
          "text": [
            "<generator object my_range at 0x7dc105c9dbd0>\n",
            "[1, 2, 3, 4, 5, 6, 7, 8, 9, 10]\n"
          ]
        }
      ]
    },
    {
      "cell_type": "code",
      "source": [
        "a = my_range(1,10)\n",
        "print(a)\n",
        "print(next(a))\n",
        "print(next(a))\n",
        "print(next(a))\n",
        "print(\"Pakistan\")\n",
        "print(next(a))"
      ],
      "metadata": {
        "colab": {
          "base_uri": "https://localhost:8080/"
        },
        "id": "k6Nzzn9hUgG9",
        "outputId": "459f7910-ee30-48cf-a781-e4bd471afdaf"
      },
      "execution_count": null,
      "outputs": [
        {
          "output_type": "stream",
          "name": "stdout",
          "text": [
            "<generator object my_range at 0x7dc105c9daf0>\n",
            "1\n",
            "2\n",
            "3\n",
            "Pakistan\n",
            "4\n"
          ]
        }
      ]
    },
    {
      "cell_type": "code",
      "source": [
        "from collections.abc import Iterator\n",
        "\n",
        "MyDictT = dict[str, object]\n",
        "\n",
        "def yield_func() -> Iterator[MyDictT]:\n",
        "    a: MyDictT = {}\n",
        "    b: MyDictT = {}\n",
        "    ...\n",
        "    yield a\n",
        "    yield b"
      ],
      "metadata": {
        "id": "U__XoQpFUgMV"
      },
      "execution_count": 2,
      "outputs": []
    },
    {
      "cell_type": "code",
      "source": [
        "from collections.abc import Iterator\n",
        "\n",
        "def my_range(start:int , end:int , step: int=1)->Iterator[int]:\n",
        "    for i in range(start,end+1,step):\n",
        "        yield i\n",
        "\n",
        "\n",
        "iterator_variable = my_range(1,10)\n",
        "\n",
        "print(next(iterator_variable))\n",
        "print(next(iterator_variable))"
      ],
      "metadata": {
        "id": "R1UPSMUqUgPV",
        "colab": {
          "base_uri": "https://localhost:8080/"
        },
        "outputId": "461c2ad8-c5c9-4442-9f67-c4c07aeba221"
      },
      "execution_count": 3,
      "outputs": [
        {
          "output_type": "stream",
          "name": "stdout",
          "text": [
            "1\n",
            "2\n"
          ]
        }
      ]
    },
    {
      "cell_type": "code",
      "source": [
        "from collections.abc import Iterator\n",
        "\n",
        "def my_range(start:int , end:int , step: int=1)->Iterator[int]:\n",
        "    for i in range(start,end+1,step):\n",
        "        yield i\n",
        "\n",
        "\n",
        "iterator_variable : Iterator[int] = my_range(1,10)\n",
        "\n",
        "print(next(iterator_variable))\n",
        "print(next(iterator_variable))\n",
        "\n",
        "print(type(iterator_variable))"
      ],
      "metadata": {
        "id": "NDhiZnWZUgSV",
        "colab": {
          "base_uri": "https://localhost:8080/"
        },
        "outputId": "affd2902-78f5-470f-e5f3-79ee65fdb3df"
      },
      "execution_count": 4,
      "outputs": [
        {
          "output_type": "stream",
          "name": "stdout",
          "text": [
            "1\n",
            "2\n",
            "<class 'generator'>\n"
          ]
        }
      ]
    },
    {
      "cell_type": "code",
      "source": [
        "for i in iterator_variable:\n",
        "    print(i)"
      ],
      "metadata": {
        "id": "Z-XAG2tAUgVF",
        "colab": {
          "base_uri": "https://localhost:8080/"
        },
        "outputId": "fd0fcf1d-9e19-40c5-a443-bb0e5ab93d65"
      },
      "execution_count": 5,
      "outputs": [
        {
          "output_type": "stream",
          "name": "stdout",
          "text": [
            "3\n",
            "4\n",
            "5\n",
            "6\n",
            "7\n",
            "8\n",
            "9\n",
            "10\n"
          ]
        }
      ]
    },
    {
      "cell_type": "code",
      "source": [
        "dir(a)"
      ],
      "metadata": {
        "id": "RydYhPDQUgXg",
        "colab": {
          "base_uri": "https://localhost:8080/"
        },
        "outputId": "b0ede454-675d-4850-a0ec-ba2f68306054"
      },
      "execution_count": 6,
      "outputs": [
        {
          "output_type": "execute_result",
          "data": {
            "text/plain": [
              "['__class__',\n",
              " '__del__',\n",
              " '__delattr__',\n",
              " '__dir__',\n",
              " '__doc__',\n",
              " '__eq__',\n",
              " '__format__',\n",
              " '__ge__',\n",
              " '__getattribute__',\n",
              " '__gt__',\n",
              " '__hash__',\n",
              " '__init__',\n",
              " '__init_subclass__',\n",
              " '__iter__',\n",
              " '__le__',\n",
              " '__lt__',\n",
              " '__name__',\n",
              " '__ne__',\n",
              " '__new__',\n",
              " '__next__',\n",
              " '__qualname__',\n",
              " '__reduce__',\n",
              " '__reduce_ex__',\n",
              " '__repr__',\n",
              " '__setattr__',\n",
              " '__sizeof__',\n",
              " '__str__',\n",
              " '__subclasshook__',\n",
              " 'close',\n",
              " 'gi_code',\n",
              " 'gi_frame',\n",
              " 'gi_running',\n",
              " 'gi_yieldfrom',\n",
              " 'send',\n",
              " 'throw']"
            ]
          },
          "metadata": {},
          "execution_count": 6
        }
      ]
    },
    {
      "cell_type": "markdown",
      "source": [
        "# pass unlimited arguments"
      ],
      "metadata": {
        "id": "viL0BKUBlq6e"
      }
    },
    {
      "cell_type": "code",
      "source": [
        "def abc(*nums):\n",
        "    print(nums, type(nums))\n",
        "    total = 0\n",
        "    for n in nums:\n",
        "        total += n\n",
        "\n",
        "    return total\n",
        "\n",
        "\n",
        "abc(1,2,3,3,5,6)"
      ],
      "metadata": {
        "colab": {
          "base_uri": "https://localhost:8080/"
        },
        "id": "yHus21ykloaf",
        "outputId": "19c5cf53-fdd0-4dbf-abf4-cadbd6ec59dc"
      },
      "execution_count": 7,
      "outputs": [
        {
          "output_type": "stream",
          "name": "stdout",
          "text": [
            "(1, 2, 3, 3, 5, 6) <class 'tuple'>\n"
          ]
        },
        {
          "output_type": "execute_result",
          "data": {
            "text/plain": [
              "20"
            ]
          },
          "metadata": {},
          "execution_count": 7
        }
      ]
    },
    {
      "cell_type": "code",
      "source": [
        "from typing import Tuple\n",
        "\n",
        "def greet(*names: Tuple[str, ...]) -> None:\n",
        "    \"\"\"\n",
        "    This function greets all persons in the names tuple.\n",
        "    \"\"\"\n",
        "    for name in names:\n",
        "        print(\"Hello\", name)\n",
        "\n",
        "greet(\"Monica\", \"Luke\", \"Steve\", \"John\",\"Sir Zia\", \"Muhammad Qasim\")"
      ],
      "metadata": {
        "colab": {
          "base_uri": "https://localhost:8080/"
        },
        "id": "Tl71unhElodo",
        "outputId": "f47e3232-1e03-498f-b764-15335f821dba"
      },
      "execution_count": 8,
      "outputs": [
        {
          "output_type": "stream",
          "name": "stdout",
          "text": [
            "Hello Monica\n",
            "Hello Luke\n",
            "Hello Steve\n",
            "Hello John\n",
            "Hello Sir Zia\n",
            "Hello Muhammad Qasim\n"
          ]
        }
      ]
    },
    {
      "cell_type": "code",
      "source": [
        "from typing import Dict\n",
        "\n",
        "def greet(**xyz: Dict[str,str]) -> None:\n",
        "    print(xyz)\n",
        "\n",
        "greet(a=\"pakistan\", b='China')"
      ],
      "metadata": {
        "colab": {
          "base_uri": "https://localhost:8080/"
        },
        "id": "g1iMs66klohA",
        "outputId": "d433c8cf-af71-4369-b856-1c696eae36d6"
      },
      "execution_count": 9,
      "outputs": [
        {
          "output_type": "stream",
          "name": "stdout",
          "text": [
            "{'a': 'pakistan', 'b': 'China'}\n"
          ]
        }
      ]
    },
    {
      "cell_type": "code",
      "source": [
        "def xyz(**kargs):\n",
        "    print(kargs, type(kargs))\n",
        "\n",
        "\n",
        "xyz(a=7, b=20, c=30, x=1,y=2 , name=\"Muhammad Qasim\")"
      ],
      "metadata": {
        "colab": {
          "base_uri": "https://localhost:8080/"
        },
        "id": "6792QY1jmAYf",
        "outputId": "1e6c3d0e-d07f-416a-bc42-d14410da0dd8"
      },
      "execution_count": 10,
      "outputs": [
        {
          "output_type": "stream",
          "name": "stdout",
          "text": [
            "{'a': 7, 'b': 20, 'c': 30, 'x': 1, 'y': 2, 'name': 'Muhammad Qasim'} <class 'dict'>\n"
          ]
        }
      ]
    },
    {
      "cell_type": "code",
      "source": [
        "def my_function(a, b, *abc, **xyz):\n",
        "    print(a,b, abc, xyz)\n",
        "\n",
        "my_function(1,2, 7,9,9,9, c=20, d= 30, x=100)"
      ],
      "metadata": {
        "colab": {
          "base_uri": "https://localhost:8080/"
        },
        "id": "_usTXd6QmJI1",
        "outputId": "a7e488ce-6693-4773-8d7b-e375a1178434"
      },
      "execution_count": 11,
      "outputs": [
        {
          "output_type": "stream",
          "name": "stdout",
          "text": [
            "1 2 (7, 9, 9, 9) {'c': 20, 'd': 30, 'x': 100}\n"
          ]
        }
      ]
    },
    {
      "cell_type": "code",
      "source": [
        "def my_function(a:int, b:int, *abc:Tuple[int, ...], **xyz:Dict[str,int]):\n",
        "    print(a,b, abc, xyz)\n",
        "\n",
        "my_function(1,2, 7,9,9,9, c=20, d= 30, x=100)"
      ],
      "metadata": {
        "colab": {
          "base_uri": "https://localhost:8080/"
        },
        "id": "GD4jpAR_mJNl",
        "outputId": "19a3ae23-55f4-474a-cf42-7561c1ebebef"
      },
      "execution_count": 12,
      "outputs": [
        {
          "output_type": "stream",
          "name": "stdout",
          "text": [
            "1 2 (7, 9, 9, 9) {'c': 20, 'd': 30, 'x': 100}\n"
          ]
        }
      ]
    },
    {
      "cell_type": "code",
      "source": [
        "def my_function(a: int, b: int, *abc: int, **xyz: int) -> None:\n",
        "    print(a, b, abc, xyz)\n",
        "\n",
        "my_function(1, 2, 7, 9, 9, 9, c=20, d=30, x=100)"
      ],
      "metadata": {
        "colab": {
          "base_uri": "https://localhost:8080/"
        },
        "id": "W-5B0cAAmjy-",
        "outputId": "33a3f707-0183-45f4-999c-6602addd0f0a"
      },
      "execution_count": 13,
      "outputs": [
        {
          "output_type": "stream",
          "name": "stdout",
          "text": [
            "1 2 (7, 9, 9, 9) {'c': 20, 'd': 30, 'x': 100}\n"
          ]
        }
      ]
    },
    {
      "cell_type": "code",
      "source": [
        "from typing import Callable\n",
        "\n",
        "def my_decorator(func: Callable[[], None])-> Callable[[], None]:\n",
        "    def wrapper():\n",
        "        print(\"Something is happening before the function is called.\")\n",
        "        func()\n",
        "        print(\"Something is happening after the function is called.\")\n",
        "    return wrapper\n",
        "\n",
        "@my_decorator\n",
        "def say_hello():\n",
        "    print(\"Hello!\")\n",
        "\n",
        "say_hello()"
      ],
      "metadata": {
        "colab": {
          "base_uri": "https://localhost:8080/"
        },
        "id": "DHysj1n2mj24",
        "outputId": "3d33f2d5-d238-4c60-b855-5bb2123bcc36"
      },
      "execution_count": 14,
      "outputs": [
        {
          "output_type": "stream",
          "name": "stdout",
          "text": [
            "Something is happening before the function is called.\n",
            "Hello!\n",
            "Something is happening after the function is called.\n"
          ]
        }
      ]
    },
    {
      "cell_type": "code",
      "source": [
        "from typing import Callable\n",
        "\n",
        "def my_decorator(func: Callable[[int], None]) -> Callable[[int], None]:\n",
        "    def wrapper(num1: int) -> None:\n",
        "        print(\"Something is happening before the function is called.\")\n",
        "        func(num1)\n",
        "        print(\"Something is happening after the function is called.\")\n",
        "    return wrapper\n",
        "\n",
        "@my_decorator\n",
        "def say_hello(num1: int) -> None:\n",
        "    print(num1)\n",
        "\n",
        "say_hello(100)"
      ],
      "metadata": {
        "colab": {
          "base_uri": "https://localhost:8080/"
        },
        "id": "2LQUm4SSmpu0",
        "outputId": "f73cc211-4f98-44d4-ca12-33a7f11014da"
      },
      "execution_count": 15,
      "outputs": [
        {
          "output_type": "stream",
          "name": "stdout",
          "text": [
            "Something is happening before the function is called.\n",
            "100\n",
            "Something is happening after the function is called.\n"
          ]
        }
      ]
    },
    {
      "cell_type": "code",
      "source": [
        "def factorial(x: int) -> int:\n",
        "    \"\"\"This is a recursive function\n",
        "    to find the factorial of an integer\"\"\"\n",
        "    if x == 1:\n",
        "        return 1\n",
        "    else:\n",
        "        return (x * factorial(x-1))\n",
        "        #       5*4*3*2*1\n",
        "\n",
        "num = 5\n",
        "print(\"The factorial of\", num, \"is\", factorial(num))"
      ],
      "metadata": {
        "colab": {
          "base_uri": "https://localhost:8080/"
        },
        "id": "XhwFhW8zmpzI",
        "outputId": "d91999c8-b252-44fb-c6d5-fefe64c0cd21"
      },
      "execution_count": 16,
      "outputs": [
        {
          "output_type": "stream",
          "name": "stdout",
          "text": [
            "The factorial of 5 is 120\n"
          ]
        }
      ]
    },
    {
      "cell_type": "code",
      "source": [
        "5*4*3*2*1"
      ],
      "metadata": {
        "colab": {
          "base_uri": "https://localhost:8080/"
        },
        "id": "0_r3E5ZDm9rc",
        "outputId": "caa9d817-b2e2-4892-e4bc-809eaa16c09e"
      },
      "execution_count": 17,
      "outputs": [
        {
          "output_type": "execute_result",
          "data": {
            "text/plain": [
              "120"
            ]
          },
          "metadata": {},
          "execution_count": 17
        }
      ]
    }
  ]
}