{
  "nbformat": 4,
  "nbformat_minor": 0,
  "metadata": {
    "colab": {
      "provenance": []
    },
    "kernelspec": {
      "name": "python3",
      "display_name": "Python 3"
    },
    "language_info": {
      "name": "python"
    }
  },
  "cells": [
    {
      "cell_type": "markdown",
      "source": [
        "Python divides the operators in the following groups:\n",
        "\n",
        "\n",
        "* Arithmetic operators\n",
        "* Assignment operators\n",
        "* Comparison operators\n",
        "* Logical operators\n",
        "* Identity operators  \n",
        "* Membership operators\n",
        "* Bitwise operators  \n",
        "  \n",
        "\n"
      ],
      "metadata": {
        "id": "TpLU5PTZawBL"
      }
    },
    {
      "cell_type": "markdown",
      "source": [
        "python arithmetic operators"
      ],
      "metadata": {
        "id": "ojiJoabNcgCj"
      }
    },
    {
      "cell_type": "code",
      "source": [
        "# !pip install pandas\n",
        "# import pandas as pd\n",
        "\n",
        "table = pd.read_html('https://www.w3schools.com/python/python_operators.asp')\n",
        "table[0]"
      ],
      "metadata": {
        "colab": {
          "base_uri": "https://localhost:8080/",
          "height": 201
        },
        "id": "S4MY3OSffkOb",
        "outputId": "753ed472-8f4a-4630-942f-77f170581c02"
      },
      "execution_count": null,
      "outputs": [
        {
          "output_type": "error",
          "ename": "NameError",
          "evalue": "name 'pd' is not defined",
          "traceback": [
            "\u001b[0;31m---------------------------------------------------------------------------\u001b[0m",
            "\u001b[0;31mNameError\u001b[0m                                 Traceback (most recent call last)",
            "\u001b[0;32m<ipython-input-30-19233c2abe3b>\u001b[0m in \u001b[0;36m<cell line: 4>\u001b[0;34m()\u001b[0m\n\u001b[1;32m      2\u001b[0m \u001b[0;31m# import pandas as pd\u001b[0m\u001b[0;34m\u001b[0m\u001b[0;34m\u001b[0m\u001b[0m\n\u001b[1;32m      3\u001b[0m \u001b[0;34m\u001b[0m\u001b[0m\n\u001b[0;32m----> 4\u001b[0;31m \u001b[0mtable\u001b[0m \u001b[0;34m=\u001b[0m \u001b[0mpd\u001b[0m\u001b[0;34m.\u001b[0m\u001b[0mread_html\u001b[0m\u001b[0;34m(\u001b[0m\u001b[0;34m'https://www.w3schools.com/python/python_operators.asp'\u001b[0m\u001b[0;34m)\u001b[0m\u001b[0;34m\u001b[0m\u001b[0;34m\u001b[0m\u001b[0m\n\u001b[0m\u001b[1;32m      5\u001b[0m \u001b[0mtable\u001b[0m\u001b[0;34m[\u001b[0m\u001b[0;36m0\u001b[0m\u001b[0;34m]\u001b[0m\u001b[0;34m\u001b[0m\u001b[0;34m\u001b[0m\u001b[0m\n",
            "\u001b[0;31mNameError\u001b[0m: name 'pd' is not defined"
          ]
        }
      ]
    },
    {
      "cell_type": "code",
      "source": [
        "a : int = 7\n",
        "b : int = 2\n",
        "\n",
        "print(a + b) # addtition\n",
        "print(a - b) # subtraction\n",
        "print(a * b)\n",
        "print(a / b) # division"
      ],
      "metadata": {
        "colab": {
          "base_uri": "https://localhost:8080/"
        },
        "id": "gNNJo_uhfn4C",
        "outputId": "1cf3bba5-25a3-428b-da18-64a0336fcc2f"
      },
      "execution_count": null,
      "outputs": [
        {
          "output_type": "stream",
          "name": "stdout",
          "text": [
            "9\n",
            "5\n",
            "14\n",
            "3.5\n"
          ]
        }
      ]
    },
    {
      "cell_type": "code",
      "source": [
        "a : int = 11\n",
        "b : int = 3\n",
        "\n",
        "print(a % 3)"
      ],
      "metadata": {
        "colab": {
          "base_uri": "https://localhost:8080/"
        },
        "id": "TEGvd3n4gA2h",
        "outputId": "61859fb0-20d0-4cc6-d4c4-f18b27661a37"
      },
      "execution_count": null,
      "outputs": [
        {
          "output_type": "stream",
          "name": "stdout",
          "text": [
            "2\n"
          ]
        }
      ]
    },
    {
      "cell_type": "code",
      "source": [
        "print(2**2)\n",
        "print(2**3)"
      ],
      "metadata": {
        "colab": {
          "base_uri": "https://localhost:8080/"
        },
        "id": "oIld_mnygIjY",
        "outputId": "4b0c3414-cc65-404a-9129-cbdf1363b3e2"
      },
      "execution_count": null,
      "outputs": [
        {
          "output_type": "stream",
          "name": "stdout",
          "text": [
            "4\n",
            "8\n"
          ]
        }
      ]
    },
    {
      "cell_type": "code",
      "source": [
        "print(12 / 3)"
      ],
      "metadata": {
        "colab": {
          "base_uri": "https://localhost:8080/"
        },
        "id": "_Jv3QSIWgWtq",
        "outputId": "064f36a7-c89c-4b9d-e80a-81a0c20ef13c"
      },
      "execution_count": null,
      "outputs": [
        {
          "output_type": "stream",
          "name": "stdout",
          "text": [
            "4.0\n"
          ]
        }
      ]
    },
    {
      "cell_type": "code",
      "source": [
        "print(14.8 / 3)"
      ],
      "metadata": {
        "colab": {
          "base_uri": "https://localhost:8080/"
        },
        "id": "PntMtG-bgemn",
        "outputId": "f6ba0290-ab03-40e4-dcb5-766496bc5d23"
      },
      "execution_count": null,
      "outputs": [
        {
          "output_type": "stream",
          "name": "stdout",
          "text": [
            "4.933333333333334\n"
          ]
        }
      ]
    },
    {
      "cell_type": "code",
      "source": [
        "print( 14.8 // 3)"
      ],
      "metadata": {
        "colab": {
          "base_uri": "https://localhost:8080/"
        },
        "id": "FJ3AEjwihLOm",
        "outputId": "5b8d2b5a-ed3d-43cb-a18b-975b0b72170c"
      },
      "execution_count": null,
      "outputs": [
        {
          "output_type": "stream",
          "name": "stdout",
          "text": [
            "4.0\n"
          ]
        }
      ]
    },
    {
      "cell_type": "code",
      "source": [
        "print( 14 // 3)"
      ],
      "metadata": {
        "colab": {
          "base_uri": "https://localhost:8080/"
        },
        "id": "M1L1P4IQhQWt",
        "outputId": "93dc2a6c-10d9-41eb-9812-6022e012e250"
      },
      "execution_count": null,
      "outputs": [
        {
          "output_type": "stream",
          "name": "stdout",
          "text": [
            "4\n"
          ]
        }
      ]
    },
    {
      "cell_type": "markdown",
      "source": [
        "Python Assignment Operators"
      ],
      "metadata": {
        "id": "d_ftibN_hUqW"
      }
    },
    {
      "cell_type": "code",
      "source": [
        "a : int = 7\n",
        "print(b := 7)"
      ],
      "metadata": {
        "colab": {
          "base_uri": "https://localhost:8080/"
        },
        "id": "rGBBx8NUhcXE",
        "outputId": "cb09c6a6-f65d-46c2-dcd7-090cc5e55adc"
      },
      "execution_count": null,
      "outputs": [
        {
          "output_type": "stream",
          "name": "stdout",
          "text": [
            "7\n"
          ]
        }
      ]
    },
    {
      "cell_type": "code",
      "source": [
        "# = assign\n",
        "a : int = 7\n",
        "b : int = 2"
      ],
      "metadata": {
        "id": "GfzqSGlPiiyy"
      },
      "execution_count": null,
      "outputs": []
    },
    {
      "cell_type": "code",
      "source": [
        "# +=\n",
        "a : int = 7\n",
        "print(a)\n",
        "a = a + 2\n",
        "print(a)"
      ],
      "metadata": {
        "colab": {
          "base_uri": "https://localhost:8080/"
        },
        "id": "_k5vqrWpi0Lx",
        "outputId": "37222fc1-7468-4cdb-8dd1-5f5151bbdbfd"
      },
      "execution_count": null,
      "outputs": [
        {
          "output_type": "stream",
          "name": "stdout",
          "text": [
            "7\n",
            "9\n"
          ]
        }
      ]
    },
    {
      "cell_type": "code",
      "source": [
        "# +=\n",
        "a : int = 7\n",
        "print(a)\n",
        "a += 2\n",
        "print(a)"
      ],
      "metadata": {
        "colab": {
          "base_uri": "https://localhost:8080/"
        },
        "id": "85DkfS4wi-Z4",
        "outputId": "d55f24d6-6713-45a9-c870-6609800703a4"
      },
      "execution_count": null,
      "outputs": [
        {
          "output_type": "stream",
          "name": "stdout",
          "text": [
            "7\n",
            "9\n"
          ]
        }
      ]
    },
    {
      "cell_type": "code",
      "source": [
        "a : int = 7\n",
        "print(a)\n",
        "a -= 2\n",
        "print(a)"
      ],
      "metadata": {
        "colab": {
          "base_uri": "https://localhost:8080/"
        },
        "id": "Zxf9qkPZjFUI",
        "outputId": "21e970d0-0b93-4e2e-e118-d654638074e8"
      },
      "execution_count": null,
      "outputs": [
        {
          "output_type": "stream",
          "name": "stdout",
          "text": [
            "7\n",
            "5\n"
          ]
        }
      ]
    },
    {
      "cell_type": "code",
      "source": [
        "a : int = 7\n",
        "print(a)\n",
        "a *= 2\n",
        "print(a)"
      ],
      "metadata": {
        "colab": {
          "base_uri": "https://localhost:8080/"
        },
        "id": "Nc_Ft2ePlGPT",
        "outputId": "d048fe76-8b7b-4ce0-9e59-bd2730a27507"
      },
      "execution_count": null,
      "outputs": [
        {
          "output_type": "stream",
          "name": "stdout",
          "text": [
            "7\n",
            "14\n"
          ]
        }
      ]
    },
    {
      "cell_type": "code",
      "source": [
        "a : int = 7\n",
        "print(a)\n",
        "a /= 2\n",
        "print(a)"
      ],
      "metadata": {
        "colab": {
          "base_uri": "https://localhost:8080/"
        },
        "id": "NN0_2RWslMVj",
        "outputId": "8f323b15-209f-4636-abb8-7057934ca003"
      },
      "execution_count": null,
      "outputs": [
        {
          "output_type": "stream",
          "name": "stdout",
          "text": [
            "7\n",
            "3.5\n"
          ]
        }
      ]
    },
    {
      "cell_type": "code",
      "source": [
        "a : int = 7\n",
        "print(a)\n",
        "a %= 2\n",
        "print(a)"
      ],
      "metadata": {
        "colab": {
          "base_uri": "https://localhost:8080/"
        },
        "id": "jMk-GqZSlQeK",
        "outputId": "0f81d627-d2dc-449f-a9d7-b39d7d10c92a"
      },
      "execution_count": null,
      "outputs": [
        {
          "output_type": "stream",
          "name": "stdout",
          "text": [
            "7\n",
            "1\n"
          ]
        }
      ]
    },
    {
      "cell_type": "code",
      "source": [
        "a : int = 7\n",
        "print(a)\n",
        "a //= 2\n",
        "print(a)"
      ],
      "metadata": {
        "colab": {
          "base_uri": "https://localhost:8080/"
        },
        "id": "sPLDtKAWlYDp",
        "outputId": "3ec093ba-447f-4b75-f13c-6d85f1550267"
      },
      "execution_count": null,
      "outputs": [
        {
          "output_type": "stream",
          "name": "stdout",
          "text": [
            "7\n",
            "3\n"
          ]
        }
      ]
    },
    {
      "cell_type": "markdown",
      "source": [
        "Python Comparison Operators"
      ],
      "metadata": {
        "id": "ZGpBRzTcjKfo"
      }
    },
    {
      "cell_type": "code",
      "source": [
        "a : int = 7\n",
        "b : int = 10\n",
        "\n",
        "print( a == b )\n",
        "# a == b\n",
        "# 7 == 10\n",
        "# False"
      ],
      "metadata": {
        "colab": {
          "base_uri": "https://localhost:8080/"
        },
        "id": "uhrC-5wcjLrg",
        "outputId": "a6f07736-0295-4283-e440-d62001403834"
      },
      "execution_count": null,
      "outputs": [
        {
          "output_type": "stream",
          "name": "stdout",
          "text": [
            "False\n"
          ]
        }
      ]
    },
    {
      "cell_type": "code",
      "source": [
        "a : int = 7\n",
        "b : int = 7\n",
        "\n",
        "print( a == b )\n",
        "# a == b\n",
        "# 7 == 7\n",
        "# True"
      ],
      "metadata": {
        "colab": {
          "base_uri": "https://localhost:8080/"
        },
        "id": "Xo9ogmFIjZzB",
        "outputId": "73b95528-0c05-46fe-f8df-2bebea5473a3"
      },
      "execution_count": null,
      "outputs": [
        {
          "output_type": "stream",
          "name": "stdout",
          "text": [
            "True\n"
          ]
        }
      ]
    },
    {
      "cell_type": "code",
      "source": [
        "a : int = 7\n",
        "b : str = '7'\n",
        "\n",
        "print(a == b)\n",
        "# a == b\n",
        "# 7 == 7\n",
        "# True"
      ],
      "metadata": {
        "colab": {
          "base_uri": "https://localhost:8080/"
        },
        "id": "HrUIhaVCjp1G",
        "outputId": "84202b22-91a9-4ea2-ba00-51f12bfcbf98"
      },
      "execution_count": null,
      "outputs": [
        {
          "output_type": "stream",
          "name": "stdout",
          "text": [
            "False\n"
          ]
        }
      ]
    },
    {
      "cell_type": "code",
      "source": [
        "# !=\n",
        "a : int = 7\n",
        "b : int = 7\n",
        "\n",
        "print( a != b )\n",
        "# a == b\n",
        "# 7 == 7\n",
        "# False\n"
      ],
      "metadata": {
        "colab": {
          "base_uri": "https://localhost:8080/"
        },
        "id": "cbPiC4c5jt8-",
        "outputId": "c12c7869-d294-44f4-9723-12e80ac7c61b"
      },
      "execution_count": null,
      "outputs": [
        {
          "output_type": "stream",
          "name": "stdout",
          "text": [
            "False\n"
          ]
        }
      ]
    },
    {
      "cell_type": "code",
      "source": [
        "a : int = 7\n",
        "b : int = 8\n",
        "\n",
        "print(a > b)\n",
        "# a > b\n",
        "# 7 > 8\n",
        "# False"
      ],
      "metadata": {
        "colab": {
          "base_uri": "https://localhost:8080/"
        },
        "id": "8iXU9MODl60K",
        "outputId": "d852e0a3-195f-4210-a229-248de8eeef80"
      },
      "execution_count": null,
      "outputs": [
        {
          "output_type": "stream",
          "name": "stdout",
          "text": [
            "False\n"
          ]
        }
      ]
    },
    {
      "cell_type": "code",
      "source": [
        "a : int = 7\n",
        "b : int = 7\n",
        "\n",
        "print(a > b)\n",
        "# a > b\n",
        "# 7 > 8\n",
        "# False"
      ],
      "metadata": {
        "colab": {
          "base_uri": "https://localhost:8080/"
        },
        "id": "7gvUvbXgl_U_",
        "outputId": "3dc6e4ca-1a0e-4fd3-db1f-8ab1157447df"
      },
      "execution_count": null,
      "outputs": [
        {
          "output_type": "stream",
          "name": "stdout",
          "text": [
            "False\n"
          ]
        }
      ]
    },
    {
      "cell_type": "code",
      "source": [
        "a : int = 10\n",
        "b : int = 8\n",
        "\n",
        "print(a > b)\n",
        "# a > b\n",
        "# 10 > 8\n",
        "# False"
      ],
      "metadata": {
        "colab": {
          "base_uri": "https://localhost:8080/"
        },
        "id": "iA8rmxntmBNv",
        "outputId": "6557458a-49df-4d66-fab3-89066a345a0a"
      },
      "execution_count": null,
      "outputs": [
        {
          "output_type": "stream",
          "name": "stdout",
          "text": [
            "True\n"
          ]
        }
      ]
    },
    {
      "cell_type": "code",
      "source": [
        "a : int = 10\n",
        "b : int = 8\n",
        "\n",
        "print(a < b)\n",
        "# a < b\n",
        "# 10 < 8\n",
        "# False"
      ],
      "metadata": {
        "colab": {
          "base_uri": "https://localhost:8080/"
        },
        "id": "ZYgZiUkWmKA_",
        "outputId": "ed13e52a-a95d-4faa-d274-8e237f02a036"
      },
      "execution_count": null,
      "outputs": [
        {
          "output_type": "stream",
          "name": "stdout",
          "text": [
            "False\n"
          ]
        }
      ]
    },
    {
      "cell_type": "code",
      "source": [
        "a : int = 2\n",
        "b : int = 7\n",
        "\n",
        "print(a >= b)"
      ],
      "metadata": {
        "colab": {
          "base_uri": "https://localhost:8080/"
        },
        "id": "WyysZio8mXC_",
        "outputId": "79b7155f-50de-448c-93fd-093af3704fa6"
      },
      "execution_count": null,
      "outputs": [
        {
          "output_type": "stream",
          "name": "stdout",
          "text": [
            "False\n"
          ]
        }
      ]
    },
    {
      "cell_type": "code",
      "source": [
        "a : int = 7\n",
        "b : int = 7\n",
        "\n",
        "print(a >= b)"
      ],
      "metadata": {
        "colab": {
          "base_uri": "https://localhost:8080/"
        },
        "id": "h1nEijxamdym",
        "outputId": "92e053c0-dfd7-4f85-c104-843ed0d77b71"
      },
      "execution_count": null,
      "outputs": [
        {
          "output_type": "stream",
          "name": "stdout",
          "text": [
            "True\n"
          ]
        }
      ]
    },
    {
      "cell_type": "code",
      "source": [
        "a : int = 7\n",
        "b : int = 7\n",
        "\n",
        "print(a <= b)"
      ],
      "metadata": {
        "colab": {
          "base_uri": "https://localhost:8080/"
        },
        "id": "dlAKnbohmhNd",
        "outputId": "04b6697e-8c53-43cb-e0fc-33aa0271f6a0"
      },
      "execution_count": null,
      "outputs": [
        {
          "output_type": "stream",
          "name": "stdout",
          "text": [
            "True\n"
          ]
        }
      ]
    },
    {
      "cell_type": "code",
      "source": [
        "a : int = 7\n",
        "b : int = 7\n",
        "\n",
        "print(a => b)"
      ],
      "metadata": {
        "colab": {
          "base_uri": "https://localhost:8080/",
          "height": 110
        },
        "id": "wgTGPKtimsh4",
        "outputId": "d8c88116-0c43-4dd1-955c-338e615b726f"
      },
      "execution_count": null,
      "outputs": [
        {
          "output_type": "error",
          "ename": "SyntaxError",
          "evalue": "invalid syntax (<ipython-input-36-e93c8f43d01d>, line 4)",
          "traceback": [
            "\u001b[0;36m  File \u001b[0;32m\"<ipython-input-36-e93c8f43d01d>\"\u001b[0;36m, line \u001b[0;32m4\u001b[0m\n\u001b[0;31m    print(a => b)\u001b[0m\n\u001b[0m             ^\u001b[0m\n\u001b[0;31mSyntaxError\u001b[0m\u001b[0;31m:\u001b[0m invalid syntax\n"
          ]
        }
      ]
    },
    {
      "cell_type": "markdown",
      "source": [
        "# **ASCII Code**\n",
        "\n",
        "\n",
        "* A=65\n",
        "* B=60\n",
        "* Z =90\n",
        "* a=97\n",
        "* b=98\n",
        "* z=122\n",
        "* 0=48\n",
        "* 1=49\n",
        "*9=57    \n",
        "\n"
      ],
      "metadata": {
        "id": "IlIR30H8nkY9"
      }
    },
    {
      "cell_type": "code",
      "source": [
        "ord('A')"
      ],
      "metadata": {
        "colab": {
          "base_uri": "https://localhost:8080/"
        },
        "id": "ssgjrTsvocko",
        "outputId": "e9f3037c-677f-41a0-ca38-7dcef18903f1"
      },
      "execution_count": null,
      "outputs": [
        {
          "output_type": "execute_result",
          "data": {
            "text/plain": [
              "65"
            ]
          },
          "metadata": {},
          "execution_count": 37
        }
      ]
    },
    {
      "cell_type": "code",
      "source": [
        "ord('B')"
      ],
      "metadata": {
        "colab": {
          "base_uri": "https://localhost:8080/"
        },
        "id": "AWgSeD29ou3x",
        "outputId": "c7edf4e3-cfb2-4632-c278-d6662f2a1092"
      },
      "execution_count": null,
      "outputs": [
        {
          "output_type": "execute_result",
          "data": {
            "text/plain": [
              "66"
            ]
          },
          "metadata": {},
          "execution_count": 38
        }
      ]
    },
    {
      "cell_type": "code",
      "source": [
        "chr(65)"
      ],
      "metadata": {
        "colab": {
          "base_uri": "https://localhost:8080/",
          "height": 36
        },
        "id": "772s1P-Vo34I",
        "outputId": "747971f9-8d96-45bf-972a-d37907656f46"
      },
      "execution_count": null,
      "outputs": [
        {
          "output_type": "execute_result",
          "data": {
            "text/plain": [
              "'A'"
            ],
            "application/vnd.google.colaboratory.intrinsic+json": {
              "type": "string"
            }
          },
          "metadata": {},
          "execution_count": 39
        }
      ]
    },
    {
      "cell_type": "code",
      "source": [
        "a : str = 'A'\n",
        "b : str = 'B'\n",
        "\n",
        "print(b >= a)"
      ],
      "metadata": {
        "colab": {
          "base_uri": "https://localhost:8080/"
        },
        "id": "sOnu25lEo48Y",
        "outputId": "e0ef9716-47bc-4649-f123-3cdcb1258174"
      },
      "execution_count": null,
      "outputs": [
        {
          "output_type": "stream",
          "name": "stdout",
          "text": [
            "True\n"
          ]
        }
      ]
    },
    {
      "cell_type": "code",
      "source": [
        "a : str = 'A'\n",
        "b : str = 'a'\n",
        "\n",
        "print(b >= a)"
      ],
      "metadata": {
        "colab": {
          "base_uri": "https://localhost:8080/"
        },
        "id": "Tne_3RzIo_E5",
        "outputId": "1ffffc0b-9a29-4a15-9ce5-9d732f5fedbb"
      },
      "execution_count": null,
      "outputs": [
        {
          "output_type": "stream",
          "name": "stdout",
          "text": [
            "True\n"
          ]
        }
      ]
    },
    {
      "cell_type": "code",
      "source": [
        "a : str = 'A'\n",
        "b : str = 'a'\n",
        "\n",
        "print(b <= a)"
      ],
      "metadata": {
        "colab": {
          "base_uri": "https://localhost:8080/"
        },
        "id": "9etzkr62pAwY",
        "outputId": "564d2e51-41bc-4612-b193-bee92d8112d1"
      },
      "execution_count": null,
      "outputs": [
        {
          "output_type": "stream",
          "name": "stdout",
          "text": [
            "False\n"
          ]
        }
      ]
    },
    {
      "cell_type": "code",
      "source": [
        "a : str = 'A'\n",
        "b : str = 'a'\n",
        "\n",
        "print(b == a)"
      ],
      "metadata": {
        "colab": {
          "base_uri": "https://localhost:8080/"
        },
        "id": "Z6kJjIpPpF8I",
        "outputId": "093a47e9-98fa-4958-949c-5f3917340a32"
      },
      "execution_count": null,
      "outputs": [
        {
          "output_type": "stream",
          "name": "stdout",
          "text": [
            "False\n"
          ]
        }
      ]
    },
    {
      "cell_type": "markdown",
      "source": [
        "Python Logical Operators"
      ],
      "metadata": {
        "id": "f4Ub4rxepZfQ"
      }
    },
    {
      "cell_type": "code",
      "source": [
        "# and  zaroori\n",
        "# or = optional\n",
        "#1        2        3        4\n",
        "True and True and True and True"
      ],
      "metadata": {
        "colab": {
          "base_uri": "https://localhost:8080/"
        },
        "id": "A6pV2OMFpe_l",
        "outputId": "2450ec1b-bd43-4f4d-e1db-88e2e0af302c"
      },
      "execution_count": null,
      "outputs": [
        {
          "output_type": "execute_result",
          "data": {
            "text/plain": [
              "True"
            ]
          },
          "metadata": {},
          "execution_count": 46
        }
      ]
    },
    {
      "cell_type": "code",
      "source": [
        "# and zaroori\n",
        "# or = optional\n",
        "#1        2        3        4\n",
        "print(True and True and True and True  )\n",
        "print(True and True and False and True)\n",
        "print(False and False and False and True)\n"
      ],
      "metadata": {
        "colab": {
          "base_uri": "https://localhost:8080/"
        },
        "id": "UMmTM4nHpwZN",
        "outputId": "6d9fa78f-cbc8-497a-f031-1e04ac6865c8"
      },
      "execution_count": null,
      "outputs": [
        {
          "output_type": "stream",
          "name": "stdout",
          "text": [
            "True\n",
            "False\n",
            "False\n"
          ]
        }
      ]
    },
    {
      "cell_type": "code",
      "source": [
        "# and zaroori\n",
        "# or = optional\n",
        "#1        2        3        4\n",
        "print(True or True or True or True  )\n",
        "print(True or True or False or True)\n",
        "print(False or False or False or True)\n",
        "print(False or False or False or False)"
      ],
      "metadata": {
        "colab": {
          "base_uri": "https://localhost:8080/"
        },
        "id": "Ljd2RIZBp34G",
        "outputId": "71a8e9fb-3a74-475b-cbff-6bf8c76c7861"
      },
      "execution_count": null,
      "outputs": [
        {
          "output_type": "stream",
          "name": "stdout",
          "text": [
            "True\n",
            "True\n",
            "True\n",
            "False\n"
          ]
        }
      ]
    },
    {
      "cell_type": "code",
      "source": [
        "not True"
      ],
      "metadata": {
        "colab": {
          "base_uri": "https://localhost:8080/"
        },
        "id": "XF9l6fNDp71E",
        "outputId": "1dfdb1da-06e5-4265-d027-5a9c54baa857"
      },
      "execution_count": null,
      "outputs": [
        {
          "output_type": "execute_result",
          "data": {
            "text/plain": [
              "False"
            ]
          },
          "metadata": {},
          "execution_count": 49
        }
      ]
    },
    {
      "cell_type": "code",
      "source": [
        "name : str = \"Qasim\"\n",
        "print(not name==\"Qasim\")"
      ],
      "metadata": {
        "colab": {
          "base_uri": "https://localhost:8080/"
        },
        "id": "iul_j_A1qFiU",
        "outputId": "adb70d30-7386-4cf3-ed17-9246b7e90328"
      },
      "execution_count": null,
      "outputs": [
        {
          "output_type": "stream",
          "name": "stdout",
          "text": [
            "False\n"
          ]
        }
      ]
    },
    {
      "cell_type": "code",
      "source": [
        "name : str = \"Qasim\"\n",
        "print(name!=\"Qasim\")"
      ],
      "metadata": {
        "colab": {
          "base_uri": "https://localhost:8080/"
        },
        "id": "awcnd9dBqFr0",
        "outputId": "52837e8a-7c2f-4e6b-cd72-8f6abd4ce1e0"
      },
      "execution_count": null,
      "outputs": [
        {
          "output_type": "stream",
          "name": "stdout",
          "text": [
            "False\n"
          ]
        }
      ]
    },
    {
      "cell_type": "markdown",
      "source": [
        "Python Identity Operators"
      ],
      "metadata": {
        "id": "ykDXWULjrQmJ"
      }
    },
    {
      "cell_type": "code",
      "source": [
        "x : str = 'abc'\n",
        "z : str = 'abc'\n",
        "\n",
        "print(id(x))\n",
        "print(id(z))"
      ],
      "metadata": {
        "colab": {
          "base_uri": "https://localhost:8080/"
        },
        "id": "T7SjSm1xT5uO",
        "outputId": "3a4088e1-3b2e-4bf3-ce1a-4efc561a42e2"
      },
      "execution_count": null,
      "outputs": [
        {
          "output_type": "stream",
          "name": "stdout",
          "text": [
            "138100958875888\n",
            "138100958875888\n"
          ]
        }
      ]
    },
    {
      "cell_type": "code",
      "source": [
        "i : str = 'abc'\n",
        "j : str = 'xyz'\n",
        "\n",
        "print(id(i))\n",
        "print(id(j))\n",
        "\n",
        "i is j"
      ],
      "metadata": {
        "colab": {
          "base_uri": "https://localhost:8080/"
        },
        "id": "WCwql1kyUH2i",
        "outputId": "690b8181-18d2-4f63-a2c1-a6264b9f0708"
      },
      "execution_count": null,
      "outputs": [
        {
          "output_type": "stream",
          "name": "stdout",
          "text": [
            "138100958875888\n",
            "138100544078256\n"
          ]
        },
        {
          "output_type": "execute_result",
          "data": {
            "text/plain": [
              "False"
            ]
          },
          "metadata": {},
          "execution_count": 2
        }
      ]
    },
    {
      "cell_type": "code",
      "source": [
        "x is z"
      ],
      "metadata": {
        "colab": {
          "base_uri": "https://localhost:8080/"
        },
        "id": "IPT-5XsYUN-Z",
        "outputId": "a66021a4-471f-4c3b-c354-1e5c5da80348"
      },
      "execution_count": null,
      "outputs": [
        {
          "output_type": "execute_result",
          "data": {
            "text/plain": [
              "True"
            ]
          },
          "metadata": {},
          "execution_count": 3
        }
      ]
    },
    {
      "cell_type": "code",
      "source": [
        "x : str = 'abc'\n",
        "z : str = 'abc'\n",
        "\n",
        "print(id(x))\n",
        "print(id(z))\n",
        "\n",
        "x is not z"
      ],
      "metadata": {
        "colab": {
          "base_uri": "https://localhost:8080/"
        },
        "id": "DH7FMTluUV3i",
        "outputId": "6e5dd095-0d90-457a-bb31-61b736c403e2"
      },
      "execution_count": null,
      "outputs": [
        {
          "output_type": "stream",
          "name": "stdout",
          "text": [
            "138100958875888\n",
            "138100958875888\n"
          ]
        },
        {
          "output_type": "execute_result",
          "data": {
            "text/plain": [
              "False"
            ]
          },
          "metadata": {},
          "execution_count": 4
        }
      ]
    },
    {
      "cell_type": "markdown",
      "source": [
        "# Python Membership Operators"
      ],
      "metadata": {
        "id": "PInlOn2kUdIS"
      }
    },
    {
      "cell_type": "code",
      "source": [
        "names: list[str] = [chr(i) for i in range(65,91)]\n",
        "display(names)"
      ],
      "metadata": {
        "colab": {
          "base_uri": "https://localhost:8080/",
          "height": 492
        },
        "id": "bzi7Od4XUfII",
        "outputId": "53441e2b-0de7-4a8f-d1b1-2cce3fad40fc"
      },
      "execution_count": null,
      "outputs": [
        {
          "output_type": "display_data",
          "data": {
            "text/plain": [
              "['A',\n",
              " 'B',\n",
              " 'C',\n",
              " 'D',\n",
              " 'E',\n",
              " 'F',\n",
              " 'G',\n",
              " 'H',\n",
              " 'I',\n",
              " 'J',\n",
              " 'K',\n",
              " 'L',\n",
              " 'M',\n",
              " 'N',\n",
              " 'O',\n",
              " 'P',\n",
              " 'Q',\n",
              " 'R',\n",
              " 'S',\n",
              " 'T',\n",
              " 'U',\n",
              " 'V',\n",
              " 'W',\n",
              " 'X',\n",
              " 'Y',\n",
              " 'Z']"
            ]
          },
          "metadata": {}
        }
      ]
    },
    {
      "cell_type": "code",
      "source": [
        "names: list[str] = [chr(i) for i in range(65,91)]\n",
        "\n",
        "\"D\" in names"
      ],
      "metadata": {
        "colab": {
          "base_uri": "https://localhost:8080/"
        },
        "id": "9b28r-ONXOZx",
        "outputId": "9be14b09-c96d-422b-eeff-9c7c79586860"
      },
      "execution_count": null,
      "outputs": [
        {
          "output_type": "execute_result",
          "data": {
            "text/plain": [
              "True"
            ]
          },
          "metadata": {},
          "execution_count": 6
        }
      ]
    },
    {
      "cell_type": "code",
      "source": [
        "names: list[str] = [chr(i) for i in range(65,91)]\n",
        "display(names)\n",
        "\n",
        "\"Pakistan\" in names"
      ],
      "metadata": {
        "colab": {
          "base_uri": "https://localhost:8080/",
          "height": 510
        },
        "id": "CX8OngP3XQJA",
        "outputId": "2017d849-534d-4ad9-db7f-632a021e7cea"
      },
      "execution_count": null,
      "outputs": [
        {
          "output_type": "display_data",
          "data": {
            "text/plain": [
              "['A',\n",
              " 'B',\n",
              " 'C',\n",
              " 'D',\n",
              " 'E',\n",
              " 'F',\n",
              " 'G',\n",
              " 'H',\n",
              " 'I',\n",
              " 'J',\n",
              " 'K',\n",
              " 'L',\n",
              " 'M',\n",
              " 'N',\n",
              " 'O',\n",
              " 'P',\n",
              " 'Q',\n",
              " 'R',\n",
              " 'S',\n",
              " 'T',\n",
              " 'U',\n",
              " 'V',\n",
              " 'W',\n",
              " 'X',\n",
              " 'Y',\n",
              " 'Z']"
            ]
          },
          "metadata": {}
        },
        {
          "output_type": "execute_result",
          "data": {
            "text/plain": [
              "False"
            ]
          },
          "metadata": {},
          "execution_count": 7
        }
      ]
    },
    {
      "cell_type": "code",
      "source": [
        "names: list[str] = [chr(i) for i in range(65,91)]\n",
        "\n",
        "\"D\" not in names"
      ],
      "metadata": {
        "colab": {
          "base_uri": "https://localhost:8080/"
        },
        "id": "GUAioB3jXXlA",
        "outputId": "b2e398db-cadb-4173-c0a1-0280acaf963e"
      },
      "execution_count": null,
      "outputs": [
        {
          "output_type": "execute_result",
          "data": {
            "text/plain": [
              "False"
            ]
          },
          "metadata": {},
          "execution_count": 8
        }
      ]
    },
    {
      "cell_type": "code",
      "source": [
        "names : list[str] = ['Sir Zia','Sir Inam', 'Qasim']\n",
        "\n",
        "uinput : str = input(\"Enter your name\")\n",
        "\n",
        "uinput in names"
      ],
      "metadata": {
        "colab": {
          "base_uri": "https://localhost:8080/"
        },
        "id": "SOrfIl4HXcPX",
        "outputId": "6c8ad496-47b0-4afc-cf96-cf6a4959eca5"
      },
      "execution_count": null,
      "outputs": [
        {
          "name": "stdout",
          "output_type": "stream",
          "text": [
            "Enter your nameanzala\n"
          ]
        },
        {
          "output_type": "execute_result",
          "data": {
            "text/plain": [
              "False"
            ]
          },
          "metadata": {},
          "execution_count": 9
        }
      ]
    },
    {
      "cell_type": "code",
      "source": [
        "names :  list[str] = ['Sir Zia','Sir Inam', 'Qasim']\n",
        "uinput : str = input(\"Enter your name\")\n",
        "\n",
        "uinput in names"
      ],
      "metadata": {
        "colab": {
          "base_uri": "https://localhost:8080/"
        },
        "id": "Q_aLOgGZXct3",
        "outputId": "e479abc1-bd9f-4ee8-b64b-fac3a0a1f54b"
      },
      "execution_count": null,
      "outputs": [
        {
          "name": "stdout",
          "output_type": "stream",
          "text": [
            "Enter your name areeba\n"
          ]
        },
        {
          "output_type": "execute_result",
          "data": {
            "text/plain": [
              "False"
            ]
          },
          "metadata": {},
          "execution_count": 11
        }
      ]
    },
    {
      "cell_type": "code",
      "source": [
        "names : list[str] = ['Sir Zia','Sir Inam', 'Qasim']\n",
        "\n",
        "uinput : str = input(\"Enter your name\")\n",
        "\n",
        "uinput not in names"
      ],
      "metadata": {
        "colab": {
          "base_uri": "https://localhost:8080/"
        },
        "id": "eyKe727RXc13",
        "outputId": "fde9f615-7939-4024-98f2-fc76d4774fdf"
      },
      "execution_count": null,
      "outputs": [
        {
          "name": "stdout",
          "output_type": "stream",
          "text": [
            "Enter your name Qasim\n"
          ]
        },
        {
          "output_type": "execute_result",
          "data": {
            "text/plain": [
              "True"
            ]
          },
          "metadata": {},
          "execution_count": 12
        }
      ]
    },
    {
      "cell_type": "markdown",
      "source": [
        "# PEMDAS"
      ],
      "metadata": {
        "id": "eUxc9ezua_8u"
      }
    },
    {
      "cell_type": "code",
      "source": [
        "print(3 + 2 - 2 * 4 /2 + 2)"
      ],
      "metadata": {
        "colab": {
          "base_uri": "https://localhost:8080/"
        },
        "id": "v4CRIygobCal",
        "outputId": "4be5c883-7283-47b5-aeb8-2eea4cff4145"
      },
      "execution_count": null,
      "outputs": [
        {
          "output_type": "stream",
          "name": "stdout",
          "text": [
            "3.0\n"
          ]
        }
      ]
    },
    {
      "cell_type": "code",
      "source": [
        "print(3 + 2 - 2 * 4 /2 + 2)\n",
        "#     3+2−2×4÷2+2\n",
        "#     3 + 2 - 4 + 2\n",
        "#      6    - 8"
      ],
      "metadata": {
        "colab": {
          "base_uri": "https://localhost:8080/"
        },
        "id": "KWZIsDYebOgc",
        "outputId": "d7a01344-a38f-4dc3-d55c-6633ed081139"
      },
      "execution_count": null,
      "outputs": [
        {
          "output_type": "stream",
          "name": "stdout",
          "text": [
            "3.0\n"
          ]
        }
      ]
    },
    {
      "cell_type": "code",
      "source": [
        "print((50 + 30) - (60 + 3))"
      ],
      "metadata": {
        "colab": {
          "base_uri": "https://localhost:8080/"
        },
        "id": "kkTk1LFJbRVd",
        "outputId": "79ace194-68ed-47fa-b721-83a59c2ff420"
      },
      "execution_count": null,
      "outputs": [
        {
          "output_type": "stream",
          "name": "stdout",
          "text": [
            "17\n"
          ]
        }
      ]
    },
    {
      "cell_type": "code",
      "source": [
        "universe_age: int  = 14_000_000_000\n",
        "print(universe_age)"
      ],
      "metadata": {
        "colab": {
          "base_uri": "https://localhost:8080/"
        },
        "id": "7jUxlg7ndlUF",
        "outputId": "a3f5d774-d4b2-451c-aff9-ff9145525ed6"
      },
      "execution_count": null,
      "outputs": [
        {
          "output_type": "stream",
          "name": "stdout",
          "text": [
            "14000000000\n"
          ]
        }
      ]
    },
    {
      "cell_type": "code",
      "source": [
        "a , b  , c  = 'qasim', 7, 3.0\n",
        "\n",
        "print(a)\n",
        "print(b)\n",
        "print(c)"
      ],
      "metadata": {
        "colab": {
          "base_uri": "https://localhost:8080/"
        },
        "id": "yzHW7c4adpq-",
        "outputId": "426c1956-6746-442a-8cde-a412715e4e1c"
      },
      "execution_count": null,
      "outputs": [
        {
          "output_type": "stream",
          "name": "stdout",
          "text": [
            "qasim\n",
            "7\n",
            "3.0\n"
          ]
        }
      ]
    },
    {
      "cell_type": "code",
      "source": [
        "'qasim', 7, 3.0"
      ],
      "metadata": {
        "colab": {
          "base_uri": "https://localhost:8080/"
        },
        "id": "AgCCsfFEds1F",
        "outputId": "a403d616-1803-4e5c-d4b1-c78b1d52e39d"
      },
      "execution_count": null,
      "outputs": [
        {
          "output_type": "execute_result",
          "data": {
            "text/plain": [
              "('qasim', 7, 3.0)"
            ]
          },
          "metadata": {},
          "execution_count": 19
        }
      ]
    },
    {
      "cell_type": "code",
      "source": [
        "a, b, c = ('qasim', 7, 3.0)\n",
        "print(a)\n",
        "print(b)\n",
        "print(c)"
      ],
      "metadata": {
        "colab": {
          "base_uri": "https://localhost:8080/"
        },
        "id": "z-vWDiqzd3rt",
        "outputId": "e470ba40-3a29-4014-b8f2-bacff1d14c93"
      },
      "execution_count": null,
      "outputs": [
        {
          "output_type": "stream",
          "name": "stdout",
          "text": [
            "qasim\n",
            "7\n",
            "3.0\n"
          ]
        }
      ]
    },
    {
      "cell_type": "code",
      "source": [
        "data = ('qasim', 7, 3.0)\n",
        "print(data[0], data[1], data[2])"
      ],
      "metadata": {
        "colab": {
          "base_uri": "https://localhost:8080/"
        },
        "id": "Tv6yWW5Yd7yu",
        "outputId": "b3a8319a-6ca0-4d9a-829f-0ea20e3e545c"
      },
      "execution_count": null,
      "outputs": [
        {
          "output_type": "stream",
          "name": "stdout",
          "text": [
            "qasim 7 3.0\n"
          ]
        }
      ]
    },
    {
      "cell_type": "code",
      "source": [
        "data = ('qasim', 7, 3.0)\n",
        "print(*data)"
      ],
      "metadata": {
        "colab": {
          "base_uri": "https://localhost:8080/"
        },
        "id": "q21-AyN5eYvT",
        "outputId": "aa257739-46a8-4daf-da53-da3bc2de23a0"
      },
      "execution_count": null,
      "outputs": [
        {
          "output_type": "stream",
          "name": "stdout",
          "text": [
            "qasim 7 3.0\n"
          ]
        }
      ]
    },
    {
      "cell_type": "code",
      "source": [
        "2 * 2\n"
      ],
      "metadata": {
        "colab": {
          "base_uri": "https://localhost:8080/"
        },
        "id": "NNK8ZLPheZxG",
        "outputId": "6014dc20-4c28-4ecf-a6dc-9da645183b48"
      },
      "execution_count": null,
      "outputs": [
        {
          "output_type": "execute_result",
          "data": {
            "text/plain": [
              "4"
            ]
          },
          "metadata": {},
          "execution_count": 23
        }
      ]
    },
    {
      "cell_type": "code",
      "source": [
        "\"a\" * 3"
      ],
      "metadata": {
        "colab": {
          "base_uri": "https://localhost:8080/",
          "height": 36
        },
        "id": "NfoRFCoweZ5k",
        "outputId": "80378102-500d-498e-fc90-4aa375c7dd4c"
      },
      "execution_count": null,
      "outputs": [
        {
          "output_type": "execute_result",
          "data": {
            "text/plain": [
              "'aaa'"
            ],
            "application/vnd.google.colaboratory.intrinsic+json": {
              "type": "string"
            }
          },
          "metadata": {},
          "execution_count": 24
        }
      ]
    },
    {
      "cell_type": "code",
      "source": [
        "print('hello i am a girl')"
      ],
      "metadata": {
        "colab": {
          "base_uri": "https://localhost:8080/"
        },
        "id": "dgAx7mN7e-YN",
        "outputId": "43a30e1e-0815-4c0b-b04c-0ddb45849440"
      },
      "execution_count": null,
      "outputs": [
        {
          "output_type": "stream",
          "name": "stdout",
          "text": [
            "hello i am a girl\n"
          ]
        }
      ]
    }
  ]
}