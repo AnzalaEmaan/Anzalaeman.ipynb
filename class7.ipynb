{
  "nbformat": 4,
  "nbformat_minor": 0,
  "metadata": {
    "colab": {
      "provenance": []
    },
    "kernelspec": {
      "name": "python3",
      "display_name": "Python 3"
    },
    "language_info": {
      "name": "python"
    }
  },
  "cells": [
    {
      "cell_type": "code",
      "source": [
        "data : list[str] = [\"Muhammad Aslam\",\"Muhammad Qasim\",\"MSDS\"]\n",
        "\n",
        "print(data[1])"
      ],
      "metadata": {
        "colab": {
          "base_uri": "https://localhost:8080/"
        },
        "id": "OV88lzEgCMXY",
        "outputId": "8eda707c-edf3-44bd-ab0a-d82bd02565bb"
      },
      "execution_count": null,
      "outputs": [
        {
          "output_type": "stream",
          "name": "stdout",
          "text": [
            "Muhammad Qasim\n"
          ]
        }
      ]
    },
    {
      "cell_type": "code",
      "source": [
        "data : set = {7,1,2,1,1,1,1,3,2}\n",
        "print(data)"
      ],
      "metadata": {
        "colab": {
          "base_uri": "https://localhost:8080/"
        },
        "id": "da0D0eKSpPeF",
        "outputId": "ba92c433-a734-4480-d94d-693ead4b48bc"
      },
      "execution_count": null,
      "outputs": [
        {
          "output_type": "stream",
          "name": "stdout",
          "text": [
            "{1, 2, 3, 7}\n"
          ]
        }
      ]
    },
    {
      "cell_type": "code",
      "source": [
        "[i for i in dir(data) if \"__\" not in i]"
      ],
      "metadata": {
        "colab": {
          "base_uri": "https://localhost:8080/"
        },
        "id": "xzbb1aCzpPhy",
        "outputId": "57d9bd34-e7e3-4837-b6a9-3c81f0f1f700"
      },
      "execution_count": null,
      "outputs": [
        {
          "output_type": "execute_result",
          "data": {
            "text/plain": [
              "['add',\n",
              " 'clear',\n",
              " 'copy',\n",
              " 'difference',\n",
              " 'difference_update',\n",
              " 'discard',\n",
              " 'intersection',\n",
              " 'intersection_update',\n",
              " 'isdisjoint',\n",
              " 'issubset',\n",
              " 'issuperset',\n",
              " 'pop',\n",
              " 'remove',\n",
              " 'symmetric_difference',\n",
              " 'symmetric_difference_update',\n",
              " 'union',\n",
              " 'update']"
            ]
          },
          "metadata": {},
          "execution_count": 7
        }
      ]
    },
    {
      "cell_type": "markdown",
      "source": [
        "#Dictionary\n",
        "\n",
        "\n",
        "* key:value (items)\n",
        "    * key replacement of indexes  \n",
        "    * value item  \n",
        "* dict_variable[key]  \n",
        "    * dict_variable[new_key] = new_value\n",
        "      * add new value  \n",
        "      * update value  \n",
        "\n"
      ],
      "metadata": {
        "id": "OBkVHdGxCY-o"
      }
    },
    {
      "cell_type": "code",
      "source": [
        "from typing import Dict\n",
        "import pprint\n",
        "data : Dict[str,str] = {\n",
        "                        \"fname\":\"Muhammad Aslam\",\n",
        "                        \"name\":\"Muhammad Qasim\",\n",
        "                        \"education\": \"MSDS\"\n",
        "                        }\n",
        "\n",
        "pprint.pprint(data)"
      ],
      "metadata": {
        "colab": {
          "base_uri": "https://localhost:8080/"
        },
        "id": "_9rwsCtCEGDK",
        "outputId": "f942c092-d42d-489a-ebe8-d32897c9e130"
      },
      "execution_count": null,
      "outputs": [
        {
          "output_type": "stream",
          "name": "stdout",
          "text": [
            "{'education': 'MSDS', 'fname': 'Muhammad Aslam', 'name': 'Muhammad Qasim'}\n"
          ]
        }
      ]
    },
    {
      "cell_type": "code",
      "source": [
        "from typing import Dict\n",
        "import pprint\n",
        "data : Dict[str,str] = {\n",
        "                        \"fname\":\"Muhammad Aslam\",\n",
        "                        \"name\":\"Muhammad Qasim\",\n",
        "                        \"education\": \"MSDS\"\n",
        "                        }\n",
        "print(data)"
      ],
      "metadata": {
        "colab": {
          "base_uri": "https://localhost:8080/"
        },
        "id": "TRvx7AMtYw9v",
        "outputId": "1f8930a5-1326-4767-b670-0bbfe238bddd"
      },
      "execution_count": null,
      "outputs": [
        {
          "output_type": "stream",
          "name": "stdout",
          "text": [
            "{'fname': 'Muhammad Aslam', 'name': 'Muhammad Qasim', 'education': 'MSDS'}\n"
          ]
        }
      ]
    },
    {
      "cell_type": "code",
      "source": [
        "from typing import Dict, Union, Optional\n",
        "import pprint\n",
        "\n",
        "\n",
        "Key = Union[int,str]\n",
        "Value = Union[int, str, list, dict, tuple, set]\n",
        "data : Dict[Key,Value] = {\n",
        "                        \"fname\":\"Muhammad Aslam\",\n",
        "                        \"name\":\"Muhammad Qasim\",\n",
        "                        \"education\": \"MSDS\"\n",
        "                        }\n",
        "\n",
        "pprint.pprint(data)"
      ],
      "metadata": {
        "colab": {
          "base_uri": "https://localhost:8080/"
        },
        "id": "DzDOwo4NEsuA",
        "outputId": "7f790fef-4ced-4031-e09e-22c0901f89fd"
      },
      "execution_count": null,
      "outputs": [
        {
          "output_type": "stream",
          "name": "stdout",
          "text": [
            "{'education': 'MSDS', 'fname': 'Muhammad Aslam', 'name': 'Muhammad Qasim'}\n"
          ]
        }
      ]
    },
    {
      "cell_type": "code",
      "source": [
        "from typing import Dict, Union, Optional\n",
        "import pprint\n",
        "\n",
        "\n",
        "Key = Union[int,str]\n",
        "Value = Union[int, str, list, dict, tuple, set]\n",
        "data : Dict[Key,Value] = {\n",
        "                        \"fname\":\"Muhammad Aslam\",\n",
        "                        \"name\":\"Muhammad Qasim\",\n",
        "                        \"education\": \"MSDS\"\n",
        "                        }\n",
        "\n",
        "pprint.pprint(data)\n",
        "print(data[\"name\"])\n",
        "print(data['fname'])\n",
        "print(data['education'])"
      ],
      "metadata": {
        "colab": {
          "base_uri": "https://localhost:8080/"
        },
        "id": "uAXaiBPRE--P",
        "outputId": "51491e86-ab98-4b14-a41a-53be7f4a4918"
      },
      "execution_count": null,
      "outputs": [
        {
          "output_type": "stream",
          "name": "stdout",
          "text": [
            "{'education': 'MSDS', 'fname': 'Muhammad Aslam', 'name': 'Muhammad Qasim'}\n",
            "Muhammad Qasim\n",
            "Muhammad Aslam\n",
            "MSDS\n"
          ]
        }
      ]
    },
    {
      "cell_type": "code",
      "source": [
        "from typing import Dict, Union, Optional\n",
        "import pprint\n",
        "\n",
        "Key = Union[int,str]\n",
        "Value = Union[int, str, list, dict, tuple, set]\n",
        "data : Dict[Key,Value] = {\n",
        "                        \"fname\":\"Muhammad Aslam\",\n",
        "                        \"name\":\"Muhammad Qasim\",\n",
        "                        \"education\": \"MSDS\",\n",
        "                        0 : \"Pakistan\"\n",
        "                        }\n",
        "\n",
        "pprint.pprint(data)\n",
        "print(data[\"name\"])\n",
        "print(data['fname'])\n",
        "print(data['education'])\n",
        "print(data[0])"
      ],
      "metadata": {
        "colab": {
          "base_uri": "https://localhost:8080/"
        },
        "id": "rdNaT7LyGmaR",
        "outputId": "044393e1-8d36-4582-bb9e-ae1916f36e0f"
      },
      "execution_count": null,
      "outputs": [
        {
          "output_type": "stream",
          "name": "stdout",
          "text": [
            "{0: 'Pakistan',\n",
            " 'education': 'MSDS',\n",
            " 'fname': 'Muhammad Aslam',\n",
            " 'name': 'Muhammad Qasim'}\n",
            "Muhammad Qasim\n",
            "Muhammad Aslam\n",
            "MSDS\n",
            "Pakistan\n"
          ]
        }
      ]
    },
    {
      "cell_type": "code",
      "source": [
        "from typing import Dict, Union, Optional\n",
        "import pprint\n",
        "\n",
        "\n",
        "Key = Union[int,str]\n",
        "Value = Union[int, str, list, dict, tuple, set]\n",
        "\n",
        "\n",
        "data : Dict[Key,Value] = {\n",
        "                        \"fname\":\"Muhammad Aslam\",\n",
        "                        \"name\":\"Muhammad Qasim\",\n",
        "                        \"education\": \"MSDS\",\n",
        "                        [1,2,3] : \"Pakistan\",\n",
        "                        (1,2,3) : \"Pakistan\",\n",
        "                         {1,2,3} : \"pakistan\",\n",
        "                        }\n",
        "\n",
        "pprint.pprint(data)\n",
        "print(data[\"name\"])\n",
        "print(data['fname'])\n",
        "print(data['education'])"
      ],
      "metadata": {
        "colab": {
          "base_uri": "https://localhost:8080/",
          "height": 211
        },
        "id": "8xHIxnMnul5P",
        "outputId": "fb6aae06-48aa-40c2-b195-83519cfe0c03"
      },
      "execution_count": null,
      "outputs": [
        {
          "output_type": "error",
          "ename": "TypeError",
          "evalue": "unhashable type: 'list'",
          "traceback": [
            "\u001b[0;31m---------------------------------------------------------------------------\u001b[0m",
            "\u001b[0;31mTypeError\u001b[0m                                 Traceback (most recent call last)",
            "\u001b[0;32m<ipython-input-8-0c75e1dcdf9f>\u001b[0m in \u001b[0;36m<cell line: 9>\u001b[0;34m()\u001b[0m\n\u001b[1;32m      7\u001b[0m \u001b[0;34m\u001b[0m\u001b[0m\n\u001b[1;32m      8\u001b[0m \u001b[0;34m\u001b[0m\u001b[0m\n\u001b[0;32m----> 9\u001b[0;31m data : Dict[Key,Value] = {\n\u001b[0m\u001b[1;32m     10\u001b[0m                         \u001b[0;34m\"fname\"\u001b[0m\u001b[0;34m:\u001b[0m\u001b[0;34m\"Muhammad Aslam\"\u001b[0m\u001b[0;34m,\u001b[0m\u001b[0;34m\u001b[0m\u001b[0;34m\u001b[0m\u001b[0m\n\u001b[1;32m     11\u001b[0m                         \u001b[0;34m\"name\"\u001b[0m\u001b[0;34m:\u001b[0m\u001b[0;34m\"Muhammad Qasim\"\u001b[0m\u001b[0;34m,\u001b[0m\u001b[0;34m\u001b[0m\u001b[0;34m\u001b[0m\u001b[0m\n",
            "\u001b[0;31mTypeError\u001b[0m: unhashable type: 'list'"
          ]
        }
      ]
    },
    {
      "cell_type": "code",
      "source": [
        "from typing import Dict, Union, Optional\n",
        "import pprint\n",
        "\n",
        "\n",
        "Key = Union[int,str]\n",
        "Value = Union[int, str, list, dict, tuple, set]\n",
        "data : Dict[Key,Value] = {\n",
        "                        \"fname\":\"Muhammad Aslam\",\n",
        "                        \"name\":\"Muhammad Qasim\",\n",
        "                        \"education\": \"MSDS\",\n",
        "                        \"abc\" : [1,2,3],\n",
        "                        'xyz': {1,2,3},\n",
        "                        'efg' : (1,2,3),\n",
        "                        'cde' : {\"a\":1, \"b\":2}\n",
        "                        }\n",
        "\n",
        "pprint.pprint(data)\n",
        "print(data[\"name\"])\n",
        "print(data['fname'])\n",
        "\n",
        "print(data['xyz'])"
      ],
      "metadata": {
        "colab": {
          "base_uri": "https://localhost:8080/"
        },
        "id": "xu0ZvCRrJAPK",
        "outputId": "063a627d-bbf1-4673-e376-2aae31774e95"
      },
      "execution_count": null,
      "outputs": [
        {
          "output_type": "stream",
          "name": "stdout",
          "text": [
            "{'abc': [1, 2, 3],\n",
            " 'cde': {'a': 1, 'b': 2},\n",
            " 'education': 'MSDS',\n",
            " 'efg': (1, 2, 3),\n",
            " 'fname': 'Muhammad Aslam',\n",
            " 'name': 'Muhammad Qasim',\n",
            " 'xyz': {1, 2, 3}}\n",
            "Muhammad Qasim\n",
            "Muhammad Aslam\n",
            "{1, 2, 3}\n"
          ]
        }
      ]
    },
    {
      "cell_type": "code",
      "source": [
        "abc : set = {1,2,3,2,2,2,1}\n",
        "print(abc)\n",
        "xyz : list[int] = list(abc)\n",
        "print(xyz)"
      ],
      "metadata": {
        "colab": {
          "base_uri": "https://localhost:8080/"
        },
        "id": "7elVs1CvJRWB",
        "outputId": "fc0f5c3c-c9ab-4ee2-c155-5b144b35bd30"
      },
      "execution_count": null,
      "outputs": [
        {
          "output_type": "stream",
          "name": "stdout",
          "text": [
            "{1, 2, 3}\n",
            "[1, 2, 3]\n"
          ]
        }
      ]
    },
    {
      "cell_type": "code",
      "source": [
        "from typing import Dict, Union, Optional\n",
        "import pprint\n",
        "\n",
        "\n",
        "Key = Union[int,str]\n",
        "Value = Union[int, str, list, dict, tuple, set]\n",
        "data : Dict[Key,Value] = {\n",
        "                        \"fname\":\"Muhammad Aslam\",\n",
        "                        \"name\":\"Muhammad Qasim\",\n",
        "                        \"education\": \"MSDS\",\n",
        "                        \"abc\" : [1,2,3],\n",
        "                        'xyz': {1,2,3},\n",
        "                        'efg' : (1,2,3),\n",
        "                        'cde' : {\"a\":1, \"b\":2}\n",
        "                        }\n",
        "\n",
        "data['cde']['b']"
      ],
      "metadata": {
        "colab": {
          "base_uri": "https://localhost:8080/"
        },
        "id": "-rw5vArGKSBE",
        "outputId": "eee3470d-43eb-4580-8aaf-45caf13829e3"
      },
      "execution_count": null,
      "outputs": [
        {
          "output_type": "execute_result",
          "data": {
            "text/plain": [
              "2"
            ]
          },
          "metadata": {},
          "execution_count": 12
        }
      ]
    },
    {
      "cell_type": "code",
      "source": [
        "from typing import Dict, Union, Optional\n",
        "import pprint\n",
        "\n",
        "\n",
        "Key = Union[int,str]\n",
        "Value = Union[int, str, list, dict, tuple, set]\n",
        "\n",
        "data : dict[Key,Value] = {}\n",
        "\n",
        "data['name'] = \"Muhammad Qasim\"\n",
        "data['fname'] = \"Muhammad Aslam\"\n",
        "data['education'] = \"MSDS\"\n",
        "\n",
        "print(data)\n"
      ],
      "metadata": {
        "id": "lN9LStUKMW2J",
        "colab": {
          "base_uri": "https://localhost:8080/"
        },
        "outputId": "7a193d1c-b472-4a36-e03f-9280ec7bacc3"
      },
      "execution_count": null,
      "outputs": [
        {
          "output_type": "stream",
          "name": "stdout",
          "text": [
            "{'name': 'Muhammad Qasim', 'fname': 'Muhammad Aslam', 'education': 'MSDS'}\n"
          ]
        }
      ]
    },
    {
      "cell_type": "code",
      "source": [
        "from typing import Dict, Union, Optional\n",
        "import pprint\n",
        "\n",
        "\n",
        "Key = Union[int,str]\n",
        "Value = Union[int, str, list, dict, tuple, set]\n",
        "\n",
        "data : dict[Key,Value] = {}\n",
        "print(data)"
      ],
      "metadata": {
        "colab": {
          "base_uri": "https://localhost:8080/"
        },
        "id": "4idlVfN3y8Ba",
        "outputId": "e1795b7b-8ec2-43c4-e7e1-e6987ccd6a1b"
      },
      "execution_count": null,
      "outputs": [
        {
          "output_type": "stream",
          "name": "stdout",
          "text": [
            "{}\n"
          ]
        }
      ]
    },
    {
      "cell_type": "code",
      "source": [
        "from typing import Dict, Union, Optional\n",
        "import pprint\n",
        "\n",
        "\n",
        "Key = Union[int,str]\n",
        "Value = Union[int, str, list, dict, tuple, set]\n",
        "\n",
        "data : Dict[Key,Value] = {\n",
        "                        \"fname\":\"Muhammad Aslam\",\n",
        "                        \"name\":\"Muhammad Qasim\",\n",
        "                        \"education\": \"MSDS\"}\n",
        "\n",
        "\n",
        "\n",
        "print(data['pakistan'])\n",
        "\n",
        "[i for i in dir(data) if \"__\" not in i]"
      ],
      "metadata": {
        "colab": {
          "base_uri": "https://localhost:8080/",
          "height": 211
        },
        "id": "WoeHhylr2bN7",
        "outputId": "f0d71f3b-ac6f-4c3f-bb9b-873fbb003c5a"
      },
      "execution_count": null,
      "outputs": [
        {
          "output_type": "error",
          "ename": "KeyError",
          "evalue": "'pakistan'",
          "traceback": [
            "\u001b[0;31m---------------------------------------------------------------------------\u001b[0m",
            "\u001b[0;31mKeyError\u001b[0m                                  Traceback (most recent call last)",
            "\u001b[0;32m<ipython-input-12-30bf9afc041b>\u001b[0m in \u001b[0;36m<cell line: 15>\u001b[0;34m()\u001b[0m\n\u001b[1;32m     13\u001b[0m \u001b[0;34m\u001b[0m\u001b[0m\n\u001b[1;32m     14\u001b[0m \u001b[0;34m\u001b[0m\u001b[0m\n\u001b[0;32m---> 15\u001b[0;31m \u001b[0mprint\u001b[0m\u001b[0;34m(\u001b[0m\u001b[0mdata\u001b[0m\u001b[0;34m[\u001b[0m\u001b[0;34m'pakistan'\u001b[0m\u001b[0;34m]\u001b[0m\u001b[0;34m)\u001b[0m\u001b[0;34m\u001b[0m\u001b[0;34m\u001b[0m\u001b[0m\n\u001b[0m\u001b[1;32m     16\u001b[0m \u001b[0;34m\u001b[0m\u001b[0m\n\u001b[1;32m     17\u001b[0m \u001b[0;34m[\u001b[0m\u001b[0mi\u001b[0m \u001b[0;32mfor\u001b[0m \u001b[0mi\u001b[0m \u001b[0;32min\u001b[0m \u001b[0mdir\u001b[0m\u001b[0;34m(\u001b[0m\u001b[0mdata\u001b[0m\u001b[0;34m)\u001b[0m \u001b[0;32mif\u001b[0m \u001b[0;34m\"__\"\u001b[0m \u001b[0;32mnot\u001b[0m \u001b[0;32min\u001b[0m \u001b[0mi\u001b[0m\u001b[0;34m]\u001b[0m\u001b[0;34m\u001b[0m\u001b[0;34m\u001b[0m\u001b[0m\n",
            "\u001b[0;31mKeyError\u001b[0m: 'pakistan'"
          ]
        }
      ]
    },
    {
      "cell_type": "code",
      "source": [
        "from typing import Dict, Union, Optional\n",
        "import pprint\n",
        "\n",
        "\n",
        "Key = Union[int,str]\n",
        "Value = Union[int, str, list, dict, tuple, set]\n",
        "\n",
        "data : Dict[Key,Value] = {\n",
        "                        \"fname\":\"Muhammad Aslam\",\n",
        "                        \"name\":\"Muhammad Qasim\",\n",
        "                        \"education\": \"MSDS\"}\n",
        "\n",
        "\n",
        "print(data.get('pakistan',\"NA\"))\n",
        "print(data.get('name',\"NA\"))\n"
      ],
      "metadata": {
        "colab": {
          "base_uri": "https://localhost:8080/"
        },
        "id": "7_nJeqHj2bQg",
        "outputId": "b26d828d-a3a3-4755-8502-b55f5c92e41e"
      },
      "execution_count": null,
      "outputs": [
        {
          "output_type": "stream",
          "name": "stdout",
          "text": [
            "NA\n",
            "Muhammad Qasim\n"
          ]
        }
      ]
    },
    {
      "cell_type": "code",
      "source": [
        "from typing import Dict, Union, Optional\n",
        "import pprint\n",
        "\n",
        "\n",
        "Key = Union[int,str]\n",
        "Value = Union[int, str, list, dict, tuple, set]\n",
        "\n",
        "data : Dict[Key,Value] = {\n",
        "                        \"fname\":\"Muhammad Aslam\",\n",
        "                        \"name\":\"Muhammad Qasim\",\n",
        "                        \"education\": \"MSDS\"}\n",
        "\n",
        "\n",
        "for d in data:\n",
        "    print(d)\n",
        "\n"
      ],
      "metadata": {
        "colab": {
          "base_uri": "https://localhost:8080/"
        },
        "id": "V69i9FEu2jp6",
        "outputId": "a6b9ff95-21fb-4b31-e3d4-3c2628f95b38"
      },
      "execution_count": null,
      "outputs": [
        {
          "output_type": "stream",
          "name": "stdout",
          "text": [
            "fname\n",
            "name\n",
            "education\n"
          ]
        }
      ]
    },
    {
      "cell_type": "code",
      "source": [
        "from typing import Dict, Union, Optional\n",
        "import pprint\n",
        "\n",
        "\n",
        "Key = Union[int,str]\n",
        "Value = Union[int, str, list, dict, tuple, set]\n",
        "\n",
        "data : Dict[Key,Value] = {\n",
        "                        \"fname\":\"Muhammad Aslam\",\n",
        "                        \"name\":\"Muhammad Qasim\",\n",
        "                        \"education\": \"MSDS\"}\n",
        "\n",
        "\n",
        "print(data.keys())\n",
        "print(data.values())\n",
        "print(data.items())\n",
        "\n",
        "for k in data.keys():\n",
        "    print(k)\n"
      ],
      "metadata": {
        "colab": {
          "base_uri": "https://localhost:8080/"
        },
        "id": "Dp9iznvf2js-",
        "outputId": "d9ce1efb-e8c3-4412-b10c-0fa8dc651639"
      },
      "execution_count": null,
      "outputs": [
        {
          "output_type": "stream",
          "name": "stdout",
          "text": [
            "dict_keys(['fname', 'name', 'education'])\n",
            "dict_values(['Muhammad Aslam', 'Muhammad Qasim', 'MSDS'])\n",
            "dict_items([('fname', 'Muhammad Aslam'), ('name', 'Muhammad Qasim'), ('education', 'MSDS')])\n",
            "fname\n",
            "name\n",
            "education\n"
          ]
        }
      ]
    },
    {
      "cell_type": "code",
      "source": [
        "from typing import Dict, Union, Optional\n",
        "import pprint\n",
        "\n",
        "\n",
        "Key = Union[int,str]\n",
        "Value = Union[int, str, list, dict, tuple, set]\n",
        "\n",
        "data : Dict[Key,Value] = {\n",
        "                        \"fname\":\"Muhammad Aslam\",\n",
        "                        \"name\":\"Muhammad Qasim\",\n",
        "                        \"education\": \"MSDS\"}\n",
        "\n",
        "print(data.keys())\n",
        "print(data.values())\n",
        "print(data.items())\n",
        "\n",
        "for v in data.values():\n",
        "    print(v)\n"
      ],
      "metadata": {
        "colab": {
          "base_uri": "https://localhost:8080/"
        },
        "id": "vpBCseGl2rJB",
        "outputId": "25e39430-5803-4ce8-8c59-233260f28dfc"
      },
      "execution_count": null,
      "outputs": [
        {
          "output_type": "stream",
          "name": "stdout",
          "text": [
            "dict_keys(['fname', 'name', 'education'])\n",
            "dict_values(['Muhammad Aslam', 'Muhammad Qasim', 'MSDS'])\n",
            "dict_items([('fname', 'Muhammad Aslam'), ('name', 'Muhammad Qasim'), ('education', 'MSDS')])\n",
            "Muhammad Aslam\n",
            "Muhammad Qasim\n",
            "MSDS\n"
          ]
        }
      ]
    },
    {
      "cell_type": "code",
      "source": [
        "from typing import Dict, Union, Optional\n",
        "import pprint\n",
        "\n",
        "\n",
        "Key = Union[int,str]\n",
        "Value = Union[int, str, list, dict, tuple, set]\n",
        "\n",
        "data : Dict[Key,Value] = {\n",
        "                        \"fname\":\"Muhammad Aslam\",\n",
        "                        \"name\":\"Muhammad Qasim\",\n",
        "                        \"education\": \"MSDS\"}\n",
        "\n",
        "\n",
        "print(data.keys())\n",
        "print(data.values())\n",
        "print(data.items())\n",
        "\n",
        "for k,v in data.items():\n",
        "    print(k,v)"
      ],
      "metadata": {
        "colab": {
          "base_uri": "https://localhost:8080/"
        },
        "id": "UaAXXGOZ2rLp",
        "outputId": "8dbbdf9f-1f44-4291-e30b-b85d411797bc"
      },
      "execution_count": null,
      "outputs": [
        {
          "output_type": "stream",
          "name": "stdout",
          "text": [
            "dict_keys(['fname', 'name', 'education'])\n",
            "dict_values(['Muhammad Aslam', 'Muhammad Qasim', 'MSDS'])\n",
            "dict_items([('fname', 'Muhammad Aslam'), ('name', 'Muhammad Qasim'), ('education', 'MSDS')])\n",
            "fname Muhammad Aslam\n",
            "name Muhammad Qasim\n",
            "education MSDS\n"
          ]
        }
      ]
    },
    {
      "cell_type": "code",
      "source": [
        "a : int = 7\n",
        "b : int = 9\n",
        "\n",
        "a, b = b, a\n",
        "\n",
        "print(a,b)"
      ],
      "metadata": {
        "colab": {
          "base_uri": "https://localhost:8080/"
        },
        "id": "EF-y1k1c2yJY",
        "outputId": "e07ee4b8-f68a-4111-fe0b-d7655b91d950"
      },
      "execution_count": null,
      "outputs": [
        {
          "output_type": "stream",
          "name": "stdout",
          "text": [
            "9 7\n"
          ]
        }
      ]
    },
    {
      "cell_type": "code",
      "source": [
        "keys : list[str] = ['id','name','fname','course']\n",
        "\n",
        "data : dict[Key,Value] = {}\n",
        "\n",
        "print(data)\n",
        "\n",
        "data = data.fromkeys(keys)\n",
        "\n",
        "print(data)"
      ],
      "metadata": {
        "colab": {
          "base_uri": "https://localhost:8080/"
        },
        "id": "qfGnQKVy2yNr",
        "outputId": "b5c5d41d-ebe6-4185-f618-e49980bbca34"
      },
      "execution_count": null,
      "outputs": [
        {
          "output_type": "stream",
          "name": "stdout",
          "text": [
            "{}\n",
            "{'id': None, 'name': None, 'fname': None, 'course': None}\n"
          ]
        }
      ]
    }
  ]
}