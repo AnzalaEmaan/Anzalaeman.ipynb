{
  "nbformat": 4,
  "nbformat_minor": 0,
  "metadata": {
    "colab": {
      "provenance": []
    },
    "kernelspec": {
      "name": "python3",
      "display_name": "Python 3"
    },
    "language_info": {
      "name": "python"
    }
  },
  "cells": [
    {
      "cell_type": "markdown",
      "source": [
        "#Mutable vs. Immutable\n"
      ],
      "metadata": {
        "id": "FuxYbqZFXxMY"
      }
    },
    {
      "cell_type": "code",
      "source": [
        "list_a: list[int] = [1, 2, 3]\n",
        "list_b = list_a\n",
        "list_a.append(4)\n",
        "print(\"list_b:\", list_b)"
      ],
      "metadata": {
        "colab": {
          "base_uri": "https://localhost:8080/"
        },
        "id": "4f5c8AuWXzhR",
        "outputId": "60fb28c4-c5b0-475a-9234-0c290f6b1dfe"
      },
      "execution_count": null,
      "outputs": [
        {
          "output_type": "stream",
          "name": "stdout",
          "text": [
            "list_b: [1, 2, 3, 4]\n"
          ]
        }
      ]
    },
    {
      "cell_type": "markdown",
      "source": [
        "https://www.linkedin.com/pulse/understanding-pass-by-value-vs-pass-by-reference-elhousieny-phd%E1%B4%AC%E1%B4%AE%E1%B4%B0/"
      ],
      "metadata": {
        "id": "1LA04Bk1W5d9"
      }
    },
    {
      "cell_type": "code",
      "source": [
        "num_a:int = 5\n",
        "num_b = num_a\n",
        "num_a += 1\n",
        "print(\"num_b:\", num_b)"
      ],
      "metadata": {
        "colab": {
          "base_uri": "https://localhost:8080/"
        },
        "id": "SfKoMKZ-W7Q6",
        "outputId": "3a49e4d1-8e00-49dc-cc71-376409df3e38"
      },
      "execution_count": null,
      "outputs": [
        {
          "output_type": "stream",
          "name": "stdout",
          "text": [
            "num_b: 5\n"
          ]
        }
      ]
    },
    {
      "cell_type": "markdown",
      "source": [
        "# Addressing Changes without Function Calls"
      ],
      "metadata": {
        "id": "o5Ys3w3rYrXj"
      }
    },
    {
      "cell_type": "code",
      "source": [
        "x = 10\n",
        "print(\"Before modification:\", x, id(x))\n",
        "x += 1\n",
        "print(\"After modification:\", x, id(x))"
      ],
      "metadata": {
        "colab": {
          "base_uri": "https://localhost:8080/"
        },
        "id": "bMQGdV6RkMV2",
        "outputId": "146c0dc8-1471-4faa-a628-dc0e7fe51d0a"
      },
      "execution_count": null,
      "outputs": [
        {
          "output_type": "stream",
          "name": "stdout",
          "text": [
            "Before modification: 10 139245924483600\n",
            "After modification: 11 139245924483632\n"
          ]
        }
      ]
    },
    {
      "cell_type": "code",
      "source": [
        "a: list[int] = [1, 2, 3]\n",
        "def abc(num1:int)->None:\n",
        "    num1.append(200)\n",
        "    print(f\"num1 value is {num1}\")\n",
        "abc(a)\n",
        "\n",
        "print(a)"
      ],
      "metadata": {
        "id": "j6MjAZuwouH_",
        "colab": {
          "base_uri": "https://localhost:8080/"
        },
        "outputId": "e3e1659a-5f84-4f3a-f54a-0ae0f0dccf28"
      },
      "execution_count": null,
      "outputs": [
        {
          "output_type": "stream",
          "name": "stdout",
          "text": [
            "num1 value is [1, 2, 3, 200]\n",
            "[1, 2, 3, 200]\n"
          ]
        }
      ]
    },
    {
      "cell_type": "code",
      "source": [
        "a : int = 5\n",
        "def abc(num1:int)->None:\n",
        "  print(f\"num1 value before {num1}\")\n",
        "  num1 = 6\n",
        "  print(f\"num1 value is {num1}\")\n",
        "abc(a)\n",
        "\n",
        "print(f\"origional value is {a}\")"
      ],
      "metadata": {
        "colab": {
          "base_uri": "https://localhost:8080/"
        },
        "id": "oP231dp87xnG",
        "outputId": "0b92adc5-873d-4ade-cf52-95ea7686fa36"
      },
      "execution_count": null,
      "outputs": [
        {
          "output_type": "stream",
          "name": "stdout",
          "text": [
            "num1 value before 5\n",
            "num1 value is 6\n",
            "origional value is 5\n"
          ]
        }
      ]
    },
    {
      "cell_type": "code",
      "source": [
        "a : int = 5\n",
        "def abc(num1:int)->None:\n",
        "  print(f\"num1 value before {num1}\")\n",
        "  num1 = 6\n",
        "  print(f\"num1 value is {num1}\")\n",
        "abc(a)\n",
        "\n",
        "print(f\"origional value is {a}\")"
      ],
      "metadata": {
        "colab": {
          "base_uri": "https://localhost:8080/"
        },
        "outputId": "0b92adc5-873d-4ade-cf52-95ea7686fa36",
        "id": "USAIna9aFxBo"
      },
      "execution_count": null,
      "outputs": [
        {
          "output_type": "stream",
          "name": "stdout",
          "text": [
            "num1 value before 5\n",
            "num1 value is 6\n",
            "origional value is 5\n"
          ]
        }
      ]
    },
    {
      "cell_type": "code",
      "source": [
        "a : int = 5\n",
        "def abc(num1:int)->None:\n",
        "  print(f\"num1 value before {num1}\")\n",
        "  num1 = 6\n",
        "  print(f\"num1 value is {num1}\")\n",
        "abc(a)\n",
        "\n",
        "print(f\"origional value is {a}\")"
      ],
      "metadata": {
        "colab": {
          "base_uri": "https://localhost:8080/"
        },
        "outputId": "0b92adc5-873d-4ade-cf52-95ea7686fa36",
        "id": "UMH8OBfiFyk4"
      },
      "execution_count": null,
      "outputs": [
        {
          "output_type": "stream",
          "name": "stdout",
          "text": [
            "num1 value before 5\n",
            "num1 value is 6\n",
            "origional value is 5\n"
          ]
        }
      ]
    },
    {
      "cell_type": "code",
      "source": [
        "a : int = 5\n",
        "def abc(num1:int)->None:\n",
        "  print(f\"num1 value before {num1}\")\n",
        "  num1 = 6\n",
        "  print(f\"num1 value is {num1}\")\n",
        "abc(a)\n",
        "\n",
        "print(f\"origional value is {a}\")"
      ],
      "metadata": {
        "colab": {
          "base_uri": "https://localhost:8080/"
        },
        "outputId": "0b92adc5-873d-4ade-cf52-95ea7686fa36",
        "id": "_pg8kkPhF3s-"
      },
      "execution_count": null,
      "outputs": [
        {
          "output_type": "stream",
          "name": "stdout",
          "text": [
            "num1 value before 5\n",
            "num1 value is 6\n",
            "origional value is 5\n"
          ]
        }
      ]
    },
    {
      "cell_type": "code",
      "source": [
        "a : int = 5\n",
        "\n",
        "print(f\"First Assignment of variable a value is {id(a)}\")\n",
        "\n",
        "def abc(num1:int)->None:\n",
        "     print(f\"\\tValue of start of function {num1} address {id(num1)}\")\n",
        "     num1 = 6\n",
        "     print(f\"\\tnum1 value end of function {num1} address {id(num1)}\")\n",
        "     print(\"\\tEnd of program\")\n",
        "\n",
        "\n",
        "abc(a)\n",
        "\n",
        "print(f\"End of program variable value is {a} address of a {id(a)}\")"
      ],
      "metadata": {
        "colab": {
          "base_uri": "https://localhost:8080/"
        },
        "outputId": "2719d642-d592-4afe-e378-039a95faaf8c",
        "id": "kKQMw7VzF4Mn"
      },
      "execution_count": null,
      "outputs": [
        {
          "output_type": "stream",
          "name": "stdout",
          "text": [
            "First Assignment of variable a value is 139245924483440\n",
            "\tValue of start of function 5 address 139245924483440\n",
            "\tnum1 value end of function 6 address 139245924483472\n",
            "\tEnd of program\n",
            "End of program variable value is 5 address of a 139245924483440\n"
          ]
        }
      ]
    },
    {
      "cell_type": "code",
      "source": [
        "x : int = 7\n",
        "b = x\n",
        "print(f\"X value is {x} and X address {id(x)}\")\n",
        "print(f\"X value is {b} and X address {id(b)}\")\n",
        "b = 200\n",
        "print(f\"X value is {b} and X address {id(b)}\")"
      ],
      "metadata": {
        "colab": {
          "base_uri": "https://localhost:8080/"
        },
        "id": "ysvUOQt8PhMu",
        "outputId": "b0730eda-ed15-4d5c-daf2-bbc8569f90cc"
      },
      "execution_count": null,
      "outputs": [
        {
          "output_type": "stream",
          "name": "stdout",
          "text": [
            "X value is 7 and X address 139245924483504\n",
            "X value is 7 and X address 139245924483504\n",
            "X value is 200 and X address 139245924489680\n"
          ]
        }
      ]
    },
    {
      "cell_type": "code",
      "source": [
        "x : int = 7\n",
        "b : int = 7\n",
        "print(f\"X value is {x} and X address {id(x)}\")\n",
        "print(f\"X value is {b} and X address {id(b)}\")\n",
        "b = 200\n",
        "print(f\"X value is {b} and X address {id(b)}\")"
      ],
      "metadata": {
        "colab": {
          "base_uri": "https://localhost:8080/"
        },
        "id": "qcsgvOwaOwcq",
        "outputId": "3a5878aa-f835-4c17-a757-81921b990ff4"
      },
      "execution_count": null,
      "outputs": [
        {
          "output_type": "stream",
          "name": "stdout",
          "text": [
            "X value is 7 and X address 139245924483504\n",
            "X value is 7 and X address 139245924483504\n",
            "X value is 200 and X address 139245924489680\n"
          ]
        }
      ]
    },
    {
      "cell_type": "code",
      "source": [
        "x : int = 7\n",
        "b : int = int(7)\n",
        "print(f\"X value is {x} and X address {id(x)}\")\n",
        "print(f\"X value is {b} and X address {id(b)}\")\n",
        "b = 200\n",
        "print(f\"X value is {b} and X address {id(b)}\")"
      ],
      "metadata": {
        "colab": {
          "base_uri": "https://localhost:8080/"
        },
        "id": "PmW54lmxPrxe",
        "outputId": "d06341de-50ac-4245-bfd7-71205d467614"
      },
      "execution_count": null,
      "outputs": [
        {
          "output_type": "stream",
          "name": "stdout",
          "text": [
            "X value is 7 and X address 139245924483504\n",
            "X value is 7 and X address 139245924483504\n",
            "X value is 200 and X address 139245924489680\n"
          ]
        }
      ]
    },
    {
      "cell_type": "code",
      "source": [
        "a : list[int] = [1,2,3,4] # mutabl\n",
        "b : list[int] = [1,2,3,4 ]\n",
        "\n",
        "print(id(a))\n",
        "print(id(b))"
      ],
      "metadata": {
        "colab": {
          "base_uri": "https://localhost:8080/"
        },
        "id": "PmW0jQhsVpdS",
        "outputId": "7bf1433a-bb6b-41bf-ffb0-320cf15e211d"
      },
      "execution_count": null,
      "outputs": [
        {
          "output_type": "stream",
          "name": "stdout",
          "text": [
            "139245493986176\n",
            "139245008030080\n"
          ]
        }
      ]
    },
    {
      "cell_type": "code",
      "source": [
        "a : list[int] = [1,2,3,4]\n",
        "def abc(num1:list[int])->None:\n",
        "    num1:list[int] = [7]\n",
        "    num1.append(200)\n",
        "    print(f\"num1 value is {num1}\")\n",
        "\n",
        "abc(a)\n",
        "\n",
        "print(a)"
      ],
      "metadata": {
        "colab": {
          "base_uri": "https://localhost:8080/"
        },
        "id": "wvSr2_5bWAJf",
        "outputId": "6139eddb-34b9-4998-8aed-c93a96d3a59a"
      },
      "execution_count": null,
      "outputs": [
        {
          "output_type": "stream",
          "name": "stdout",
          "text": [
            "num1 value is [7, 200]\n",
            "[1, 2, 3, 4]\n"
          ]
        }
      ]
    },
    {
      "cell_type": "code",
      "source": [
        "a : list[int] = [1,2,3,4]\n",
        "def abc(num1:list[int])->None:\n",
        "    num1:list[int] = [1,2,3,4]\n",
        "    num1.append(200)\n",
        "    print(f\"num1 value is {num1}\")\n",
        "abc(a)\n",
        "print(a)"
      ],
      "metadata": {
        "colab": {
          "base_uri": "https://localhost:8080/"
        },
        "id": "rebVLm7fWAMa",
        "outputId": "85497347-b8c2-49c5-bf0b-d918718be43f"
      },
      "execution_count": null,
      "outputs": [
        {
          "output_type": "stream",
          "name": "stdout",
          "text": [
            "num1 value is [1, 2, 3, 4, 200]\n",
            "[1, 2, 3, 4]\n"
          ]
        }
      ]
    },
    {
      "cell_type": "markdown",
      "source": [
        "# Run time Error"
      ],
      "metadata": {
        "id": "1KzjyATqWgUf"
      }
    },
    {
      "cell_type": "code",
      "source": [
        "a : int = int(input(\"Enter number1:\\t\"))\n",
        "b : int = int(input(\"Enter number2:\\t\"))\n",
        "\n",
        "print(a / b)\n",
        "\n",
        "\n"
      ],
      "metadata": {
        "colab": {
          "base_uri": "https://localhost:8080/"
        },
        "id": "I8IHnPqFWjjN",
        "outputId": "e8cef118-a7c4-4dc6-bee7-0f250738d6e9"
      },
      "execution_count": null,
      "outputs": [
        {
          "output_type": "stream",
          "name": "stdout",
          "text": [
            "Enter number1:\t5\n",
            "Enter number2:\t5\n",
            "1.0\n"
          ]
        }
      ]
    },
    {
      "cell_type": "code",
      "source": [
        "a : int = int(input(\"Enter number1:\\t\"))\n",
        "b : int = int(input(\"Enter number2:\\t\"))\n",
        "\n",
        "print(a / b)\n",
        "\n",
        "\n"
      ],
      "metadata": {
        "outputId": "053a1359-9aba-4619-d83b-5c8ebc973493",
        "colab": {
          "base_uri": "https://localhost:8080/"
        },
        "id": "ul7Gitkvf0Pb"
      },
      "execution_count": null,
      "outputs": [
        {
          "output_type": "stream",
          "name": "stdout",
          "text": [
            "Enter number1:\t4\n",
            "Enter number2:\t7\n",
            "0.5714285714285714\n"
          ]
        }
      ]
    },
    {
      "cell_type": "code",
      "source": [
        "a : int = int(input(\"Enter number1:\\t\"))\n",
        "b : int = int(input(\"Enter number2:\\t\"))\n",
        "\n",
        "print(a / b)\n",
        "\n",
        "\n"
      ],
      "metadata": {
        "outputId": "ae063dd4-a7cd-4ecd-e7ab-32db1658a9dc",
        "colab": {
          "base_uri": "https://localhost:8080/",
          "height": 256
        },
        "id": "eDPQoG3qhlsF"
      },
      "execution_count": null,
      "outputs": [
        {
          "name": "stdout",
          "output_type": "stream",
          "text": [
            "Enter number1:\t7\n",
            "Enter number2:\t0\n"
          ]
        },
        {
          "output_type": "error",
          "ename": "ZeroDivisionError",
          "evalue": "division by zero",
          "traceback": [
            "\u001b[0;31m---------------------------------------------------------------------------\u001b[0m",
            "\u001b[0;31mZeroDivisionError\u001b[0m                         Traceback (most recent call last)",
            "\u001b[0;32m<ipython-input-39-9c7ed39dbe5a>\u001b[0m in \u001b[0;36m<cell line: 4>\u001b[0;34m()\u001b[0m\n\u001b[1;32m      2\u001b[0m \u001b[0mb\u001b[0m \u001b[0;34m:\u001b[0m \u001b[0mint\u001b[0m \u001b[0;34m=\u001b[0m \u001b[0mint\u001b[0m\u001b[0;34m(\u001b[0m\u001b[0minput\u001b[0m\u001b[0;34m(\u001b[0m\u001b[0;34m\"Enter number2:\\t\"\u001b[0m\u001b[0;34m)\u001b[0m\u001b[0;34m)\u001b[0m\u001b[0;34m\u001b[0m\u001b[0;34m\u001b[0m\u001b[0m\n\u001b[1;32m      3\u001b[0m \u001b[0;34m\u001b[0m\u001b[0m\n\u001b[0;32m----> 4\u001b[0;31m \u001b[0mprint\u001b[0m\u001b[0;34m(\u001b[0m\u001b[0ma\u001b[0m \u001b[0;34m/\u001b[0m \u001b[0mb\u001b[0m\u001b[0;34m)\u001b[0m\u001b[0;34m\u001b[0m\u001b[0;34m\u001b[0m\u001b[0m\n\u001b[0m\u001b[1;32m      5\u001b[0m \u001b[0;34m\u001b[0m\u001b[0m\n\u001b[1;32m      6\u001b[0m \u001b[0;34m\u001b[0m\u001b[0m\n",
            "\u001b[0;31mZeroDivisionError\u001b[0m: division by zero"
          ]
        }
      ]
    },
    {
      "cell_type": "code",
      "source": [
        "names:list[str] = ['Sir Zia',\"Sir Inam\",\"Muhammad Qasim\"]\n",
        "\n",
        "indx : int = int(input(\"Enter index number:\\t\"))\n",
        "print(names[indx])"
      ],
      "metadata": {
        "colab": {
          "base_uri": "https://localhost:8080/"
        },
        "id": "8guR1pprk0i1",
        "outputId": "53e71a55-cc6e-4b30-cb49-c8f04866899a"
      },
      "execution_count": null,
      "outputs": [
        {
          "output_type": "stream",
          "name": "stdout",
          "text": [
            "Enter index number:\t0\n",
            "Sir Zia\n"
          ]
        }
      ]
    },
    {
      "cell_type": "code",
      "source": [
        "names:list[str] = ['Sir Zia',\"Sir Inam\",\"Muhammad Qasim\"]\n",
        "\n",
        "indx : int = int(input(\"Enter index number:\\t\"))\n",
        "print(names[indx])"
      ],
      "metadata": {
        "outputId": "88c5334c-8846-43f3-b2b1-df1e06fbe5d3",
        "colab": {
          "base_uri": "https://localhost:8080/",
          "height": 201
        },
        "id": "SN0HkmLclF9o"
      },
      "execution_count": null,
      "outputs": [
        {
          "name": "stdout",
          "output_type": "stream",
          "text": [
            "Enter index number:\t345\n"
          ]
        },
        {
          "output_type": "error",
          "ename": "IndexError",
          "evalue": "list index out of range",
          "traceback": [
            "\u001b[0;31m---------------------------------------------------------------------------\u001b[0m",
            "\u001b[0;31mIndexError\u001b[0m                                Traceback (most recent call last)",
            "\u001b[0;32m<ipython-input-41-caba63ad0bec>\u001b[0m in \u001b[0;36m<cell line: 4>\u001b[0;34m()\u001b[0m\n\u001b[1;32m      2\u001b[0m \u001b[0;34m\u001b[0m\u001b[0m\n\u001b[1;32m      3\u001b[0m \u001b[0mindx\u001b[0m \u001b[0;34m:\u001b[0m \u001b[0mint\u001b[0m \u001b[0;34m=\u001b[0m \u001b[0mint\u001b[0m\u001b[0;34m(\u001b[0m\u001b[0minput\u001b[0m\u001b[0;34m(\u001b[0m\u001b[0;34m\"Enter index number:\\t\"\u001b[0m\u001b[0;34m)\u001b[0m\u001b[0;34m)\u001b[0m\u001b[0;34m\u001b[0m\u001b[0;34m\u001b[0m\u001b[0m\n\u001b[0;32m----> 4\u001b[0;31m \u001b[0mprint\u001b[0m\u001b[0;34m(\u001b[0m\u001b[0mnames\u001b[0m\u001b[0;34m[\u001b[0m\u001b[0mindx\u001b[0m\u001b[0;34m]\u001b[0m\u001b[0;34m)\u001b[0m\u001b[0;34m\u001b[0m\u001b[0;34m\u001b[0m\u001b[0m\n\u001b[0m",
            "\u001b[0;31mIndexError\u001b[0m: list index out of range"
          ]
        }
      ]
    },
    {
      "cell_type": "code",
      "source": [
        "\"2\" + 2"
      ],
      "metadata": {
        "colab": {
          "base_uri": "https://localhost:8080/",
          "height": 147
        },
        "id": "3wffBgZdmlUV",
        "outputId": "c0779502-a3ba-4ca0-c865-46b18a62cd4c"
      },
      "execution_count": null,
      "outputs": [
        {
          "output_type": "error",
          "ename": "TypeError",
          "evalue": "can only concatenate str (not \"int\") to str",
          "traceback": [
            "\u001b[0;31m---------------------------------------------------------------------------\u001b[0m",
            "\u001b[0;31mTypeError\u001b[0m                                 Traceback (most recent call last)",
            "\u001b[0;32m<ipython-input-42-192a1d19ca7a>\u001b[0m in \u001b[0;36m<cell line: 1>\u001b[0;34m()\u001b[0m\n\u001b[0;32m----> 1\u001b[0;31m \u001b[0;34m\"2\"\u001b[0m \u001b[0;34m+\u001b[0m \u001b[0;36m2\u001b[0m\u001b[0;34m\u001b[0m\u001b[0;34m\u001b[0m\u001b[0m\n\u001b[0m",
            "\u001b[0;31mTypeError\u001b[0m: can only concatenate str (not \"int\") to str"
          ]
        }
      ]
    },
    {
      "cell_type": "code",
      "source": [
        "data : dict[str,str] = {\n",
        "    \"name\":\"Muhammad Qasim\",\n",
        "    \"education\": \"MSDS\"\n",
        "}\n",
        "\n",
        "data['father name']"
      ],
      "metadata": {
        "colab": {
          "base_uri": "https://localhost:8080/",
          "height": 183
        },
        "id": "R_C1XiJ7moY4",
        "outputId": "7d775b16-0e8a-4f96-c431-bcc6bd819057"
      },
      "execution_count": null,
      "outputs": [
        {
          "output_type": "error",
          "ename": "KeyError",
          "evalue": "'father name'",
          "traceback": [
            "\u001b[0;31m---------------------------------------------------------------------------\u001b[0m",
            "\u001b[0;31mKeyError\u001b[0m                                  Traceback (most recent call last)",
            "\u001b[0;32m<ipython-input-43-a4d2024c560a>\u001b[0m in \u001b[0;36m<cell line: 6>\u001b[0;34m()\u001b[0m\n\u001b[1;32m      4\u001b[0m }\n\u001b[1;32m      5\u001b[0m \u001b[0;34m\u001b[0m\u001b[0m\n\u001b[0;32m----> 6\u001b[0;31m \u001b[0mdata\u001b[0m\u001b[0;34m[\u001b[0m\u001b[0;34m'father name'\u001b[0m\u001b[0;34m]\u001b[0m\u001b[0;34m\u001b[0m\u001b[0;34m\u001b[0m\u001b[0m\n\u001b[0m",
            "\u001b[0;31mKeyError\u001b[0m: 'father name'"
          ]
        }
      ]
    },
    {
      "cell_type": "code",
      "source": [
        "open(\"abc.txt\")"
      ],
      "metadata": {
        "colab": {
          "base_uri": "https://localhost:8080/",
          "height": 147
        },
        "id": "p4zFm8omphWs",
        "outputId": "6028ea94-592d-4ad5-e74d-ecca4ab8d140"
      },
      "execution_count": null,
      "outputs": [
        {
          "output_type": "error",
          "ename": "FileNotFoundError",
          "evalue": "[Errno 2] No such file or directory: 'abc.txt'",
          "traceback": [
            "\u001b[0;31m---------------------------------------------------------------------------\u001b[0m",
            "\u001b[0;31mFileNotFoundError\u001b[0m                         Traceback (most recent call last)",
            "\u001b[0;32m<ipython-input-44-befa419cc814>\u001b[0m in \u001b[0;36m<cell line: 1>\u001b[0;34m()\u001b[0m\n\u001b[0;32m----> 1\u001b[0;31m \u001b[0mopen\u001b[0m\u001b[0;34m(\u001b[0m\u001b[0;34m\"abc.txt\"\u001b[0m\u001b[0;34m)\u001b[0m\u001b[0;34m\u001b[0m\u001b[0;34m\u001b[0m\u001b[0m\n\u001b[0m",
            "\u001b[0;31mFileNotFoundError\u001b[0m: [Errno 2] No such file or directory: 'abc.txt'"
          ]
        }
      ]
    },
    {
      "cell_type": "markdown",
      "source": [
        "# Handle Run time error\n",
        "\"\"\"\n",
        "try:\n",
        "\n",
        "    logic\n",
        "\n",
        "except (Error_class1, Error_class2):\n",
        "\n",
        "    if error accured then run this block\n",
        "\n",
        "else:\n",
        "\n",
        "    if error not accured\n",
        "\n",
        "finally:\n",
        "\n",
        "    always run\n",
        "    \n",
        "\n",
        "\"\"\""
      ],
      "metadata": {
        "id": "UP2IqTrorUnM"
      }
    },
    {
      "cell_type": "code",
      "source": [
        "print(\"logic1\")\n",
        "print(\"logic2\")\n",
        "print(5/0)\n",
        "print(\"logic4\")\n",
        "print(\"logic5\")"
      ],
      "metadata": {
        "colab": {
          "base_uri": "https://localhost:8080/",
          "height": 256
        },
        "id": "3JLvjIn7pzyj",
        "outputId": "15ab72db-7b33-41d5-cea0-4e4863cc610e"
      },
      "execution_count": null,
      "outputs": [
        {
          "output_type": "stream",
          "name": "stdout",
          "text": [
            "logic1\n",
            "logic2\n"
          ]
        },
        {
          "output_type": "error",
          "ename": "ZeroDivisionError",
          "evalue": "division by zero",
          "traceback": [
            "\u001b[0;31m---------------------------------------------------------------------------\u001b[0m",
            "\u001b[0;31mZeroDivisionError\u001b[0m                         Traceback (most recent call last)",
            "\u001b[0;32m<ipython-input-45-693a612a2fe7>\u001b[0m in \u001b[0;36m<cell line: 3>\u001b[0;34m()\u001b[0m\n\u001b[1;32m      1\u001b[0m \u001b[0mprint\u001b[0m\u001b[0;34m(\u001b[0m\u001b[0;34m\"logic1\"\u001b[0m\u001b[0;34m)\u001b[0m\u001b[0;34m\u001b[0m\u001b[0;34m\u001b[0m\u001b[0m\n\u001b[1;32m      2\u001b[0m \u001b[0mprint\u001b[0m\u001b[0;34m(\u001b[0m\u001b[0;34m\"logic2\"\u001b[0m\u001b[0;34m)\u001b[0m\u001b[0;34m\u001b[0m\u001b[0;34m\u001b[0m\u001b[0m\n\u001b[0;32m----> 3\u001b[0;31m \u001b[0mprint\u001b[0m\u001b[0;34m(\u001b[0m\u001b[0;36m5\u001b[0m\u001b[0;34m/\u001b[0m\u001b[0;36m0\u001b[0m\u001b[0;34m)\u001b[0m\u001b[0;31m# Error\u001b[0m\u001b[0;34m\u001b[0m\u001b[0;34m\u001b[0m\u001b[0m\n\u001b[0m\u001b[1;32m      4\u001b[0m \u001b[0mprint\u001b[0m\u001b[0;34m(\u001b[0m\u001b[0;34m\"logic4\"\u001b[0m\u001b[0;34m)\u001b[0m\u001b[0;34m\u001b[0m\u001b[0;34m\u001b[0m\u001b[0m\n\u001b[1;32m      5\u001b[0m \u001b[0mprint\u001b[0m\u001b[0;34m(\u001b[0m\u001b[0;34m\"logic5\"\u001b[0m\u001b[0;34m)\u001b[0m\u001b[0;34m\u001b[0m\u001b[0;34m\u001b[0m\u001b[0m\n",
            "\u001b[0;31mZeroDivisionError\u001b[0m: division by zero"
          ]
        }
      ]
    },
    {
      "cell_type": "code",
      "source": [
        "print(\"logic1\")\n",
        "print(\"logic2\")\n",
        "try:\n",
        "    print(5/0)\n",
        "except ZeroDivisionError:\n",
        "    print(\"Zerro Division Error!\")\n",
        "print(\"logic4\")\n",
        "print(\"logic5\")"
      ],
      "metadata": {
        "colab": {
          "base_uri": "https://localhost:8080/"
        },
        "id": "ZoX5JsJYwuuE",
        "outputId": "e9d48e6c-b137-4827-d168-920f9aec2eac"
      },
      "execution_count": 1,
      "outputs": [
        {
          "output_type": "stream",
          "name": "stdout",
          "text": [
            "logic1\n",
            "logic2\n",
            "Zerro Division Error!\n",
            "logic4\n",
            "logic5\n"
          ]
        }
      ]
    },
    {
      "cell_type": "code",
      "source": [
        "print(\"logic1\")\n",
        "print(\"logic2\")\n",
        "try:\n",
        "    print(5/0)\n",
        "except ZeroDivisionError:\n",
        "    pass\n",
        "print(\"logic4\")\n",
        "print(\"logic5\")"
      ],
      "metadata": {
        "colab": {
          "base_uri": "https://localhost:8080/"
        },
        "id": "dwH8Ymlhw72C",
        "outputId": "1bed236f-ddbe-4768-c1d8-cc0a54b1a917"
      },
      "execution_count": 2,
      "outputs": [
        {
          "output_type": "stream",
          "name": "stdout",
          "text": [
            "logic1\n",
            "logic2\n",
            "logic4\n",
            "logic5\n"
          ]
        }
      ]
    },
    {
      "cell_type": "code",
      "source": [
        "l1 : list[int] = [1,2,3]\n",
        "l1[200]"
      ],
      "metadata": {
        "colab": {
          "base_uri": "https://localhost:8080/",
          "height": 165
        },
        "id": "YBR8EKVgw9Wz",
        "outputId": "1ffc343e-191b-48b9-f36a-e3be1cd7d6ec"
      },
      "execution_count": 3,
      "outputs": [
        {
          "output_type": "error",
          "ename": "IndexError",
          "evalue": "list index out of range",
          "traceback": [
            "\u001b[0;31m---------------------------------------------------------------------------\u001b[0m",
            "\u001b[0;31mIndexError\u001b[0m                                Traceback (most recent call last)",
            "\u001b[0;32m<ipython-input-3-d6113e865991>\u001b[0m in \u001b[0;36m<cell line: 2>\u001b[0;34m()\u001b[0m\n\u001b[1;32m      1\u001b[0m \u001b[0ml1\u001b[0m \u001b[0;34m:\u001b[0m \u001b[0mlist\u001b[0m\u001b[0;34m[\u001b[0m\u001b[0mint\u001b[0m\u001b[0;34m]\u001b[0m \u001b[0;34m=\u001b[0m \u001b[0;34m[\u001b[0m\u001b[0;36m1\u001b[0m\u001b[0;34m,\u001b[0m\u001b[0;36m2\u001b[0m\u001b[0;34m,\u001b[0m\u001b[0;36m3\u001b[0m\u001b[0;34m]\u001b[0m\u001b[0;34m\u001b[0m\u001b[0;34m\u001b[0m\u001b[0m\n\u001b[0;32m----> 2\u001b[0;31m \u001b[0ml1\u001b[0m\u001b[0;34m[\u001b[0m\u001b[0;36m200\u001b[0m\u001b[0;34m]\u001b[0m\u001b[0;34m\u001b[0m\u001b[0;34m\u001b[0m\u001b[0m\n\u001b[0m",
            "\u001b[0;31mIndexError\u001b[0m: list index out of range"
          ]
        }
      ]
    },
    {
      "cell_type": "code",
      "source": [
        "print(xyz)"
      ],
      "metadata": {
        "colab": {
          "base_uri": "https://localhost:8080/",
          "height": 147
        },
        "id": "8fm9F_zAw9aI",
        "outputId": "6e961c03-b040-4630-babd-64fb096cba34"
      },
      "execution_count": 4,
      "outputs": [
        {
          "output_type": "error",
          "ename": "NameError",
          "evalue": "name 'xyz' is not defined",
          "traceback": [
            "\u001b[0;31m---------------------------------------------------------------------------\u001b[0m",
            "\u001b[0;31mNameError\u001b[0m                                 Traceback (most recent call last)",
            "\u001b[0;32m<ipython-input-4-b6499aa2e891>\u001b[0m in \u001b[0;36m<cell line: 1>\u001b[0;34m()\u001b[0m\n\u001b[0;32m----> 1\u001b[0;31m \u001b[0mprint\u001b[0m\u001b[0;34m(\u001b[0m\u001b[0mxyz\u001b[0m\u001b[0;34m)\u001b[0m\u001b[0;34m\u001b[0m\u001b[0;34m\u001b[0m\u001b[0m\n\u001b[0m",
            "\u001b[0;31mNameError\u001b[0m: name 'xyz' is not defined"
          ]
        }
      ]
    },
    {
      "cell_type": "code",
      "source": [
        "print(\"logic1\")\n",
        "print(\"logic2\")\n",
        "\n",
        "l1 : list[int] = [1,2,3]\n",
        "\n",
        "try:\n",
        "    print(5/0)\n",
        "    print(l1[0])\n",
        "    print(xyz)\n",
        "\n",
        "\n",
        "except (ZeroDivisionError,IndexError):\n",
        "    print(\"Zerro Division Error!\")\n",
        "print(\"logic4\")\n",
        "print(\"logic5\")"
      ],
      "metadata": {
        "colab": {
          "base_uri": "https://localhost:8080/"
        },
        "id": "pKI9NtdExzX2",
        "outputId": "e78f1b98-cc85-4d1c-b05b-1c370a8e1944"
      },
      "execution_count": 5,
      "outputs": [
        {
          "output_type": "stream",
          "name": "stdout",
          "text": [
            "logic1\n",
            "logic2\n",
            "Zerro Division Error!\n",
            "logic4\n",
            "logic5\n"
          ]
        }
      ]
    },
    {
      "cell_type": "code",
      "source": [
        "print(\"logic1\")\n",
        "print(\"logic2\")\n",
        "\n",
        "l1 : list[int] = [1,2,3]\n",
        "\n",
        "try:\n",
        "    print(5/2)\n",
        "    print(l1[0])\n",
        "    print(xyz)\n",
        "except (ZeroDivisionError,IndexError,NameError):\n",
        "    print(\"Zerro Division Error!\")\n",
        "print(\"logic4\")\n",
        "print(\"logic5\")"
      ],
      "metadata": {
        "colab": {
          "base_uri": "https://localhost:8080/"
        },
        "id": "ieYTvHVexza1",
        "outputId": "83ef002f-242f-4cba-d4a6-dc98bab2bc6c"
      },
      "execution_count": 6,
      "outputs": [
        {
          "output_type": "stream",
          "name": "stdout",
          "text": [
            "logic1\n",
            "logic2\n",
            "2.5\n",
            "1\n",
            "Zerro Division Error!\n",
            "logic4\n",
            "logic5\n"
          ]
        }
      ]
    }
  ]
}