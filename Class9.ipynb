{
  "nbformat": 4,
  "nbformat_minor": 0,
  "metadata": {
    "colab": {
      "provenance": []
    },
    "kernelspec": {
      "name": "python3",
      "display_name": "Python 3"
    },
    "language_info": {
      "name": "python"
    }
  },
  "cells": [
    {
      "cell_type": "markdown",
      "source": [
        "#Loop and input from user\n",
        "\n",
        "\n",
        "* while\n",
        "* for  \n",
        "* control\n",
        "\n",
        "     * break  \n",
        "     * continue  \n",
        "     * pas\n",
        "* input with input function  \n",
        "* input from console  \n",
        "\n",
        "#Loop working on iterative data types\n",
        "\n",
        "*  list\n",
        "*  dictionary\n",
        "*  tupple\n",
        "*  string\n",
        "\n",
        "\n",
        "\n",
        "\n"
      ],
      "metadata": {
        "id": "onHr10B_gc4Z"
      }
    },
    {
      "cell_type": "code",
      "source": [
        "l1 : list[int] = [1,2,3,4,5,6]\n",
        "print(l1)"
      ],
      "metadata": {
        "colab": {
          "base_uri": "https://localhost:8080/"
        },
        "id": "1cQFfgPclxAz",
        "outputId": "f58b517a-bb81-4bb1-ca72-018d1bb5d4f8"
      },
      "execution_count": 1,
      "outputs": [
        {
          "output_type": "stream",
          "name": "stdout",
          "text": [
            "[1, 2, 3, 4, 5, 6]\n"
          ]
        }
      ]
    },
    {
      "cell_type": "code",
      "source": [
        "l1 : list[int] = [1,2,3,4,5,6]\n",
        "\n",
        "for n in l1:\n",
        "    print(n)"
      ],
      "metadata": {
        "colab": {
          "base_uri": "https://localhost:8080/"
        },
        "id": "PB57H-0AmF8n",
        "outputId": "f6771c4b-89f3-4a67-db32-3e6831687556"
      },
      "execution_count": 2,
      "outputs": [
        {
          "output_type": "stream",
          "name": "stdout",
          "text": [
            "1\n",
            "2\n",
            "3\n",
            "4\n",
            "5\n",
            "6\n"
          ]
        }
      ]
    },
    {
      "cell_type": "code",
      "source": [
        "l1 : list[int] = [1,2,3,4,5,6]\n",
        "\n",
        "for n in l1:\n",
        "    print(f\"current number :{n}\")"
      ],
      "metadata": {
        "colab": {
          "base_uri": "https://localhost:8080/"
        },
        "id": "BQabCH5ymJRA",
        "outputId": "12efc823-0f11-47a0-fb95-6ba859d80a58"
      },
      "execution_count": 3,
      "outputs": [
        {
          "output_type": "stream",
          "name": "stdout",
          "text": [
            "current number :1\n",
            "current number :2\n",
            "current number :3\n",
            "current number :4\n",
            "current number :5\n",
            "current number :6\n"
          ]
        }
      ]
    },
    {
      "cell_type": "code",
      "source": [
        "l1 : tuple[int] = (1,2,3,4,5,6)\n",
        "\n",
        "for n in l1:\n",
        "    print(f\"current number :{n}\")"
      ],
      "metadata": {
        "colab": {
          "base_uri": "https://localhost:8080/"
        },
        "id": "JVIe1Dq6mJTu",
        "outputId": "5cf112dd-24a0-45a9-f553-c327297d2990"
      },
      "execution_count": 4,
      "outputs": [
        {
          "output_type": "stream",
          "name": "stdout",
          "text": [
            "current number :1\n",
            "current number :2\n",
            "current number :3\n",
            "current number :4\n",
            "current number :5\n",
            "current number :6\n"
          ]
        }
      ]
    },
    {
      "cell_type": "code",
      "source": [
        "l1 : str = \"Pakistan\"\n",
        "\n",
        "for c in l1:\n",
        "    print(f\"current character :{c}\")"
      ],
      "metadata": {
        "colab": {
          "base_uri": "https://localhost:8080/"
        },
        "id": "Qy-CBPYzmJWm",
        "outputId": "f625af92-dd06-4bcb-fc8a-5e64d7dd6207"
      },
      "execution_count": 5,
      "outputs": [
        {
          "output_type": "stream",
          "name": "stdout",
          "text": [
            "current character :P\n",
            "current character :a\n",
            "current character :k\n",
            "current character :i\n",
            "current character :s\n",
            "current character :t\n",
            "current character :a\n",
            "current character :n\n"
          ]
        }
      ]
    },
    {
      "cell_type": "code",
      "source": [
        "l1 : dict[str,str] = {\"name\":\"Muhammad Qasim\",\"fname\":\"Muhammad Aslam\"}\n",
        "\n",
        "for k in l1:\n",
        "    print(f\"dictionary key {k} and value is {l1[k]}\")"
      ],
      "metadata": {
        "colab": {
          "base_uri": "https://localhost:8080/"
        },
        "id": "n2SHzHDnmJZJ",
        "outputId": "e1b4e5db-fa14-471c-e423-71261c89705e"
      },
      "execution_count": 6,
      "outputs": [
        {
          "output_type": "stream",
          "name": "stdout",
          "text": [
            "dictionary key name and value is Muhammad Qasim\n",
            "dictionary key fname and value is Muhammad Aslam\n"
          ]
        }
      ]
    },
    {
      "cell_type": "markdown",
      "source": [
        "# We can directly perform iteration on set data type"
      ],
      "metadata": {
        "id": "CYV65hlrmtP3"
      }
    },
    {
      "cell_type": "code",
      "source": [
        "l1 : set[int] = {1,2,3,4,1,1,1,1}\n",
        "\n",
        "for k in l1:\n",
        "    print(f\"set item is  {k} \")"
      ],
      "metadata": {
        "colab": {
          "base_uri": "https://localhost:8080/"
        },
        "id": "Jr7uxJwDmJbo",
        "outputId": "4d386266-1796-47b0-8188-82de22153db5"
      },
      "execution_count": 7,
      "outputs": [
        {
          "output_type": "stream",
          "name": "stdout",
          "text": [
            "set item is  1 \n",
            "set item is  2 \n",
            "set item is  3 \n",
            "set item is  4 \n"
          ]
        }
      ]
    },
    {
      "cell_type": "markdown",
      "source": [
        "# Also apply iteration on set with type casting in list"
      ],
      "metadata": {
        "id": "teizbq5sm5o1"
      }
    },
    {
      "cell_type": "code",
      "source": [
        "l1 : list[set[int]] = list({1,2,3,4,1,1,1,1})\n",
        "\n",
        "for k in l1:\n",
        "    print(f\"value from list of set : {k} \")"
      ],
      "metadata": {
        "colab": {
          "base_uri": "https://localhost:8080/"
        },
        "id": "ugyZDue0mJeE",
        "outputId": "29b74ee4-0971-4b44-ea1c-2a5e606c4f78"
      },
      "execution_count": 8,
      "outputs": [
        {
          "output_type": "stream",
          "name": "stdout",
          "text": [
            "value from list of set : 1 \n",
            "value from list of set : 2 \n",
            "value from list of set : 3 \n",
            "value from list of set : 4 \n"
          ]
        }
      ]
    },
    {
      "cell_type": "markdown",
      "source": [
        "#input from user\n",
        "\n",
        "* input function  \n",
        "     * defualt type = string  \n",
        "* sys.argv (for console input in abc.py file)\n",
        "     * defualt type = str\n",
        "\n",
        "\n"
      ],
      "metadata": {
        "id": "PVy1gkNHnB_M"
      }
    },
    {
      "cell_type": "code",
      "source": [
        "name : str = input(\"What is your name? : \\t\")\n",
        "\n",
        "print(type(name))\n",
        "\n",
        "print(f\"Welecom dear User Mr/Miss {name}!\")"
      ],
      "metadata": {
        "colab": {
          "base_uri": "https://localhost:8080/"
        },
        "id": "tFIGQpHBmJgo",
        "outputId": "c230ca95-32f0-45d9-b1f8-d3291db6d961"
      },
      "execution_count": 9,
      "outputs": [
        {
          "output_type": "stream",
          "name": "stdout",
          "text": [
            "What is your name? : \tanzala \n",
            "<class 'str'>\n",
            "Welecom dear User Mr/Miss anzala !\n"
          ]
        }
      ]
    },
    {
      "cell_type": "code",
      "source": [
        "names : list[str] = ['a','b','c']\n",
        "fname : list[str] = ['x','y','z']\n",
        "age : list[int] = [1,2,3]\n",
        "\n",
        "zip(names,fname,age)"
      ],
      "metadata": {
        "colab": {
          "base_uri": "https://localhost:8080/"
        },
        "id": "GRbLl2uCmJjI",
        "outputId": "f3b6160c-cace-406c-93c1-2489e10d4187"
      },
      "execution_count": 10,
      "outputs": [
        {
          "output_type": "execute_result",
          "data": {
            "text/plain": [
              "<zip at 0x7a79fa0d0f80>"
            ]
          },
          "metadata": {},
          "execution_count": 10
        }
      ]
    },
    {
      "cell_type": "code",
      "source": [
        "names : list[str] = ['a','b','c']\n",
        "fname : list[str] = ['x','y','z']\n",
        "age : list[int] = [1,2,3]\n",
        "\n",
        "list(zip(names,fname,age))\n",
        "\n",
        "for name,fn, ag in zip(names,fname,age):\n",
        "    print(f\"Welcome dear {name}, s/o {fn}!\")"
      ],
      "metadata": {
        "colab": {
          "base_uri": "https://localhost:8080/"
        },
        "id": "SaJMwvNKnsfE",
        "outputId": "80da76a1-1303-45ac-ba7f-d4e489d6066b"
      },
      "execution_count": 11,
      "outputs": [
        {
          "output_type": "stream",
          "name": "stdout",
          "text": [
            "Welcome dear a, s/o x!\n",
            "Welcome dear b, s/o y!\n",
            "Welcome dear c, s/o z!\n"
          ]
        }
      ]
    },
    {
      "cell_type": "markdown",
      "source": [
        "#While loop\n",
        "\n",
        "\n",
        "* while logic: # True/False   \n",
        "    * loop_body  \n",
        "\n"
      ],
      "metadata": {
        "id": "JKGaDNAOoCxh"
      }
    },
    {
      "cell_type": "code",
      "source": [
        "flag : bool = True #flag\n",
        "\n",
        "current_number : int = 0 #\n",
        "\n",
        "while flag:\n",
        "    print(f\"current number is :{current_number}\")\n",
        "    current_number += 1\n",
        "\n",
        "    if current_number == 10:\n",
        "\n",
        "        break"
      ],
      "metadata": {
        "colab": {
          "base_uri": "https://localhost:8080/"
        },
        "id": "1iDGpbHAnshy",
        "outputId": "5d9cd3b5-1053-4b45-a3fb-3ba771a9d6b8"
      },
      "execution_count": 12,
      "outputs": [
        {
          "output_type": "stream",
          "name": "stdout",
          "text": [
            "current number is :0\n",
            "current number is :1\n",
            "current number is :2\n",
            "current number is :3\n",
            "current number is :4\n",
            "current number is :5\n",
            "current number is :6\n",
            "current number is :7\n",
            "current number is :8\n",
            "current number is :9\n"
          ]
        }
      ]
    },
    {
      "cell_type": "code",
      "source": [
        "l1: list[int] = [100,200,300]\n",
        "\n",
        "index : int = 0\n",
        "\n",
        "while index < len(l1):\n",
        "    print(f\"current index is :{index} and list value is {l1[index]}\")\n",
        "    index += 1\n"
      ],
      "metadata": {
        "colab": {
          "base_uri": "https://localhost:8080/"
        },
        "id": "U6dvWKjpnskW",
        "outputId": "fb2d1cdf-fb0c-4aab-d46b-29297be2807f"
      },
      "execution_count": 13,
      "outputs": [
        {
          "output_type": "stream",
          "name": "stdout",
          "text": [
            "current index is :0 and list value is 100\n",
            "current index is :1 and list value is 200\n",
            "current index is :2 and list value is 300\n"
          ]
        }
      ]
    },
    {
      "cell_type": "code",
      "source": [
        "data : list[dict[str,str]] = []\n",
        "\n",
        "flag : bool = True\n",
        "\n",
        "while flag:\n",
        "    print(\"write quite or exit to stop this program\")\n",
        "    name : str = input (\"Your good name ? \\t:\")\n",
        "    eduction: str = input(\"Your last education? \\t\")\n",
        "\n",
        "    if name in ['exit','quite','close','stop'] or eduction  in ['exit','quite','close','stop']:\n",
        "        flag=False\n",
        "        break\n",
        "    data.append({\"name\":name,\n",
        "                 \"education\": eduction})\n",
        "\n",
        "display(data)    s"
      ],
      "metadata": {
        "colab": {
          "base_uri": "https://localhost:8080/",
          "height": 191
        },
        "id": "ouTTcM0OyGAt",
        "outputId": "864e030f-4f92-4f8d-c98f-ef0343031c8d"
      },
      "execution_count": 20,
      "outputs": [
        {
          "name": "stdout",
          "output_type": "stream",
          "text": [
            "write quite or exit to stop this program\n",
            "Your good name ? \t:a\n",
            "Your last education? \tb\n",
            "write quite or exit to stop this program\n",
            "Your good name ? \t:c\n",
            "Your last education? \td\n",
            "write quite or exit to stop this program\n",
            "Your good name ? \t:stop\n",
            "Your last education? \tquite\n"
          ]
        },
        {
          "output_type": "display_data",
          "data": {
            "text/plain": [
              "[{'name': 'a', 'education': 'b'}, {'name': 'c', 'education': 'd'}]"
            ]
          },
          "metadata": {}
        }
      ]
    },
    {
      "cell_type": "markdown",
      "source": [
        "#controls\n",
        "\n",
        "*  break\n",
        "*  continue\n",
        "     * skip\n",
        "* pass\n",
        "\n"
      ],
      "metadata": {
        "id": "B7OuGjsdwQgq"
      }
    },
    {
      "cell_type": "code",
      "source": [
        "for i in range(1,11):\n",
        "    print(i)\n",
        "    if i == 5:\n",
        "        break\n"
      ],
      "metadata": {
        "colab": {
          "base_uri": "https://localhost:8080/"
        },
        "id": "PvvYvuwerN-u",
        "outputId": "aab902d4-3226-4bc7-f89b-b0346acd5c27"
      },
      "execution_count": 21,
      "outputs": [
        {
          "output_type": "stream",
          "name": "stdout",
          "text": [
            "1\n",
            "2\n",
            "3\n",
            "4\n",
            "5\n"
          ]
        }
      ]
    },
    {
      "cell_type": "code",
      "source": [
        "for i in range(1,11):\n",
        "    print(f\"2 X {i} = {i*2}\")\n",
        "    break"
      ],
      "metadata": {
        "colab": {
          "base_uri": "https://localhost:8080/"
        },
        "id": "zsG1TtIPnspr",
        "outputId": "c6f5183b-0982-4243-9afb-afa69eac6422"
      },
      "execution_count": 22,
      "outputs": [
        {
          "output_type": "stream",
          "name": "stdout",
          "text": [
            "2 X 1 = 2\n"
          ]
        }
      ]
    },
    {
      "cell_type": "code",
      "source": [
        "for i in range(1,11):\n",
        "    print(f\"2 X {i} = {i*2}\")"
      ],
      "metadata": {
        "colab": {
          "base_uri": "https://localhost:8080/"
        },
        "id": "rWTSC-XVnssS",
        "outputId": "6b90c6de-1e76-4ff5-d46a-e4dab580100c"
      },
      "execution_count": 23,
      "outputs": [
        {
          "output_type": "stream",
          "name": "stdout",
          "text": [
            "2 X 1 = 2\n",
            "2 X 2 = 4\n",
            "2 X 3 = 6\n",
            "2 X 4 = 8\n",
            "2 X 5 = 10\n",
            "2 X 6 = 12\n",
            "2 X 7 = 14\n",
            "2 X 8 = 16\n",
            "2 X 9 = 18\n",
            "2 X 10 = 20\n"
          ]
        }
      ]
    },
    {
      "cell_type": "code",
      "source": [
        "for i in range(1, 11):\n",
        "    if i == 5:\n",
        "        continue\n",
        "    print(i)"
      ],
      "metadata": {
        "colab": {
          "base_uri": "https://localhost:8080/"
        },
        "id": "Fa7LywJwnsvW",
        "outputId": "e039e10b-fed6-4490-889b-6d4c5bac720f"
      },
      "execution_count": 24,
      "outputs": [
        {
          "output_type": "stream",
          "name": "stdout",
          "text": [
            "1\n",
            "2\n",
            "3\n",
            "4\n",
            "6\n",
            "7\n",
            "8\n",
            "9\n",
            "10\n"
          ]
        }
      ]
    },
    {
      "cell_type": "markdown",
      "source": [
        "# pass"
      ],
      "metadata": {
        "id": "VM_-QVQgypRz"
      }
    },
    {
      "cell_type": "code",
      "source": [
        "for i in range(1,1000):"
      ],
      "metadata": {
        "colab": {
          "base_uri": "https://localhost:8080/",
          "height": 106
        },
        "id": "QfatqtBgnsyO",
        "outputId": "d00364b4-3075-4f4b-d1b1-57d05748ecb8"
      },
      "execution_count": 25,
      "outputs": [
        {
          "output_type": "error",
          "ename": "SyntaxError",
          "evalue": "incomplete input (<ipython-input-25-1fe47a15d1f7>, line 1)",
          "traceback": [
            "\u001b[0;36m  File \u001b[0;32m\"<ipython-input-25-1fe47a15d1f7>\"\u001b[0;36m, line \u001b[0;32m1\u001b[0m\n\u001b[0;31m    for i in range(1,1000):\u001b[0m\n\u001b[0m                           ^\u001b[0m\n\u001b[0;31mSyntaxError\u001b[0m\u001b[0;31m:\u001b[0m incomplete input\n"
          ]
        }
      ]
    },
    {
      "cell_type": "code",
      "source": [
        "for i in range(1,1000):\n",
        "    pass"
      ],
      "metadata": {
        "id": "SKr6R-Blns1G"
      },
      "execution_count": 26,
      "outputs": []
    },
    {
      "cell_type": "code",
      "source": [
        "def abc(a :int , b:int ) -> int :\n",
        "    pass"
      ],
      "metadata": {
        "id": "aLrCr-ifns6t"
      },
      "execution_count": 28,
      "outputs": []
    },
    {
      "cell_type": "code",
      "source": [
        "if True:\n",
        "    pass\n",
        "\n",
        "print(\"pakistan\")\n",
        "print(\"Second\")"
      ],
      "metadata": {
        "colab": {
          "base_uri": "https://localhost:8080/"
        },
        "id": "K8wNfl0Zns9f",
        "outputId": "7d178eea-54d5-4d54-d6f7-33315cab067c"
      },
      "execution_count": 29,
      "outputs": [
        {
          "output_type": "stream",
          "name": "stdout",
          "text": [
            "pakistan\n",
            "Second\n"
          ]
        }
      ]
    },
    {
      "cell_type": "code",
      "source": [
        "if True:\n",
        "    name : str = input(\"Your name?\")\n",
        "    print(name)"
      ],
      "metadata": {
        "colab": {
          "base_uri": "https://localhost:8080/"
        },
        "id": "BbK1e9NgntAM",
        "outputId": "6a1c4a93-e9f8-43b2-cdad-1cf782b02c7d"
      },
      "execution_count": 30,
      "outputs": [
        {
          "output_type": "stream",
          "name": "stdout",
          "text": [
            "Your name?eman\n",
            "eman\n"
          ]
        }
      ]
    },
    {
      "cell_type": "code",
      "source": [
        "if False:\n",
        "    name : str = input(\"Your name?\")\n",
        "    print(name)"
      ],
      "metadata": {
        "id": "PBDksXQantCz"
      },
      "execution_count": 31,
      "outputs": []
    },
    {
      "cell_type": "code",
      "source": [
        "print(1 + 7 + 3 + 4)"
      ],
      "metadata": {
        "colab": {
          "base_uri": "https://localhost:8080/"
        },
        "id": "ZzvFUaZWmJl4",
        "outputId": "d21e78c5-5c9c-45c4-9fef-79d544319cb9"
      },
      "execution_count": 32,
      "outputs": [
        {
          "output_type": "stream",
          "name": "stdout",
          "text": [
            "15\n"
          ]
        }
      ]
    },
    {
      "cell_type": "code",
      "source": [
        "print(1 + 7 \\\n",
        "      + 3\\\n",
        "         + 4)"
      ],
      "metadata": {
        "colab": {
          "base_uri": "https://localhost:8080/"
        },
        "id": "OA3PJa19mJoZ",
        "outputId": "ae094b49-25db-4b32-a70d-67d7afe0cff6"
      },
      "execution_count": 33,
      "outputs": [
        {
          "output_type": "stream",
          "name": "stdout",
          "text": [
            "15\n"
          ]
        }
      ]
    },
    {
      "cell_type": "code",
      "source": [
        "prompt = \"\"\"If you share your name, we can personalize the messages you see.\\\n",
        "What is your first name? \"\"\"\n",
        "\n",
        "\n",
        "name = input(prompt)\n",
        "print(f\"\\nHello, {name}!\")\n"
      ],
      "metadata": {
        "colab": {
          "base_uri": "https://localhost:8080/"
        },
        "id": "u1XTQ1KQzTRB",
        "outputId": "14ea3fa3-eb11-4529-dfe8-c7f5ede96aa1"
      },
      "execution_count": 34,
      "outputs": [
        {
          "output_type": "stream",
          "name": "stdout",
          "text": [
            "If you share your name, we can personalize the messages you see.What is your first name? eman\n",
            "\n",
            "Hello, eman!\n"
          ]
        }
      ]
    },
    {
      "cell_type": "code",
      "source": [
        "age:str = input(\"How old are you? \")\n",
        "age >= 18\n",
        "\n",
        "\n",
        "\n"
      ],
      "metadata": {
        "colab": {
          "base_uri": "https://localhost:8080/",
          "height": 228
        },
        "id": "jJU35rA-zTT5",
        "outputId": "cdc53dfb-28fc-4ce0-95af-1dffa5f8cc06"
      },
      "execution_count": 35,
      "outputs": [
        {
          "name": "stdout",
          "output_type": "stream",
          "text": [
            "How old are you? 18\n"
          ]
        },
        {
          "output_type": "error",
          "ename": "TypeError",
          "evalue": "'>=' not supported between instances of 'str' and 'int'",
          "traceback": [
            "\u001b[0;31m---------------------------------------------------------------------------\u001b[0m",
            "\u001b[0;31mTypeError\u001b[0m                                 Traceback (most recent call last)",
            "\u001b[0;32m<ipython-input-35-fff4b5d0c50b>\u001b[0m in \u001b[0;36m<cell line: 2>\u001b[0;34m()\u001b[0m\n\u001b[1;32m      1\u001b[0m \u001b[0mage\u001b[0m\u001b[0;34m:\u001b[0m\u001b[0mstr\u001b[0m \u001b[0;34m=\u001b[0m \u001b[0minput\u001b[0m\u001b[0;34m(\u001b[0m\u001b[0;34m\"How old are you? \"\u001b[0m\u001b[0;34m)\u001b[0m\u001b[0;34m\u001b[0m\u001b[0;34m\u001b[0m\u001b[0m\n\u001b[0;32m----> 2\u001b[0;31m \u001b[0mage\u001b[0m \u001b[0;34m>=\u001b[0m \u001b[0;36m18\u001b[0m\u001b[0;34m\u001b[0m\u001b[0;34m\u001b[0m\u001b[0m\n\u001b[0m\u001b[1;32m      3\u001b[0m \u001b[0;34m\u001b[0m\u001b[0m\n\u001b[1;32m      4\u001b[0m \u001b[0;34m\u001b[0m\u001b[0m\n\u001b[1;32m      5\u001b[0m \u001b[0;34m\u001b[0m\u001b[0m\n",
            "\u001b[0;31mTypeError\u001b[0m: '>=' not supported between instances of 'str' and 'int'"
          ]
        }
      ]
    },
    {
      "cell_type": "code",
      "source": [
        "age:int = int(input(\"How old are you? \"))\n",
        "age >= 18"
      ],
      "metadata": {
        "colab": {
          "base_uri": "https://localhost:8080/"
        },
        "id": "I0YjFOaRzTWt",
        "outputId": "e5ff5811-a422-4454-e552-e5b4974a59ca"
      },
      "execution_count": 36,
      "outputs": [
        {
          "name": "stdout",
          "output_type": "stream",
          "text": [
            "How old are you? 18\n"
          ]
        },
        {
          "output_type": "execute_result",
          "data": {
            "text/plain": [
              "True"
            ]
          },
          "metadata": {},
          "execution_count": 36
        }
      ]
    },
    {
      "cell_type": "code",
      "source": [
        "data : list[int] = [1,3,5,6,3,15,18]\n",
        "[i  for i in data if i%2==0]"
      ],
      "metadata": {
        "colab": {
          "base_uri": "https://localhost:8080/"
        },
        "id": "2_rgiluszTZX",
        "outputId": "dcb9bd06-8904-4bbb-afb6-e857b17bdac1"
      },
      "execution_count": 37,
      "outputs": [
        {
          "output_type": "execute_result",
          "data": {
            "text/plain": [
              "[6, 18]"
            ]
          },
          "metadata": {},
          "execution_count": 37
        }
      ]
    },
    {
      "cell_type": "code",
      "source": [
        "current_number = 0\n",
        "while current_number < 10:\n",
        "    current_number += 1\n",
        "    if current_number % 2 != 0:\n",
        "        continue\n",
        "    print(current_number)"
      ],
      "metadata": {
        "colab": {
          "base_uri": "https://localhost:8080/"
        },
        "id": "algjAKgpzTcQ",
        "outputId": "ad0b62b7-745b-4990-d41f-ee8a83d6bb2e"
      },
      "execution_count": 38,
      "outputs": [
        {
          "output_type": "stream",
          "name": "stdout",
          "text": [
            "2\n",
            "4\n",
            "6\n",
            "8\n",
            "10\n"
          ]
        }
      ]
    },
    {
      "cell_type": "code",
      "source": [
        "data : list[int] = [1,3,5,6,3,15,18]\n",
        "[i  for i in data if i%2!=0]"
      ],
      "metadata": {
        "colab": {
          "base_uri": "https://localhost:8080/"
        },
        "id": "TaUvPcUqzTe7",
        "outputId": "5816db59-fb44-40ce-b291-5d06411b6711"
      },
      "execution_count": 39,
      "outputs": [
        {
          "output_type": "execute_result",
          "data": {
            "text/plain": [
              "[1, 3, 5, 3, 15]"
            ]
          },
          "metadata": {},
          "execution_count": 39
        }
      ]
    },
    {
      "cell_type": "code",
      "source": [
        "current_number = 0\n",
        "while current_number < 10:\n",
        "    current_number += 1\n",
        "    if current_number % 2 == 0:\n",
        "        continue\n",
        "    print(current_number)"
      ],
      "metadata": {
        "colab": {
          "base_uri": "https://localhost:8080/"
        },
        "id": "Hp_RF8AFzThJ",
        "outputId": "8cf9c3e0-64d6-4169-c608-6dab3ff44306"
      },
      "execution_count": 40,
      "outputs": [
        {
          "output_type": "stream",
          "name": "stdout",
          "text": [
            "1\n",
            "3\n",
            "5\n",
            "7\n",
            "9\n"
          ]
        }
      ]
    },
    {
      "cell_type": "code",
      "source": [
        "prompt = \"\\nTell me something, and I will repeat it back to you:\"\n",
        "prompt += \"\\nEnter 'quit' to end the program. \"\n",
        "message = \"\"\n",
        "while message != 'quit':\n",
        "    message = input(prompt)\n",
        "    print(message)"
      ],
      "metadata": {
        "colab": {
          "base_uri": "https://localhost:8080/"
        },
        "id": "mPzRRG7PzTjN",
        "outputId": "d0d9a65e-4223-4597-adbc-14148562c08c"
      },
      "execution_count": 41,
      "outputs": [
        {
          "output_type": "stream",
          "name": "stdout",
          "text": [
            "\n",
            "Tell me something, and I will repeat it back to you:\n",
            "Enter 'quit' to end the program. a\n",
            "a\n",
            "\n",
            "Tell me something, and I will repeat it back to you:\n",
            "Enter 'quit' to end the program. b\n",
            "b\n",
            "\n",
            "Tell me something, and I will repeat it back to you:\n",
            "Enter 'quit' to end the program. c\n",
            "c\n",
            "\n",
            "Tell me something, and I will repeat it back to you:\n",
            "Enter 'quit' to end the program. d\n",
            "d\n",
            "\n",
            "Tell me something, and I will repeat it back to you:\n",
            "Enter 'quit' to end the program. quite\n",
            "quite\n",
            "\n",
            "Tell me something, and I will repeat it back to you:\n",
            "Enter 'quit' to end the program. quit\n",
            "quit\n"
          ]
        }
      ]
    },
    {
      "cell_type": "code",
      "source": [
        "unconfirmed_users : list[str] = ['alice', 'brian', 'candace']\n",
        "confirmed_users : list[str] = []\n",
        "while unconfirmed_users:\n",
        "    current_user = unconfirmed_users.pop()\n",
        "    print(f\"Verifying user: {current_user.title()}\")\n",
        "    confirmed_users.append(current_user)\n",
        "print(\"\\nThe following users have been confirmed:\")\n",
        "for confirmed_user in confirmed_users:\n",
        "    print(confirmed_user.title())\n"
      ],
      "metadata": {
        "id": "Dgjv_v9X00TU"
      },
      "execution_count": null,
      "outputs": []
    },
    {
      "cell_type": "code",
      "source": [
        "prompt:str = \"\\nTell me something, and I will repeat it back to you:\"\n",
        "prompt += \"\\nEnter 'quit' to end the program. \"\n",
        "\n",
        "\n",
        "active = True\n",
        "\n",
        "while active:\n",
        "    message = input(prompt)\n",
        "    if message == 'quit':\n",
        "        active = False\n",
        "    else:\n",
        "        print(message)\n",
        "\n"
      ],
      "metadata": {
        "id": "5CY6Bq5mzTlq",
        "colab": {
          "base_uri": "https://localhost:8080/"
        },
        "outputId": "e21b1f06-9806-4807-ad41-4ed1b7e7650e"
      },
      "execution_count": 47,
      "outputs": [
        {
          "name": "stdout",
          "output_type": "stream",
          "text": [
            "\n",
            "Tell me something, and I will repeat it back to you:\n",
            "Enter 'quit' to end the program. a\n",
            "a\n",
            "\n",
            "Tell me something, and I will repeat it back to you:\n",
            "Enter 'quit' to end the program. quit\n"
          ]
        }
      ]
    },
    {
      "cell_type": "code",
      "source": [
        "a = 10\n",
        "\n",
        "while a:\n",
        "    print(\"abc\")\n",
        "    break"
      ],
      "metadata": {
        "colab": {
          "base_uri": "https://localhost:8080/"
        },
        "id": "IgcvXFc81F_P",
        "outputId": "67d38bb9-fb42-4ec3-9da7-23fe5f5d1812"
      },
      "execution_count": 44,
      "outputs": [
        {
          "output_type": "stream",
          "name": "stdout",
          "text": [
            "abc\n"
          ]
        }
      ]
    },
    {
      "cell_type": "code",
      "source": [
        "data : list[int] = [1,2,3]\n",
        "\n",
        "while data:\n",
        "    n : int = data.pop()\n",
        "    print(n)"
      ],
      "metadata": {
        "colab": {
          "base_uri": "https://localhost:8080/"
        },
        "id": "Qf1ObqGx1GDX",
        "outputId": "f563d86e-5dff-4f66-a9db-aadadd8daa70"
      },
      "execution_count": 45,
      "outputs": [
        {
          "output_type": "stream",
          "name": "stdout",
          "text": [
            "3\n",
            "2\n",
            "1\n"
          ]
        }
      ]
    },
    {
      "cell_type": "code",
      "source": [
        "pets = ['dog', 'cat', 'dog', 'goldfish', 'cat', 'rabbit', 'cat']\n",
        "print(pets)\n",
        "\n",
        "while 'cat' in pets:\n",
        "    pets.remove('cat')\n",
        "print(pets)"
      ],
      "metadata": {
        "colab": {
          "base_uri": "https://localhost:8080/"
        },
        "id": "4fltebvQ1LJR",
        "outputId": "a0ca4fed-c850-495b-c981-f9a6037c5626"
      },
      "execution_count": 46,
      "outputs": [
        {
          "output_type": "stream",
          "name": "stdout",
          "text": [
            "['dog', 'cat', 'dog', 'goldfish', 'cat', 'rabbit', 'cat']\n",
            "['dog', 'dog', 'goldfish', 'rabbit']\n"
          ]
        }
      ]
    }
  ]
}