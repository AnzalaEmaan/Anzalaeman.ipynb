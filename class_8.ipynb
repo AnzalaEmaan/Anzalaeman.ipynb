{
  "nbformat": 4,
  "nbformat_minor": 0,
  "metadata": {
    "colab": {
      "provenance": []
    },
    "kernelspec": {
      "name": "python3",
      "display_name": "Python 3"
    },
    "language_info": {
      "name": "python"
    }
  },
  "cells": [
    {
      "cell_type": "code",
      "source": [
        "from typing import Dict, Union, Optional\n",
        "import pprint\n",
        "\n",
        "\n",
        "Key = Union[int,str] # create custom type\n",
        "Value = Union[int, str, list, dict, tuple, set]\n",
        "\n",
        "data : Dict[Key,Value] = {\n",
        "                        \"fname\":\"Muhammad Aslam\",\n",
        "                        \"name\":\"Muhammad Qasim\",\n",
        "                        \"education\": \"MSDS\"}\n",
        "\n",
        "\n",
        "methods : list[str] = [m for m in dir(data) if \"__\" not in m]\n",
        "print(methods)"
      ],
      "metadata": {
        "colab": {
          "base_uri": "https://localhost:8080/"
        },
        "id": "vBr-Ap1k_zkA",
        "outputId": "c037d365-632b-4f20-a6a3-a55c85e8bdb2"
      },
      "execution_count": null,
      "outputs": [
        {
          "output_type": "stream",
          "name": "stdout",
          "text": [
            "['clear', 'copy', 'fromkeys', 'get', 'items', 'keys', 'pop', 'popitem', 'setdefault', 'update', 'values']\n"
          ]
        }
      ]
    },
    {
      "cell_type": "code",
      "source": [
        "from typing import Dict, Union, Optional\n",
        "import pprint\n",
        "\n",
        "\n",
        "Key = Union[int,str]\n",
        "Value = Union[int, str, list, dict, tuple, set]\n",
        "\n",
        "data : Dict[Key,Value] = {\n",
        "                        \"fname\":\"Muhammad Aslam\",\n",
        "                        \"name\":\"Muhammad Qasim\",\n",
        "                        \"education\": \"MSDS\"}\n",
        "\n",
        "print(\"Before\", data)\n",
        "\n",
        "data.clear()\n",
        "print(\"After\", data)\n",
        "\n",
        "methods : list[str] = [m for m in dir(data) if \"__\" not in m]\n",
        "print(methods)"
      ],
      "metadata": {
        "colab": {
          "base_uri": "https://localhost:8080/"
        },
        "id": "PlddsHY1Ave1",
        "outputId": "05760eb5-f753-4674-ae3b-22e3789d694f"
      },
      "execution_count": null,
      "outputs": [
        {
          "output_type": "stream",
          "name": "stdout",
          "text": [
            "Before {'fname': 'Muhammad Aslam', 'name': 'Muhammad Qasim', 'education': 'MSDS'}\n",
            "After {}\n",
            "['clear', 'copy', 'fromkeys', 'get', 'items', 'keys', 'pop', 'popitem', 'setdefault', 'update', 'values']\n"
          ]
        }
      ]
    },
    {
      "cell_type": "code",
      "source": [
        "from typing import Dict, Union, Optional\n",
        "import pprint\n",
        "\n",
        "\n",
        "Key = Union[int,str]\n",
        "Value = Union[int, str, list, dict, tuple, set]\n",
        "\n",
        "data : Dict[Key,Value] = {\n",
        "                        \"fname\":\"Muhammad Aslam\",\n",
        "                        \"name\":\"Muhammad Qasim\",\n",
        "                        \"education\": \"MSDS\"}\n",
        "\n",
        "print(\"Before\", data)\n",
        "\n",
        "del data\n",
        "\n",
        "print(\"After\", data)\n",
        "\n",
        "methods : list[str] = [m for m in dir(data) if \"__\" not in m]\n",
        "print(methods)"
      ],
      "metadata": {
        "colab": {
          "base_uri": "https://localhost:8080/",
          "height": 228
        },
        "id": "Q1BI7vesBR6v",
        "outputId": "63c6c4da-d82b-45d2-d904-65492e02f4c5"
      },
      "execution_count": null,
      "outputs": [
        {
          "output_type": "stream",
          "name": "stdout",
          "text": [
            "Before {'fname': 'Muhammad Aslam', 'name': 'Muhammad Qasim', 'education': 'MSDS'}\n"
          ]
        },
        {
          "output_type": "error",
          "ename": "NameError",
          "evalue": "name 'data' is not defined",
          "traceback": [
            "\u001b[0;31m---------------------------------------------------------------------------\u001b[0m",
            "\u001b[0;31mNameError\u001b[0m                                 Traceback (most recent call last)",
            "\u001b[0;32m<ipython-input-5-432b9d6f3192>\u001b[0m in \u001b[0;36m<cell line: 17>\u001b[0;34m()\u001b[0m\n\u001b[1;32m     15\u001b[0m \u001b[0;32mdel\u001b[0m \u001b[0mdata\u001b[0m\u001b[0;34m\u001b[0m\u001b[0;34m\u001b[0m\u001b[0m\n\u001b[1;32m     16\u001b[0m \u001b[0;34m\u001b[0m\u001b[0m\n\u001b[0;32m---> 17\u001b[0;31m \u001b[0mprint\u001b[0m\u001b[0;34m(\u001b[0m\u001b[0;34m\"After\"\u001b[0m\u001b[0;34m,\u001b[0m \u001b[0mdata\u001b[0m\u001b[0;34m)\u001b[0m\u001b[0;34m\u001b[0m\u001b[0;34m\u001b[0m\u001b[0m\n\u001b[0m\u001b[1;32m     18\u001b[0m \u001b[0;34m\u001b[0m\u001b[0m\n\u001b[1;32m     19\u001b[0m \u001b[0mmethods\u001b[0m \u001b[0;34m:\u001b[0m \u001b[0mlist\u001b[0m\u001b[0;34m[\u001b[0m\u001b[0mstr\u001b[0m\u001b[0;34m]\u001b[0m \u001b[0;34m=\u001b[0m \u001b[0;34m[\u001b[0m\u001b[0mm\u001b[0m \u001b[0;32mfor\u001b[0m \u001b[0mm\u001b[0m \u001b[0;32min\u001b[0m \u001b[0mdir\u001b[0m\u001b[0;34m(\u001b[0m\u001b[0mdata\u001b[0m\u001b[0;34m)\u001b[0m \u001b[0;32mif\u001b[0m \u001b[0;34m\"__\"\u001b[0m \u001b[0;32mnot\u001b[0m \u001b[0;32min\u001b[0m \u001b[0mm\u001b[0m\u001b[0;34m]\u001b[0m\u001b[0;34m\u001b[0m\u001b[0;34m\u001b[0m\u001b[0m\n",
            "\u001b[0;31mNameError\u001b[0m: name 'data' is not defined"
          ]
        }
      ]
    },
    {
      "cell_type": "code",
      "source": [
        "from typing import Dict, Union, Optional\n",
        "import pprint\n",
        "\n",
        "\n",
        "Key = Union[int,str]\n",
        "Value = Union[int, str, list, dict, tuple, set]\n",
        "\n",
        "data : Dict[Key,Value] = {\n",
        "                        \"fname\":\"Muhammad Aslam\",\n",
        "                        \"name\":\"Muhammad Qasim\",\n",
        "                        \"education\": \"MSDS\"}\n",
        "\n",
        "print(\"Before\", data)\n",
        "\n",
        "a : str = data.pop(\"education\")\n",
        "print(a)\n",
        "\n",
        "print(\"After\", data)\n",
        "\n",
        "methods : list[str] = [m for m in dir(data) if \"__\" not in m]\n",
        "print(methods)"
      ],
      "metadata": {
        "colab": {
          "base_uri": "https://localhost:8080/"
        },
        "id": "L79JMp_PHOYM",
        "outputId": "94a9281a-9b9e-4cc2-c5aa-2c0f4c983f18"
      },
      "execution_count": null,
      "outputs": [
        {
          "output_type": "stream",
          "name": "stdout",
          "text": [
            "Before {'fname': 'Muhammad Aslam', 'name': 'Muhammad Qasim', 'education': 'MSDS'}\n",
            "MSDS\n",
            "After {'fname': 'Muhammad Aslam', 'name': 'Muhammad Qasim'}\n",
            "['clear', 'copy', 'fromkeys', 'get', 'items', 'keys', 'pop', 'popitem', 'setdefault', 'update', 'values']\n"
          ]
        }
      ]
    },
    {
      "cell_type": "code",
      "source": [
        "from typing import Dict, Union, Optional\n",
        "import pprint\n",
        "\n",
        "\n",
        "Key = Union[int,str] # create custom type\n",
        "Value = Union[int, str, list, dict, tuple, set]\n",
        "\n",
        "data : Dict[Key,Value] = {\n",
        "                        \"fname\":\"Muhammad Aslam\",\n",
        "                        \"name\":\"Muhammad Qasim\",\n",
        "                        \"education\": \"MSDS\"}\n",
        "\n",
        "print(\"Before\", data)\n",
        "\n",
        "a : str = data.popitem()\n",
        "print(a)\n",
        "\n",
        "print(\"After\", data)\n",
        "\n",
        "methods : list[str] = [m for m in dir(data) if \"__\" not in m]\n",
        "print(methods)"
      ],
      "metadata": {
        "colab": {
          "base_uri": "https://localhost:8080/"
        },
        "id": "SJ5w025cKGH8",
        "outputId": "906896b8-f8a8-45aa-ad08-8107bf06a574"
      },
      "execution_count": null,
      "outputs": [
        {
          "output_type": "stream",
          "name": "stdout",
          "text": [
            "Before {'fname': 'Muhammad Aslam', 'name': 'Muhammad Qasim', 'education': 'MSDS'}\n",
            "('education', 'MSDS')\n",
            "After {'fname': 'Muhammad Aslam', 'name': 'Muhammad Qasim'}\n",
            "['clear', 'copy', 'fromkeys', 'get', 'items', 'keys', 'pop', 'popitem', 'setdefault', 'update', 'values']\n"
          ]
        }
      ]
    },
    {
      "cell_type": "code",
      "source": [
        "from typing import Dict, Union, Optional\n",
        "import pprint\n",
        "\n",
        "\n",
        "Key = Union[int,str]\n",
        "Value = Union[int, str, list, dict, tuple, set]\n",
        "\n",
        "data : Dict[Key,Value] = {\n",
        "                        \"fname\":\"Muhammad Aslam\",\n",
        "                        \"name\":\"Muhammad Qasim\",\n",
        "                        \"education\": \"MSDS\"}\n",
        "\n",
        "print(\"Before\", data)\n",
        "\n",
        "a : str = data.get(\"Pakistan\",\"NA\")\n",
        "print(a)\n",
        "\n",
        "print(\"After\", data)\n",
        "\n",
        "methods : list[str] = [m for m in dir(data) if \"__\" not in m]\n",
        "print(methods)"
      ],
      "metadata": {
        "colab": {
          "base_uri": "https://localhost:8080/"
        },
        "id": "7esVsyrDKdls",
        "outputId": "d986c83b-2570-4cc8-d86e-03e593e134b5"
      },
      "execution_count": null,
      "outputs": [
        {
          "output_type": "stream",
          "name": "stdout",
          "text": [
            "Before {'fname': 'Muhammad Aslam', 'name': 'Muhammad Qasim', 'education': 'MSDS'}\n",
            "NA\n",
            "After {'fname': 'Muhammad Aslam', 'name': 'Muhammad Qasim', 'education': 'MSDS'}\n",
            "['clear', 'copy', 'fromkeys', 'get', 'items', 'keys', 'pop', 'popitem', 'setdefault', 'update', 'values']\n"
          ]
        }
      ]
    },
    {
      "cell_type": "code",
      "source": [
        "from typing import Dict, Union, Optional\n",
        "import pprint\n",
        "\n",
        "\n",
        "Key = Union[int,str]\n",
        "Value = Union[int, str, list, dict, tuple, set]\n",
        "\n",
        "data : Dict[Key,Value] = {\n",
        "                        \"fname\":\"Muhammad Aslam\",\n",
        "                        \"name\":\"Muhammad Qasim\",\n",
        "                        \"education\": \"MSDS\"}\n",
        "\n",
        "print(\"Before\", data)\n",
        "\n",
        "a : str = data.setdefault(\"Pakistan\",\"Empty value\")\n",
        "print(a)\n",
        "\n",
        "print(\"After\", data)\n",
        "\n",
        "methods : list[str] = [m for m in dir(data) if \"__\" not in m]\n",
        "print(methods)"
      ],
      "metadata": {
        "colab": {
          "base_uri": "https://localhost:8080/"
        },
        "id": "9lTAwbXcKnhT",
        "outputId": "9e9b602f-5498-4087-8585-7bb3c1e791d1"
      },
      "execution_count": null,
      "outputs": [
        {
          "output_type": "stream",
          "name": "stdout",
          "text": [
            "Before {'fname': 'Muhammad Aslam', 'name': 'Muhammad Qasim', 'education': 'MSDS'}\n",
            "Empty value\n",
            "After {'fname': 'Muhammad Aslam', 'name': 'Muhammad Qasim', 'education': 'MSDS', 'Pakistan': 'Empty value'}\n",
            "['clear', 'copy', 'fromkeys', 'get', 'items', 'keys', 'pop', 'popitem', 'setdefault', 'update', 'values']\n"
          ]
        }
      ]
    },
    {
      "cell_type": "code",
      "source": [
        "Key = Union[int,str]\n",
        "Value = Union[int, str, list, dict, tuple, set]\n",
        "\n",
        "data : Dict[Key,Value] = {\n",
        "                        \"fname\":\"Muhammad Aslam\",\n",
        "                        \"name\":\"Muhammad Qasim\",\n",
        "                        \"education\": \"MSDS\"}\n",
        "\n",
        "\n",
        "data1 : Dict[Key,Value] = {\"name\":\"M.Qasim\",\n",
        "                           \"age\":30,\n",
        "                           \"Height\": \"6 Feet\"}\n",
        "\n",
        "data.update(data1)\n",
        "\n",
        "data\n"
      ],
      "metadata": {
        "colab": {
          "base_uri": "https://localhost:8080/"
        },
        "id": "7yBsIeZYOnxo",
        "outputId": "70155ebb-728d-4b97-94db-a946ca31da39"
      },
      "execution_count": null,
      "outputs": [
        {
          "output_type": "execute_result",
          "data": {
            "text/plain": [
              "{'fname': 'Muhammad Aslam',\n",
              " 'name': 'M.Qasim',\n",
              " 'education': 'MSDS',\n",
              " 'age': 30,\n",
              " 'Height': '6 Feet'}"
            ]
          },
          "metadata": {},
          "execution_count": 10
        }
      ]
    },
    {
      "cell_type": "code",
      "source": [
        "import pandas as pd\n",
        "from typing import Any , Dict\n",
        "\n",
        "\n",
        "students_data : Dict[str, list[Any]] = {\n",
        "    \"roll no\": [1,2,3],\n",
        "    \"Name\": [\"Sir Zia\",\"Sir Inam\",\"Muhammad Qasim\"],\n",
        "    \"education\": [\"Master\",\"Master\",\"Master\"]\n",
        "}\n",
        "\n",
        "df : pd.DataFrame = pd.DataFrame(students_data)\n",
        "\n",
        "df"
      ],
      "metadata": {
        "colab": {
          "base_uri": "https://localhost:8080/",
          "height": 143
        },
        "id": "1T2Xe42WXWZu",
        "outputId": "ecca6369-183b-4a30-d4c8-9ec2b7afbfdd"
      },
      "execution_count": null,
      "outputs": [
        {
          "output_type": "execute_result",
          "data": {
            "text/plain": [
              "   roll no            Name education\n",
              "0        1         Sir Zia    Master\n",
              "1        2        Sir Inam    Master\n",
              "2        3  Muhammad Qasim    Master"
            ],
            "text/html": [
              "\n",
              "  <div id=\"df-71f2eb36-f1b8-47c7-aabd-b84f8013fd28\" class=\"colab-df-container\">\n",
              "    <div>\n",
              "<style scoped>\n",
              "    .dataframe tbody tr th:only-of-type {\n",
              "        vertical-align: middle;\n",
              "    }\n",
              "\n",
              "    .dataframe tbody tr th {\n",
              "        vertical-align: top;\n",
              "    }\n",
              "\n",
              "    .dataframe thead th {\n",
              "        text-align: right;\n",
              "    }\n",
              "</style>\n",
              "<table border=\"1\" class=\"dataframe\">\n",
              "  <thead>\n",
              "    <tr style=\"text-align: right;\">\n",
              "      <th></th>\n",
              "      <th>roll no</th>\n",
              "      <th>Name</th>\n",
              "      <th>education</th>\n",
              "    </tr>\n",
              "  </thead>\n",
              "  <tbody>\n",
              "    <tr>\n",
              "      <th>0</th>\n",
              "      <td>1</td>\n",
              "      <td>Sir Zia</td>\n",
              "      <td>Master</td>\n",
              "    </tr>\n",
              "    <tr>\n",
              "      <th>1</th>\n",
              "      <td>2</td>\n",
              "      <td>Sir Inam</td>\n",
              "      <td>Master</td>\n",
              "    </tr>\n",
              "    <tr>\n",
              "      <th>2</th>\n",
              "      <td>3</td>\n",
              "      <td>Muhammad Qasim</td>\n",
              "      <td>Master</td>\n",
              "    </tr>\n",
              "  </tbody>\n",
              "</table>\n",
              "</div>\n",
              "    <div class=\"colab-df-buttons\">\n",
              "\n",
              "  <div class=\"colab-df-container\">\n",
              "    <button class=\"colab-df-convert\" onclick=\"convertToInteractive('df-71f2eb36-f1b8-47c7-aabd-b84f8013fd28')\"\n",
              "            title=\"Convert this dataframe to an interactive table.\"\n",
              "            style=\"display:none;\">\n",
              "\n",
              "  <svg xmlns=\"http://www.w3.org/2000/svg\" height=\"24px\" viewBox=\"0 -960 960 960\">\n",
              "    <path d=\"M120-120v-720h720v720H120Zm60-500h600v-160H180v160Zm220 220h160v-160H400v160Zm0 220h160v-160H400v160ZM180-400h160v-160H180v160Zm440 0h160v-160H620v160ZM180-180h160v-160H180v160Zm440 0h160v-160H620v160Z\"/>\n",
              "  </svg>\n",
              "    </button>\n",
              "\n",
              "  <style>\n",
              "    .colab-df-container {\n",
              "      display:flex;\n",
              "      gap: 12px;\n",
              "    }\n",
              "\n",
              "    .colab-df-convert {\n",
              "      background-color: #E8F0FE;\n",
              "      border: none;\n",
              "      border-radius: 50%;\n",
              "      cursor: pointer;\n",
              "      display: none;\n",
              "      fill: #1967D2;\n",
              "      height: 32px;\n",
              "      padding: 0 0 0 0;\n",
              "      width: 32px;\n",
              "    }\n",
              "\n",
              "    .colab-df-convert:hover {\n",
              "      background-color: #E2EBFA;\n",
              "      box-shadow: 0px 1px 2px rgba(60, 64, 67, 0.3), 0px 1px 3px 1px rgba(60, 64, 67, 0.15);\n",
              "      fill: #174EA6;\n",
              "    }\n",
              "\n",
              "    .colab-df-buttons div {\n",
              "      margin-bottom: 4px;\n",
              "    }\n",
              "\n",
              "    [theme=dark] .colab-df-convert {\n",
              "      background-color: #3B4455;\n",
              "      fill: #D2E3FC;\n",
              "    }\n",
              "\n",
              "    [theme=dark] .colab-df-convert:hover {\n",
              "      background-color: #434B5C;\n",
              "      box-shadow: 0px 1px 3px 1px rgba(0, 0, 0, 0.15);\n",
              "      filter: drop-shadow(0px 1px 2px rgba(0, 0, 0, 0.3));\n",
              "      fill: #FFFFFF;\n",
              "    }\n",
              "  </style>\n",
              "\n",
              "    <script>\n",
              "      const buttonEl =\n",
              "        document.querySelector('#df-71f2eb36-f1b8-47c7-aabd-b84f8013fd28 button.colab-df-convert');\n",
              "      buttonEl.style.display =\n",
              "        google.colab.kernel.accessAllowed ? 'block' : 'none';\n",
              "\n",
              "      async function convertToInteractive(key) {\n",
              "        const element = document.querySelector('#df-71f2eb36-f1b8-47c7-aabd-b84f8013fd28');\n",
              "        const dataTable =\n",
              "          await google.colab.kernel.invokeFunction('convertToInteractive',\n",
              "                                                    [key], {});\n",
              "        if (!dataTable) return;\n",
              "\n",
              "        const docLinkHtml = 'Like what you see? Visit the ' +\n",
              "          '<a target=\"_blank\" href=https://colab.research.google.com/notebooks/data_table.ipynb>data table notebook</a>'\n",
              "          + ' to learn more about interactive tables.';\n",
              "        element.innerHTML = '';\n",
              "        dataTable['output_type'] = 'display_data';\n",
              "        await google.colab.output.renderOutput(dataTable, element);\n",
              "        const docLink = document.createElement('div');\n",
              "        docLink.innerHTML = docLinkHtml;\n",
              "        element.appendChild(docLink);\n",
              "      }\n",
              "    </script>\n",
              "  </div>\n",
              "\n",
              "\n",
              "<div id=\"df-e39641d1-ea36-4c66-bbe9-3a97e7df55ca\">\n",
              "  <button class=\"colab-df-quickchart\" onclick=\"quickchart('df-e39641d1-ea36-4c66-bbe9-3a97e7df55ca')\"\n",
              "            title=\"Suggest charts\"\n",
              "            style=\"display:none;\">\n",
              "\n",
              "<svg xmlns=\"http://www.w3.org/2000/svg\" height=\"24px\"viewBox=\"0 0 24 24\"\n",
              "     width=\"24px\">\n",
              "    <g>\n",
              "        <path d=\"M19 3H5c-1.1 0-2 .9-2 2v14c0 1.1.9 2 2 2h14c1.1 0 2-.9 2-2V5c0-1.1-.9-2-2-2zM9 17H7v-7h2v7zm4 0h-2V7h2v10zm4 0h-2v-4h2v4z\"/>\n",
              "    </g>\n",
              "</svg>\n",
              "  </button>\n",
              "\n",
              "<style>\n",
              "  .colab-df-quickchart {\n",
              "      --bg-color: #E8F0FE;\n",
              "      --fill-color: #1967D2;\n",
              "      --hover-bg-color: #E2EBFA;\n",
              "      --hover-fill-color: #174EA6;\n",
              "      --disabled-fill-color: #AAA;\n",
              "      --disabled-bg-color: #DDD;\n",
              "  }\n",
              "\n",
              "  [theme=dark] .colab-df-quickchart {\n",
              "      --bg-color: #3B4455;\n",
              "      --fill-color: #D2E3FC;\n",
              "      --hover-bg-color: #434B5C;\n",
              "      --hover-fill-color: #FFFFFF;\n",
              "      --disabled-bg-color: #3B4455;\n",
              "      --disabled-fill-color: #666;\n",
              "  }\n",
              "\n",
              "  .colab-df-quickchart {\n",
              "    background-color: var(--bg-color);\n",
              "    border: none;\n",
              "    border-radius: 50%;\n",
              "    cursor: pointer;\n",
              "    display: none;\n",
              "    fill: var(--fill-color);\n",
              "    height: 32px;\n",
              "    padding: 0;\n",
              "    width: 32px;\n",
              "  }\n",
              "\n",
              "  .colab-df-quickchart:hover {\n",
              "    background-color: var(--hover-bg-color);\n",
              "    box-shadow: 0 1px 2px rgba(60, 64, 67, 0.3), 0 1px 3px 1px rgba(60, 64, 67, 0.15);\n",
              "    fill: var(--button-hover-fill-color);\n",
              "  }\n",
              "\n",
              "  .colab-df-quickchart-complete:disabled,\n",
              "  .colab-df-quickchart-complete:disabled:hover {\n",
              "    background-color: var(--disabled-bg-color);\n",
              "    fill: var(--disabled-fill-color);\n",
              "    box-shadow: none;\n",
              "  }\n",
              "\n",
              "  .colab-df-spinner {\n",
              "    border: 2px solid var(--fill-color);\n",
              "    border-color: transparent;\n",
              "    border-bottom-color: var(--fill-color);\n",
              "    animation:\n",
              "      spin 1s steps(1) infinite;\n",
              "  }\n",
              "\n",
              "  @keyframes spin {\n",
              "    0% {\n",
              "      border-color: transparent;\n",
              "      border-bottom-color: var(--fill-color);\n",
              "      border-left-color: var(--fill-color);\n",
              "    }\n",
              "    20% {\n",
              "      border-color: transparent;\n",
              "      border-left-color: var(--fill-color);\n",
              "      border-top-color: var(--fill-color);\n",
              "    }\n",
              "    30% {\n",
              "      border-color: transparent;\n",
              "      border-left-color: var(--fill-color);\n",
              "      border-top-color: var(--fill-color);\n",
              "      border-right-color: var(--fill-color);\n",
              "    }\n",
              "    40% {\n",
              "      border-color: transparent;\n",
              "      border-right-color: var(--fill-color);\n",
              "      border-top-color: var(--fill-color);\n",
              "    }\n",
              "    60% {\n",
              "      border-color: transparent;\n",
              "      border-right-color: var(--fill-color);\n",
              "    }\n",
              "    80% {\n",
              "      border-color: transparent;\n",
              "      border-right-color: var(--fill-color);\n",
              "      border-bottom-color: var(--fill-color);\n",
              "    }\n",
              "    90% {\n",
              "      border-color: transparent;\n",
              "      border-bottom-color: var(--fill-color);\n",
              "    }\n",
              "  }\n",
              "</style>\n",
              "\n",
              "  <script>\n",
              "    async function quickchart(key) {\n",
              "      const quickchartButtonEl =\n",
              "        document.querySelector('#' + key + ' button');\n",
              "      quickchartButtonEl.disabled = true;  // To prevent multiple clicks.\n",
              "      quickchartButtonEl.classList.add('colab-df-spinner');\n",
              "      try {\n",
              "        const charts = await google.colab.kernel.invokeFunction(\n",
              "            'suggestCharts', [key], {});\n",
              "      } catch (error) {\n",
              "        console.error('Error during call to suggestCharts:', error);\n",
              "      }\n",
              "      quickchartButtonEl.classList.remove('colab-df-spinner');\n",
              "      quickchartButtonEl.classList.add('colab-df-quickchart-complete');\n",
              "    }\n",
              "    (() => {\n",
              "      let quickchartButtonEl =\n",
              "        document.querySelector('#df-e39641d1-ea36-4c66-bbe9-3a97e7df55ca button');\n",
              "      quickchartButtonEl.style.display =\n",
              "        google.colab.kernel.accessAllowed ? 'block' : 'none';\n",
              "    })();\n",
              "  </script>\n",
              "</div>\n",
              "\n",
              "  <div id=\"id_89c18f03-944e-4364-ad8d-1c0441e6637a\">\n",
              "    <style>\n",
              "      .colab-df-generate {\n",
              "        background-color: #E8F0FE;\n",
              "        border: none;\n",
              "        border-radius: 50%;\n",
              "        cursor: pointer;\n",
              "        display: none;\n",
              "        fill: #1967D2;\n",
              "        height: 32px;\n",
              "        padding: 0 0 0 0;\n",
              "        width: 32px;\n",
              "      }\n",
              "\n",
              "      .colab-df-generate:hover {\n",
              "        background-color: #E2EBFA;\n",
              "        box-shadow: 0px 1px 2px rgba(60, 64, 67, 0.3), 0px 1px 3px 1px rgba(60, 64, 67, 0.15);\n",
              "        fill: #174EA6;\n",
              "      }\n",
              "\n",
              "      [theme=dark] .colab-df-generate {\n",
              "        background-color: #3B4455;\n",
              "        fill: #D2E3FC;\n",
              "      }\n",
              "\n",
              "      [theme=dark] .colab-df-generate:hover {\n",
              "        background-color: #434B5C;\n",
              "        box-shadow: 0px 1px 3px 1px rgba(0, 0, 0, 0.15);\n",
              "        filter: drop-shadow(0px 1px 2px rgba(0, 0, 0, 0.3));\n",
              "        fill: #FFFFFF;\n",
              "      }\n",
              "    </style>\n",
              "    <button class=\"colab-df-generate\" onclick=\"generateWithVariable('df')\"\n",
              "            title=\"Generate code using this dataframe.\"\n",
              "            style=\"display:none;\">\n",
              "\n",
              "  <svg xmlns=\"http://www.w3.org/2000/svg\" height=\"24px\"viewBox=\"0 0 24 24\"\n",
              "       width=\"24px\">\n",
              "    <path d=\"M7,19H8.4L18.45,9,17,7.55,7,17.6ZM5,21V16.75L18.45,3.32a2,2,0,0,1,2.83,0l1.4,1.43a1.91,1.91,0,0,1,.58,1.4,1.91,1.91,0,0,1-.58,1.4L9.25,21ZM18.45,9,17,7.55Zm-12,3A5.31,5.31,0,0,0,4.9,8.1,5.31,5.31,0,0,0,1,6.5,5.31,5.31,0,0,0,4.9,4.9,5.31,5.31,0,0,0,6.5,1,5.31,5.31,0,0,0,8.1,4.9,5.31,5.31,0,0,0,12,6.5,5.46,5.46,0,0,0,6.5,12Z\"/>\n",
              "  </svg>\n",
              "    </button>\n",
              "    <script>\n",
              "      (() => {\n",
              "      const buttonEl =\n",
              "        document.querySelector('#id_89c18f03-944e-4364-ad8d-1c0441e6637a button.colab-df-generate');\n",
              "      buttonEl.style.display =\n",
              "        google.colab.kernel.accessAllowed ? 'block' : 'none';\n",
              "\n",
              "      buttonEl.onclick = () => {\n",
              "        google.colab.notebook.generateWithVariable('df');\n",
              "      }\n",
              "      })();\n",
              "    </script>\n",
              "  </div>\n",
              "\n",
              "    </div>\n",
              "  </div>\n"
            ],
            "application/vnd.google.colaboratory.intrinsic+json": {
              "type": "dataframe",
              "variable_name": "df",
              "summary": "{\n  \"name\": \"df\",\n  \"rows\": 3,\n  \"fields\": [\n    {\n      \"column\": \"roll no\",\n      \"properties\": {\n        \"dtype\": \"number\",\n        \"std\": 1,\n        \"min\": 1,\n        \"max\": 3,\n        \"num_unique_values\": 3,\n        \"samples\": [\n          1,\n          2,\n          3\n        ],\n        \"semantic_type\": \"\",\n        \"description\": \"\"\n      }\n    },\n    {\n      \"column\": \"Name\",\n      \"properties\": {\n        \"dtype\": \"string\",\n        \"num_unique_values\": 3,\n        \"samples\": [\n          \"Sir Zia\",\n          \"Sir Inam\",\n          \"Muhammad Qasim\"\n        ],\n        \"semantic_type\": \"\",\n        \"description\": \"\"\n      }\n    },\n    {\n      \"column\": \"education\",\n      \"properties\": {\n        \"dtype\": \"category\",\n        \"num_unique_values\": 1,\n        \"samples\": [\n          \"Master\"\n        ],\n        \"semantic_type\": \"\",\n        \"description\": \"\"\n      }\n    }\n  ]\n}"
            }
          },
          "metadata": {},
          "execution_count": 3
        }
      ]
    },
    {
      "cell_type": "code",
      "source": [
        "alien_0 = {'x_position': 0, 'y_position': 25, 'speed': 'medium'}\n",
        "print(f\"Original position: {alien_0['x_position']}\")\n"
      ],
      "metadata": {
        "colab": {
          "base_uri": "https://localhost:8080/"
        },
        "id": "BQ67h0lexB3y",
        "outputId": "e1cee0b4-281b-40ac-83ef-130d1a88d3b6"
      },
      "execution_count": null,
      "outputs": [
        {
          "output_type": "stream",
          "name": "stdout",
          "text": [
            "Original position: 0\n"
          ]
        }
      ]
    },
    {
      "cell_type": "code",
      "source": [
        "from typing import Union , Dict\n",
        "Key = Union[int,str] # create custom type\n",
        "Value = Union[int, str, list, dict, tuple, set]\n",
        "\n",
        "data : Dict[Key,Value] = {\n",
        "                        \"fname\":\"Muhammad Aslam\",\n",
        "                        \"name\":\"Muhammad Qasim\",\n",
        "                        \"education\": \"MSDS\",\n",
        "                        \"name\":\"M.Qasim\"}\n",
        "\n",
        "print(data)"
      ],
      "metadata": {
        "colab": {
          "base_uri": "https://localhost:8080/"
        },
        "id": "4Hkdxd520huo",
        "outputId": "4468a07f-ae47-406a-dfa9-f606239eff0b"
      },
      "execution_count": null,
      "outputs": [
        {
          "output_type": "stream",
          "name": "stdout",
          "text": [
            "{'fname': 'Muhammad Aslam', 'name': 'M.Qasim', 'education': 'MSDS'}\n"
          ]
        }
      ]
    },
    {
      "cell_type": "code",
      "source": [
        "Key = Union[int,str]\n",
        "Value = Union[int, str, list, dict, tuple, set]\n",
        "favorite_languages = {\n",
        "      'jen': 'python',\n",
        "      'sarah': 'c',\n",
        "      'edward': 'rust',\n",
        "      'phil': 'python',\n",
        "      }\n",
        "language = favorite_languages['jen'].title()\n",
        "print(f\"Sarah's favorite language is {language}\")"
      ],
      "metadata": {
        "colab": {
          "base_uri": "https://localhost:8080/"
        },
        "id": "PLKevXSF0zSo",
        "outputId": "3996f995-21df-4e99-d807-58ce3e3c8917"
      },
      "execution_count": null,
      "outputs": [
        {
          "output_type": "stream",
          "name": "stdout",
          "text": [
            "Sarah's favorite language is Python\n"
          ]
        }
      ]
    },
    {
      "cell_type": "code",
      "source": [
        "Key = Union[int,str]\n",
        "Value = Union[int, str, list, dict, tuple, set]\n",
        "favorite_languages = {\n",
        "      'jen': 'python',\n",
        "      'sarah': 'c',\n",
        "      'edward': 'rust',\n",
        "      'phil': 'python',\n",
        "      }\n",
        "\n",
        "friends = ['phil', 'sarah']\n",
        "for name in favorite_languages.keys():\n",
        "    print(f\"Hi {name.title()}.\")\n",
        "    if name in friends:\n",
        "        language = favorite_languages[name].title()\n",
        "        print(f\"\\t{name.title()}, I see you love {language}!\")"
      ],
      "metadata": {
        "colab": {
          "base_uri": "https://localhost:8080/"
        },
        "id": "ttduumQJ0zVx",
        "outputId": "44c1c424-6889-4405-9310-93434ae388e3"
      },
      "execution_count": null,
      "outputs": [
        {
          "output_type": "stream",
          "name": "stdout",
          "text": [
            "Hi Jen.\n",
            "Hi Sarah.\n",
            "\tSarah, I see you love C!\n",
            "Hi Edward.\n",
            "Hi Phil.\n",
            "\tPhil, I see you love Python!\n"
          ]
        }
      ]
    },
    {
      "cell_type": "code",
      "source": [
        "\"Qasim\" in \"\"\"My Name is Muhammad Qasim, I'm working as Chief Data Scientist!\"\"\""
      ],
      "metadata": {
        "colab": {
          "base_uri": "https://localhost:8080/"
        },
        "id": "aWgJfLIeLbcN",
        "outputId": "2e9cc8cb-7db0-4430-da7f-e53b30b4f409"
      },
      "execution_count": 4,
      "outputs": [
        {
          "output_type": "execute_result",
          "data": {
            "text/plain": [
              "True"
            ]
          },
          "metadata": {},
          "execution_count": 4
        }
      ]
    },
    {
      "cell_type": "code",
      "source": [
        "from typing import key\n",
        "alien_0: list[Key, Value] = {'color': 'green', 'points': 5}\n",
        "alien_1: list[Key, Value] = {'color': 'yellow', 'points': 10}\n",
        "alien_2: list[Key, Value] = {'color': 'red', 'points': 15}\n",
        "\n",
        "aliens:list[Dict[str,str]] = [alien_0, alien_1, alien_2]\n",
        "for alien in aliens:\n",
        "    print(alien)"
      ],
      "metadata": {
        "colab": {
          "base_uri": "https://localhost:8080/",
          "height": 383
        },
        "id": "oxti2RRkPXtw",
        "outputId": "2fa213d3-5b17-443c-809d-56a34e78b093"
      },
      "execution_count": 12,
      "outputs": [
        {
          "output_type": "error",
          "ename": "ImportError",
          "evalue": "cannot import name 'key' from 'typing' (/usr/lib/python3.10/typing.py)",
          "traceback": [
            "\u001b[0;31m---------------------------------------------------------------------------\u001b[0m",
            "\u001b[0;31mImportError\u001b[0m                               Traceback (most recent call last)",
            "\u001b[0;32m<ipython-input-12-e88ca34cbc74>\u001b[0m in \u001b[0;36m<cell line: 1>\u001b[0;34m()\u001b[0m\n\u001b[0;32m----> 1\u001b[0;31m \u001b[0;32mfrom\u001b[0m \u001b[0mtyping\u001b[0m \u001b[0;32mimport\u001b[0m \u001b[0mkey\u001b[0m\u001b[0;34m\u001b[0m\u001b[0;34m\u001b[0m\u001b[0m\n\u001b[0m\u001b[1;32m      2\u001b[0m \u001b[0malien_0\u001b[0m\u001b[0;34m:\u001b[0m \u001b[0mlist\u001b[0m\u001b[0;34m[\u001b[0m\u001b[0mKey\u001b[0m\u001b[0;34m,\u001b[0m \u001b[0mValue\u001b[0m\u001b[0;34m]\u001b[0m \u001b[0;34m=\u001b[0m \u001b[0;34m{\u001b[0m\u001b[0;34m'color'\u001b[0m\u001b[0;34m:\u001b[0m \u001b[0;34m'green'\u001b[0m\u001b[0;34m,\u001b[0m \u001b[0;34m'points'\u001b[0m\u001b[0;34m:\u001b[0m \u001b[0;36m5\u001b[0m\u001b[0;34m}\u001b[0m\u001b[0;34m\u001b[0m\u001b[0;34m\u001b[0m\u001b[0m\n\u001b[1;32m      3\u001b[0m \u001b[0malien_1\u001b[0m\u001b[0;34m:\u001b[0m \u001b[0mlist\u001b[0m\u001b[0;34m[\u001b[0m\u001b[0mKey\u001b[0m\u001b[0;34m,\u001b[0m \u001b[0mValue\u001b[0m\u001b[0;34m]\u001b[0m \u001b[0;34m=\u001b[0m \u001b[0;34m{\u001b[0m\u001b[0;34m'color'\u001b[0m\u001b[0;34m:\u001b[0m \u001b[0;34m'yellow'\u001b[0m\u001b[0;34m,\u001b[0m \u001b[0;34m'points'\u001b[0m\u001b[0;34m:\u001b[0m \u001b[0;36m10\u001b[0m\u001b[0;34m}\u001b[0m\u001b[0;34m\u001b[0m\u001b[0;34m\u001b[0m\u001b[0m\n\u001b[1;32m      4\u001b[0m \u001b[0malien_2\u001b[0m\u001b[0;34m:\u001b[0m \u001b[0mlist\u001b[0m\u001b[0;34m[\u001b[0m\u001b[0mKey\u001b[0m\u001b[0;34m,\u001b[0m \u001b[0mValue\u001b[0m\u001b[0;34m]\u001b[0m \u001b[0;34m=\u001b[0m \u001b[0;34m{\u001b[0m\u001b[0;34m'color'\u001b[0m\u001b[0;34m:\u001b[0m \u001b[0;34m'red'\u001b[0m\u001b[0;34m,\u001b[0m \u001b[0;34m'points'\u001b[0m\u001b[0;34m:\u001b[0m \u001b[0;36m15\u001b[0m\u001b[0;34m}\u001b[0m\u001b[0;34m\u001b[0m\u001b[0;34m\u001b[0m\u001b[0m\n\u001b[1;32m      5\u001b[0m \u001b[0;34m\u001b[0m\u001b[0m\n",
            "\u001b[0;31mImportError\u001b[0m: cannot import name 'key' from 'typing' (/usr/lib/python3.10/typing.py)",
            "",
            "\u001b[0;31m---------------------------------------------------------------------------\u001b[0;32m\nNOTE: If your import is failing due to a missing package, you can\nmanually install dependencies using either !pip or !apt.\n\nTo view examples of installing some common dependencies, click the\n\"Open Examples\" button below.\n\u001b[0;31m---------------------------------------------------------------------------\u001b[0m\n"
          ],
          "errorDetails": {
            "actions": [
              {
                "action": "open_url",
                "actionText": "Open Examples",
                "url": "/notebooks/snippets/importing_libraries.ipynb"
              }
            ]
          }
        }
      ]
    },
    {
      "cell_type": "code",
      "source": [
        "from typing import Dict\n",
        "aliens : list[Dict[str,str]] = []\n",
        "import pprint\n",
        "print(aliens)\n",
        "for alien_number in range(30):\n",
        "    new_alien = {'color': 'green', 'points': 5, 'speed': 'slow'}\n",
        "    aliens.append(new_alien)\n",
        "pprint.pprint(aliens)\n"
      ],
      "metadata": {
        "colab": {
          "base_uri": "https://localhost:8080/"
        },
        "id": "bNhVu8WJPXw3",
        "outputId": "e7df016b-a2db-408c-b384-1b55cbc3ec65"
      },
      "execution_count": 14,
      "outputs": [
        {
          "output_type": "stream",
          "name": "stdout",
          "text": [
            "[]\n",
            "[{'color': 'green', 'points': 5, 'speed': 'slow'},\n",
            " {'color': 'green', 'points': 5, 'speed': 'slow'},\n",
            " {'color': 'green', 'points': 5, 'speed': 'slow'},\n",
            " {'color': 'green', 'points': 5, 'speed': 'slow'},\n",
            " {'color': 'green', 'points': 5, 'speed': 'slow'},\n",
            " {'color': 'green', 'points': 5, 'speed': 'slow'},\n",
            " {'color': 'green', 'points': 5, 'speed': 'slow'},\n",
            " {'color': 'green', 'points': 5, 'speed': 'slow'},\n",
            " {'color': 'green', 'points': 5, 'speed': 'slow'},\n",
            " {'color': 'green', 'points': 5, 'speed': 'slow'},\n",
            " {'color': 'green', 'points': 5, 'speed': 'slow'},\n",
            " {'color': 'green', 'points': 5, 'speed': 'slow'},\n",
            " {'color': 'green', 'points': 5, 'speed': 'slow'},\n",
            " {'color': 'green', 'points': 5, 'speed': 'slow'},\n",
            " {'color': 'green', 'points': 5, 'speed': 'slow'},\n",
            " {'color': 'green', 'points': 5, 'speed': 'slow'},\n",
            " {'color': 'green', 'points': 5, 'speed': 'slow'},\n",
            " {'color': 'green', 'points': 5, 'speed': 'slow'},\n",
            " {'color': 'green', 'points': 5, 'speed': 'slow'},\n",
            " {'color': 'green', 'points': 5, 'speed': 'slow'},\n",
            " {'color': 'green', 'points': 5, 'speed': 'slow'},\n",
            " {'color': 'green', 'points': 5, 'speed': 'slow'},\n",
            " {'color': 'green', 'points': 5, 'speed': 'slow'},\n",
            " {'color': 'green', 'points': 5, 'speed': 'slow'},\n",
            " {'color': 'green', 'points': 5, 'speed': 'slow'},\n",
            " {'color': 'green', 'points': 5, 'speed': 'slow'},\n",
            " {'color': 'green', 'points': 5, 'speed': 'slow'},\n",
            " {'color': 'green', 'points': 5, 'speed': 'slow'},\n",
            " {'color': 'green', 'points': 5, 'speed': 'slow'},\n",
            " {'color': 'green', 'points': 5, 'speed': 'slow'}]\n"
          ]
        }
      ]
    },
    {
      "cell_type": "code",
      "source": [
        "from typing import Dict\n",
        "aliens : list[Dict[str,str]] = []\n",
        "import pprint\n",
        "print(aliens)\n",
        "for alien_number in range(10):\n",
        "    new_alien = {'color': 'green', 'points': 5, 'speed': 'slow'}\n",
        "    aliens.append(new_alien)\n",
        "pprint.pprint(aliens)"
      ],
      "metadata": {
        "colab": {
          "base_uri": "https://localhost:8080/"
        },
        "id": "Uh9H_xCcPXz7",
        "outputId": "6802af10-e4fe-405a-9840-dc23830e6e86"
      },
      "execution_count": 15,
      "outputs": [
        {
          "output_type": "stream",
          "name": "stdout",
          "text": [
            "[]\n",
            "[{'color': 'green', 'points': 5, 'speed': 'slow'},\n",
            " {'color': 'green', 'points': 5, 'speed': 'slow'},\n",
            " {'color': 'green', 'points': 5, 'speed': 'slow'},\n",
            " {'color': 'green', 'points': 5, 'speed': 'slow'},\n",
            " {'color': 'green', 'points': 5, 'speed': 'slow'},\n",
            " {'color': 'green', 'points': 5, 'speed': 'slow'},\n",
            " {'color': 'green', 'points': 5, 'speed': 'slow'},\n",
            " {'color': 'green', 'points': 5, 'speed': 'slow'},\n",
            " {'color': 'green', 'points': 5, 'speed': 'slow'},\n",
            " {'color': 'green', 'points': 5, 'speed': 'slow'}]\n"
          ]
        }
      ]
    },
    {
      "cell_type": "code",
      "source": [
        "pprint.pprint(aliens[:5])"
      ],
      "metadata": {
        "colab": {
          "base_uri": "https://localhost:8080/"
        },
        "id": "Ru4bb85hPX3I",
        "outputId": "cbf0ead2-9d59-423b-9eb8-d21e4a98b4ad"
      },
      "execution_count": 16,
      "outputs": [
        {
          "output_type": "stream",
          "name": "stdout",
          "text": [
            "[{'color': 'green', 'points': 5, 'speed': 'slow'},\n",
            " {'color': 'green', 'points': 5, 'speed': 'slow'},\n",
            " {'color': 'green', 'points': 5, 'speed': 'slow'},\n",
            " {'color': 'green', 'points': 5, 'speed': 'slow'},\n",
            " {'color': 'green', 'points': 5, 'speed': 'slow'}]\n"
          ]
        }
      ]
    },
    {
      "cell_type": "code",
      "source": [
        "for alien in aliens[:3]:\n",
        "    if alien['color'] == 'green':\n",
        "        alien['color'] = 'yellow'\n",
        "        alien['speed'] = 'medium'\n",
        "        alien['points'] = 10"
      ],
      "metadata": {
        "id": "MztzXCOKYA2_"
      },
      "execution_count": 20,
      "outputs": []
    },
    {
      "cell_type": "code",
      "source": [
        "aliens[:10]"
      ],
      "metadata": {
        "colab": {
          "base_uri": "https://localhost:8080/"
        },
        "id": "77ni2cZNYA52",
        "outputId": "33990b65-d908-4b1e-a628-6eb128689f4a"
      },
      "execution_count": 21,
      "outputs": [
        {
          "output_type": "execute_result",
          "data": {
            "text/plain": [
              "[{'color': 'yellow', 'points': 10, 'speed': 'medium'},\n",
              " {'color': 'yellow', 'points': 10, 'speed': 'medium'},\n",
              " {'color': 'yellow', 'points': 10, 'speed': 'medium'},\n",
              " {'color': 'green', 'points': 5, 'speed': 'slow'},\n",
              " {'color': 'green', 'points': 5, 'speed': 'slow'},\n",
              " {'color': 'green', 'points': 5, 'speed': 'slow'},\n",
              " {'color': 'green', 'points': 5, 'speed': 'slow'},\n",
              " {'color': 'green', 'points': 5, 'speed': 'slow'},\n",
              " {'color': 'green', 'points': 5, 'speed': 'slow'},\n",
              " {'color': 'green', 'points': 5, 'speed': 'slow'}]"
            ]
          },
          "metadata": {},
          "execution_count": 21
        }
      ]
    },
    {
      "cell_type": "code",
      "source": [
        "for alien in aliens[0:3]:\n",
        "    if alien['color'] == 'green':\n",
        "        alien['color'] = 'yellow'\n",
        "        alien['speed'] = 'medium'\n",
        "        alien['points'] = 10\n",
        "    elif alien['color'] == 'yellow':\n",
        "        alien['color'] = 'red'\n",
        "        alien['speed'] = 'fast'\n",
        "        alien['points'] = 15\n",
        "\n",
        "aliens"
      ],
      "metadata": {
        "colab": {
          "base_uri": "https://localhost:8080/"
        },
        "id": "896o4idxYA8g",
        "outputId": "0f50f5d0-2ac8-4b6d-c844-0368fb9e5be4"
      },
      "execution_count": 24,
      "outputs": [
        {
          "output_type": "execute_result",
          "data": {
            "text/plain": [
              "[{'color': 'red', 'points': 15, 'speed': 'fast'},\n",
              " {'color': 'red', 'points': 15, 'speed': 'fast'},\n",
              " {'color': 'red', 'points': 15, 'speed': 'fast'},\n",
              " {'color': 'green', 'points': 5, 'speed': 'slow'},\n",
              " {'color': 'green', 'points': 5, 'speed': 'slow'},\n",
              " {'color': 'green', 'points': 5, 'speed': 'slow'},\n",
              " {'color': 'green', 'points': 5, 'speed': 'slow'},\n",
              " {'color': 'green', 'points': 5, 'speed': 'slow'},\n",
              " {'color': 'green', 'points': 5, 'speed': 'slow'},\n",
              " {'color': 'green', 'points': 5, 'speed': 'slow'}]"
            ]
          },
          "metadata": {},
          "execution_count": 24
        }
      ]
    },
    {
      "cell_type": "code",
      "source": [
        "from typing import Union\n",
        "Key = Union[int,str] # create custom type\n",
        "Value = Union[int, str, list, dict, tuple, set]\n",
        "\n",
        "data : Dict[Key,Value] = {\n",
        "                        \"fname\":\"Muhammad Aslam\",\n",
        "                        \"name\":\"Muhammad Qasim\",\n",
        "                        \"education\": \"MSDS\"}\n",
        "\n",
        "print(data)\n",
        "print(type(data))"
      ],
      "metadata": {
        "colab": {
          "base_uri": "https://localhost:8080/"
        },
        "id": "Dvqu3pa9ZN1j",
        "outputId": "be8ef20d-cdba-420d-df4d-fe3edacaf0c7"
      },
      "execution_count": 27,
      "outputs": [
        {
          "output_type": "stream",
          "name": "stdout",
          "text": [
            "{'fname': 'Muhammad Aslam', 'name': 'Muhammad Qasim', 'education': 'MSDS'}\n",
            "<class 'dict'>\n"
          ]
        }
      ]
    },
    {
      "cell_type": "code",
      "source": [
        "import json\n",
        "\n",
        "data1  = json.dumps(data, indent=4)\n",
        "\n",
        "print(type(data1))\n",
        "display(data1)\n",
        "print(data1)\n"
      ],
      "metadata": {
        "colab": {
          "base_uri": "https://localhost:8080/",
          "height": 140
        },
        "id": "nXA7iO1BZODz",
        "outputId": "093cfc35-8a17-4833-e719-cfc20bc3d913"
      },
      "execution_count": 28,
      "outputs": [
        {
          "output_type": "stream",
          "name": "stdout",
          "text": [
            "<class 'str'>\n"
          ]
        },
        {
          "output_type": "display_data",
          "data": {
            "text/plain": [
              "'{\\n    \"fname\": \"Muhammad Aslam\",\\n    \"name\": \"Muhammad Qasim\",\\n    \"education\": \"MSDS\"\\n}'"
            ],
            "application/vnd.google.colaboratory.intrinsic+json": {
              "type": "string"
            }
          },
          "metadata": {}
        },
        {
          "output_type": "stream",
          "name": "stdout",
          "text": [
            "{\n",
            "    \"fname\": \"Muhammad Aslam\",\n",
            "    \"name\": \"Muhammad Qasim\",\n",
            "    \"education\": \"MSDS\"\n",
            "}\n"
          ]
        }
      ]
    },
    {
      "cell_type": "markdown",
      "source": [
        "# Nested Dictionary error solution"
      ],
      "metadata": {
        "id": "djUwwxrlhp9i"
      }
    },
    {
      "cell_type": "code",
      "source": [
        "from typing import Union, TypedDict, Tuple, Set, List\n",
        "import pprint\n",
        "\n",
        "cdeDataType = TypedDict(\n",
        "    'cdeDataType',\n",
        "    {\n",
        "        \"a\": int,\n",
        "        \"b\": int\n",
        "    }\n",
        ")\n",
        "\n",
        "myDataType = TypedDict(\n",
        "    'myDataType', {\n",
        "        \"fname\": str,\n",
        "        \"name\": str,\n",
        "        \"education\": str,\n",
        "        \"abc\": List[int],\n",
        "        'xyz': Set[int],\n",
        "        'efg': Tuple,\n",
        "        'cde': cdeDataType\n",
        "    }\n",
        ")\n",
        "\n",
        "\n",
        "# Key = Union[int, str]\n",
        "# Value = Union[int, str, list, tuple, set]\n",
        "\n",
        "\n",
        "data: myDataType = {\n",
        "    \"fname\": \"Muhammad Aslam\",\n",
        "    \"name\": \"Muhammad Qasim\",\n",
        "    \"education\": \"MSDS\",\n",
        "    \"abc\": [1, 2, 3],\n",
        "    'xyz': {1, 2, 3},\n",
        "    'efg': (1, 2, 3),\n",
        "    'cde': {\"a\": 1, \"b\": 2}\n",
        "}\n",
        "\n",
        "print(data['cde']['b'])"
      ],
      "metadata": {
        "colab": {
          "base_uri": "https://localhost:8080/"
        },
        "id": "9J1iIsoqhzqR",
        "outputId": "c8f19fe0-5c83-44dc-c32c-35fdb11372ae"
      },
      "execution_count": 32,
      "outputs": [
        {
          "output_type": "stream",
          "name": "stdout",
          "text": [
            "2\n"
          ]
        }
      ]
    }
  ]
}