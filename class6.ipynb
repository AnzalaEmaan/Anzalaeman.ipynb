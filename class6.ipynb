{
  "nbformat": 4,
  "nbformat_minor": 0,
  "metadata": {
    "colab": {
      "provenance": []
    },
    "kernelspec": {
      "name": "python3",
      "display_name": "Python 3"
    },
    "language_info": {
      "name": "python"
    }
  },
  "cells": [
    {
      "cell_type": "markdown",
      "source": [
        "# If-else-elif\n",
        "\n",
        "*  if logic :  \n",
        "             * true_block\n",
        "* else:\n",
        "             * false_block\n",
        "#comprehensive if-else\n",
        "\n",
        "*  if\n",
        "*  if-else\n",
        "*  if-elif-else\n",
        "\n",
        "\n",
        "\n",
        "\n",
        "\n",
        "\n",
        "\n"
      ],
      "metadata": {
        "id": "8jvXFC_2S_AA"
      }
    },
    {
      "cell_type": "code",
      "source": [
        "if True:\n",
        "    print(\"Pakistan zinda bad\")\n",
        "else:\n",
        "    print(\"Hello world!\")"
      ],
      "metadata": {
        "colab": {
          "base_uri": "https://localhost:8080/"
        },
        "id": "3SErAcMKbncW",
        "outputId": "5bb96bea-eb43-423e-e8c0-1d5d20bd6b46"
      },
      "execution_count": null,
      "outputs": [
        {
          "output_type": "stream",
          "name": "stdout",
          "text": [
            "Pakistan zinda bad\n"
          ]
        }
      ]
    },
    {
      "cell_type": "code",
      "source": [
        "if False:\n",
        "    print(\"Pakistan zinda bad\")\n",
        "else:\n",
        "    print(\"Hello world!\")"
      ],
      "metadata": {
        "colab": {
          "base_uri": "https://localhost:8080/"
        },
        "id": "2nXCFxY6bxhb",
        "outputId": "59430750-c259-4bb3-afdc-bb3b21a85909"
      },
      "execution_count": null,
      "outputs": [
        {
          "output_type": "stream",
          "name": "stdout",
          "text": [
            "Hello world!\n"
          ]
        }
      ]
    },
    {
      "cell_type": "code",
      "source": [
        "print(\"Pakistan zinda bad\") if True else print(\"Hello world!\")"
      ],
      "metadata": {
        "colab": {
          "base_uri": "https://localhost:8080/"
        },
        "id": "_FatjkSvbzjM",
        "outputId": "001468fa-e3d0-4ed7-8080-e6d95d614caa"
      },
      "execution_count": null,
      "outputs": [
        {
          "output_type": "stream",
          "name": "stdout",
          "text": [
            "Pakistan zinda bad\n"
          ]
        }
      ]
    },
    {
      "cell_type": "code",
      "source": [
        "print(\"Pakistan zinda bad\") if False else print(\"Hello world!\")"
      ],
      "metadata": {
        "colab": {
          "base_uri": "https://localhost:8080/"
        },
        "id": "MXMeSbGeb956",
        "outputId": "a0c39dd9-acfe-4639-d7ae-afe217e39779"
      },
      "execution_count": null,
      "outputs": [
        {
          "output_type": "stream",
          "name": "stdout",
          "text": [
            "Hello world!\n"
          ]
        }
      ]
    },
    {
      "cell_type": "markdown",
      "source": [
        "# comparison operators\n",
        "\n",
        "* ==  \n",
        "* `>=`  \n",
        "* <=   \n",
        "* !=  \n",
        "#logic\n",
        "\n",
        "* and\n",
        "* or  \n",
        "* not\n",
        "\n",
        "\n"
      ],
      "metadata": {
        "id": "u_oMuRRycIUy"
      }
    },
    {
      "cell_type": "code",
      "source": [
        "if True:\n",
        "    print(\"True Pakistan block\")\n",
        "\n",
        "print(\"1\")\n",
        "print(\"2\")"
      ],
      "metadata": {
        "colab": {
          "base_uri": "https://localhost:8080/"
        },
        "id": "_VJnp8WN_8TT",
        "outputId": "b3150450-9716-46a5-8b71-78c2f6414912"
      },
      "execution_count": null,
      "outputs": [
        {
          "output_type": "stream",
          "name": "stdout",
          "text": [
            "True Pakistan block\n",
            "1\n",
            "2\n"
          ]
        }
      ]
    },
    {
      "cell_type": "code",
      "source": [
        "if False:\n",
        "      print(\"pakistan zindabad\")\n",
        "\n",
        "print(\"1\")\n",
        "print(\"2\")\n"
      ],
      "metadata": {
        "colab": {
          "base_uri": "https://localhost:8080/"
        },
        "id": "SOhVneqOBVro",
        "outputId": "921e24c2-a0f6-4381-a4af-8da4018638d4"
      },
      "execution_count": null,
      "outputs": [
        {
          "output_type": "stream",
          "name": "stdout",
          "text": [
            "1\n",
            "2\n"
          ]
        }
      ]
    },
    {
      "cell_type": "code",
      "source": [
        "if True:\n",
        "    print(\"True_block\")\n",
        "elif False:\n",
        "    print(\"elif logic1\")\n",
        "elif False:\n",
        "    print(\"elif logic2\")\n",
        "elif False:\n",
        "    print(\"elif logic3\")\n",
        "else:\n",
        "    print(\"final else block\")"
      ],
      "metadata": {
        "colab": {
          "base_uri": "https://localhost:8080/"
        },
        "id": "jBwWeOthDKLd",
        "outputId": "47a2a9da-4906-4416-8738-7c26827bca2f"
      },
      "execution_count": null,
      "outputs": [
        {
          "output_type": "stream",
          "name": "stdout",
          "text": [
            "True_block\n"
          ]
        }
      ]
    },
    {
      "cell_type": "code",
      "source": [
        "if False:\n",
        "    print(\"True_block\")\n",
        "elif True:\n",
        "    print(\"elif logic1\")\n",
        "elif False:\n",
        "    print(\"elif logic2\")\n",
        "elif False:\n",
        "    print(\"elif logic3\")\n",
        "else:\n",
        "    print(\"final else block\")"
      ],
      "metadata": {
        "colab": {
          "base_uri": "https://localhost:8080/"
        },
        "id": "-gmEZVu5DKRj",
        "outputId": "d3386c29-1574-4a81-beef-3790c266f375"
      },
      "execution_count": null,
      "outputs": [
        {
          "output_type": "stream",
          "name": "stdout",
          "text": [
            "elif logic1\n"
          ]
        }
      ]
    },
    {
      "cell_type": "code",
      "source": [
        "# chain1 run only one block\n",
        "if False:\n",
        "    print(\"True_block\")\n",
        "elif False:\n",
        "    print(\"elif logic1\")\n",
        "elif True:\n",
        "    print(\"elif logic2\")\n",
        "elif True:\n",
        "    print(\"elif logic3\")\n",
        "else:\n",
        "    print(\"final else block\")\n",
        "\n",
        "# chain2 run only one block\n",
        "if False:\n",
        "    print(\"True_block\")\n",
        "elif False:\n",
        "    print(\"elif logic1\")\n",
        "elif False:\n",
        "    print(\"elif logic2\")\n",
        "elif False:\n",
        "    print(\"elif logic3\")\n",
        "else:\n",
        "    print(\"final else block\")\n",
        "\n",
        "print(\"Pakistan\")"
      ],
      "metadata": {
        "colab": {
          "base_uri": "https://localhost:8080/"
        },
        "id": "iR4S1PWzDKVM",
        "outputId": "dceab594-da70-43a4-cef7-460784c51b89"
      },
      "execution_count": null,
      "outputs": [
        {
          "output_type": "stream",
          "name": "stdout",
          "text": [
            "elif logic2\n",
            "final else block\n",
            "Pakistan\n"
          ]
        }
      ]
    },
    {
      "cell_type": "markdown",
      "source": [
        "# Grading Rule"
      ],
      "metadata": {
        "id": "c9bS3EnQFwd8"
      }
    },
    {
      "cell_type": "code",
      "source": [
        "from typing import Union\n",
        "\n",
        "per : Union[int, float] = 88\n",
        "grade :Union[str, None] = None\n",
        "\n",
        "if per >= 80:\n",
        "    grade = \"A+\"\n",
        "elif per >= 70:\n",
        "    grade = \"A\"\n",
        "elif per >= 60:\n",
        "    grade = \"B\"\n",
        "elif per >= 50:\n",
        "    grade = \"C\"\n",
        "elif per >= 40:\n",
        "    grade = \"D\"\n",
        "elif per >= 33:\n",
        "    grade = \"E\"\n",
        "else:\n",
        "    grade = \"Fail\"\n",
        "\n",
        "print(f\"Dear Student your percentage is {per} now your calculated grade is:\\t {grade}\")"
      ],
      "metadata": {
        "colab": {
          "base_uri": "https://localhost:8080/"
        },
        "id": "Fo7zo9kUFxy7",
        "outputId": "5e1f5b28-fd0e-4a71-8e6c-9ac5c4ccdbdd"
      },
      "execution_count": null,
      "outputs": [
        {
          "output_type": "stream",
          "name": "stdout",
          "text": [
            "Dear Student your percentage is 88 now your calculated grade is:\t A+\n"
          ]
        }
      ]
    },
    {
      "cell_type": "code",
      "source": [
        "a = input(\"Enter your percentage:\\t\")\n",
        "print(type(a))\n",
        "print(a)"
      ],
      "metadata": {
        "colab": {
          "base_uri": "https://localhost:8080/"
        },
        "id": "LfvUmQzfIxT0",
        "outputId": "514ed0ed-0b61-434a-feee-a768f10fa0b2"
      },
      "execution_count": null,
      "outputs": [
        {
          "output_type": "stream",
          "name": "stdout",
          "text": [
            "Enter your percentage:\t33\n",
            "<class 'str'>\n",
            "33\n"
          ]
        }
      ]
    },
    {
      "cell_type": "code",
      "source": [
        "a = int(input(\"Enter your percentage:\\t\"))\n",
        "print(type(a))\n",
        "print(a)"
      ],
      "metadata": {
        "colab": {
          "base_uri": "https://localhost:8080/"
        },
        "id": "xUxlsn5PIxWs",
        "outputId": "dd31382c-9023-4f44-d469-9ce81662cab1"
      },
      "execution_count": null,
      "outputs": [
        {
          "output_type": "stream",
          "name": "stdout",
          "text": [
            "Enter your percentage:\t55\n",
            "<class 'int'>\n",
            "55\n"
          ]
        }
      ]
    },
    {
      "cell_type": "code",
      "source": [
        "from typing import Union\n",
        "\n",
        "per : Union[int, float] = int(input(\"Enter your percentage:\\t\"))\n",
        "grade : Union[str, None] = None\n",
        "\n",
        "if per >= 80:\n",
        "    grade = \"A+\"\n",
        "elif per >= 70:\n",
        "    grade = \"A\"\n",
        "elif per >= 60:\n",
        "    grade = \"B\"\n",
        "elif per >= 50:\n",
        "    grade = \"C\"\n",
        "elif per >= 40:\n",
        "    grade = \"D\"\n",
        "elif per >= 33:\n",
        "    grade = \"E\"\n",
        "else:\n",
        "    grade = \"Fail\"\n",
        "\n",
        "print(f\"Dear Student your percentage is {per} now your calculated grade is:\\t {grade}\")\n"
      ],
      "metadata": {
        "colab": {
          "base_uri": "https://localhost:8080/"
        },
        "id": "esD_O_WDIxae",
        "outputId": "4de9ea7b-3cd3-495b-b5f5-d1ca26af682e"
      },
      "execution_count": null,
      "outputs": [
        {
          "output_type": "stream",
          "name": "stdout",
          "text": [
            "Enter your percentage:\t89\n",
            "Dear Student your percentage is 89 now your calculated grade is:\t A+\n"
          ]
        }
      ]
    },
    {
      "cell_type": "code",
      "source": [
        "from typing import Union, Optional\n",
        "\n",
        "per : Union[int, float] = 88\n",
        "grade :Optional[str] = None\n",
        "\n",
        "if per >= 80:\n",
        "    grade = \"A+\"\n",
        "elif per >= 70:\n",
        "    grade = \"A\"\n",
        "elif per >= 60:\n",
        "    grade = \"B\"\n",
        "elif per >= 50:\n",
        "    grade = \"C\"\n",
        "elif per >= 40:\n",
        "    grade = \"D\"\n",
        "elif per >= 33:\n",
        "    grade = \"E\"\n",
        "else:\n",
        "    grade = \"Fail\"\n",
        "print(f\"Dear Student your percentage is {per} now your calculated grade is:\\t {grade}\")"
      ],
      "metadata": {
        "colab": {
          "base_uri": "https://localhost:8080/"
        },
        "id": "S9FZM9HEIxeM",
        "outputId": "69d58cd3-9391-4dd6-d058-2aee745dde55"
      },
      "execution_count": null,
      "outputs": [
        {
          "output_type": "stream",
          "name": "stdout",
          "text": [
            "Dear Student your percentage is 88 now your calculated grade is:\t A+\n"
          ]
        }
      ]
    },
    {
      "cell_type": "code",
      "source": [
        "from typing import Union, Optional\n",
        "\n",
        "per : int | float = 88\n",
        "\n",
        "grade :Optional[str] = None\n",
        "\n",
        "if per >= 80:\n",
        "    grade = \"A+\"\n",
        "elif per >= 70:\n",
        "    grade = \"A\"\n",
        "elif per >= 60:\n",
        "    grade = \"B\"\n",
        "elif per >= 50:\n",
        "    grade = \"C\"\n",
        "elif per >= 40:\n",
        "    grade = \"D\"\n",
        "elif per >= 33:\n",
        "    grade = \"E\"\n",
        "else:\n",
        "    grade = \"Fail\"\n",
        "    print(f\"Dear Student your percentage is {per} now your calculated grade is:\\t {grade}\")"
      ],
      "metadata": {
        "id": "b-CXprgiKcMR"
      },
      "execution_count": null,
      "outputs": []
    },
    {
      "cell_type": "markdown",
      "source": [
        "# Logical Error"
      ],
      "metadata": {
        "id": "aspY7q2oKn3j"
      }
    },
    {
      "cell_type": "code",
      "source": [
        "from typing import Union\n",
        "\n",
        "per : Union[int, float] = int(input(\"Enter your percentage:\\t\"))\n",
        "grade : Union[str, None] = None\n",
        "\n",
        "if per >= 0:\n",
        "    grade = \"Fail\"\n",
        "elif per >= 33:\n",
        "    grade = \"E\"\n",
        "elif per >= 40:\n",
        "    grade = \"D\"\n",
        "elif per >= 50:\n",
        "    grade = \"C\"\n",
        "elif per >= 60:\n",
        "    grade = \"B\"\n",
        "elif per >= 70:\n",
        "    grade = \"A\"\n",
        "else:\n",
        "    grade = \"A+\"\n",
        "\n",
        "print(f\"Dear Student your percentage is {per} now your calculated grade is:\\t {grade}\")\n"
      ],
      "metadata": {
        "colab": {
          "base_uri": "https://localhost:8080/"
        },
        "id": "P3dBAGbsKme5",
        "outputId": "91b9597c-9e94-4e3f-d469-4a0e01551ffd"
      },
      "execution_count": null,
      "outputs": [
        {
          "output_type": "stream",
          "name": "stdout",
          "text": [
            "Enter your percentage:\t100\n",
            "Dear Student your percentage is 100 now your calculated grade is:\t Fail\n"
          ]
        }
      ]
    },
    {
      "cell_type": "code",
      "source": [
        "from typing import Union\n",
        "\n",
        "per : Union[int, float] = int(input(\"Enter your percentage:\\t\"))\n",
        "grade : Union[str, None] = None\n",
        "\n",
        "if per >= 0 and per < 33:\n",
        "    grade = \"Fail\"\n",
        "elif per >= 33 and per < 40:\n",
        "    grade = \"E\"\n",
        "elif per >= 40 and per < 50:\n",
        "    grade = \"D\"\n",
        "elif per >= 50 and per < 60:\n",
        "    grade = \"C\"\n",
        "elif per >= 60 and per <70 :\n",
        "    grade = \"B\"\n",
        "elif per >= 70 and per <80 :\n",
        "    grade = \"A\"\n",
        "elif per >=80 and per <= 100:\n",
        "    grade = \"A+\"\n",
        "print(f\"Dear Student your percentage is {per} now your calculated grade is:\\t {grade}\")\n"
      ],
      "metadata": {
        "colab": {
          "base_uri": "https://localhost:8080/"
        },
        "id": "Rm8o3LiLLjx_",
        "outputId": "293a4550-3eef-415c-a43a-968293677347"
      },
      "execution_count": null,
      "outputs": [
        {
          "output_type": "stream",
          "name": "stdout",
          "text": [
            "Enter your percentage:\t90\n",
            "Dear Student your percentage is 90 now your calculated grade is:\t A+\n"
          ]
        }
      ]
    },
    {
      "cell_type": "code",
      "source": [
        "from typing import Union\n",
        "\n",
        "per : Union[int, float] = float(input(\"Enter your percentage:\\t\"))\n",
        "grade : Union[str, None] = None\n",
        "\n",
        "if (per >= 0) and (per < 33):\n",
        "    grade = \"Fail\"\n",
        "elif (per >= 33) and (per < 40):\n",
        "    grade = \"E\"\n",
        "elif (per >= 40) and (per < 50):\n",
        "    grade = \"D\"\n",
        "elif (per >= 50) and (per < 60):\n",
        "    grade = \"C\"\n",
        "elif (per >= 60) and (per <70) :\n",
        "    grade = \"B\"\n",
        "elif (per >= 70) and (per <80) :\n",
        "    grade = \"A\"\n",
        "elif (per >=80) and (per <= 100):\n",
        "    grade = \"A+\"\n",
        "\n",
        "print(f\"Dear Student your percentage is {per} now your calculated grade is:\\t {grade}\")\n"
      ],
      "metadata": {
        "colab": {
          "base_uri": "https://localhost:8080/"
        },
        "id": "A4V5S5bTMVZN",
        "outputId": "55a73303-57f7-4919-ce71-9e30eecf1e27"
      },
      "execution_count": null,
      "outputs": [
        {
          "output_type": "stream",
          "name": "stdout",
          "text": [
            "Enter your percentage:\t89\n",
            "Dear Student your percentage is 89.0 now your calculated grade is:\t A+\n"
          ]
        }
      ]
    },
    {
      "cell_type": "markdown",
      "source": [
        "# student percentages"
      ],
      "metadata": {
        "id": "B7BONBBgMcPA"
      }
    },
    {
      "cell_type": "code",
      "source": [
        "from typing import Union\n",
        "PerType = Union[float, int]\n",
        "\n",
        "percentages : list[PerType] = [88, 99.9, 50, 51,65,70]\n",
        "\n",
        "grades : list[str] = []\n",
        "\n",
        "for per in percentages:\n",
        "    grade : str = \"\"\n",
        "\n",
        "    if (per >= 0) and (per < 33):\n",
        "        grade = \"Fail\"\n",
        "    elif (per >= 33) and (per < 40):\n",
        "        grade = \"E\"\n",
        "    elif (per >= 40) and (per < 50):\n",
        "        grade = \"D\"\n",
        "    elif (per >= 50) and (per < 60):\n",
        "        grade = \"C\"\n",
        "    elif (per >= 60) and (per <70) :\n",
        "        grade = \"B\"\n",
        "    elif (per >= 70) and (per <80) :\n",
        "        grade = \"A\"\n",
        "    elif (per >=80) and (per <= 100):\n",
        "        grade = \"A+\"\n",
        "\n",
        "    grades.append(grade)\n",
        "\n",
        "print(percentages)\n",
        "print(grades)\n",
        "list(zip(percentages, grades))"
      ],
      "metadata": {
        "colab": {
          "base_uri": "https://localhost:8080/"
        },
        "id": "lgxpuiHGMdOV",
        "outputId": "39a88681-69d9-4d2f-e239-c0ac8b5306ce"
      },
      "execution_count": null,
      "outputs": [
        {
          "output_type": "stream",
          "name": "stdout",
          "text": [
            "[88, 99.9, 50, 51, 65, 70]\n",
            "['A+', 'A+', 'C', 'C', 'B', 'A']\n"
          ]
        },
        {
          "output_type": "execute_result",
          "data": {
            "text/plain": [
              "[(88, 'A+'), (99.9, 'A+'), (50, 'C'), (51, 'C'), (65, 'B'), (70, 'A')]"
            ]
          },
          "metadata": {},
          "execution_count": 35
        }
      ]
    },
    {
      "cell_type": "code",
      "source": [
        "zip(percentages, grades)"
      ],
      "metadata": {
        "colab": {
          "base_uri": "https://localhost:8080/"
        },
        "id": "gX-bfOaNZJ5a",
        "outputId": "f6fbab56-4b56-4ab1-9a8b-24005fee632e"
      },
      "execution_count": null,
      "outputs": [
        {
          "output_type": "execute_result",
          "data": {
            "text/plain": [
              "<zip at 0x79cc2b340f40>"
            ]
          },
          "metadata": {},
          "execution_count": 32
        }
      ]
    },
    {
      "cell_type": "code",
      "source": [
        "list(zip(percentages, grades))"
      ],
      "metadata": {
        "colab": {
          "base_uri": "https://localhost:8080/"
        },
        "id": "z2GOO808ZJ8A",
        "outputId": "8950fe32-d6a0-4e2b-fe3d-e6b21670e04f"
      },
      "execution_count": null,
      "outputs": [
        {
          "output_type": "execute_result",
          "data": {
            "text/plain": [
              "[(88, 'A+'), (99.9, 'A+'), (50, 'C'), (51, 'C'), (65, 'B'), (70, 'A')]"
            ]
          },
          "metadata": {},
          "execution_count": 39
        }
      ]
    },
    {
      "cell_type": "code",
      "source": [
        "names: list[str] = ['Sir Zia']\n",
        "\n",
        "names.append(\"Qasim\")\n",
        "names.append(\"Sir Inam\")\n",
        "print(names)"
      ],
      "metadata": {
        "colab": {
          "base_uri": "https://localhost:8080/"
        },
        "id": "PiYBb6T5ZrP_",
        "outputId": "31588114-023d-427f-af8b-a0ae70fd3888"
      },
      "execution_count": null,
      "outputs": [
        {
          "output_type": "stream",
          "name": "stdout",
          "text": [
            "['Sir Zia', 'Qasim', 'Sir Inam']\n"
          ]
        }
      ]
    },
    {
      "cell_type": "code",
      "source": [
        "list(range(len(percentages)))"
      ],
      "metadata": {
        "colab": {
          "base_uri": "https://localhost:8080/"
        },
        "id": "ZPAnpxEFZrSp",
        "outputId": "3ad27474-91fb-4ea3-d219-668131e56fd9"
      },
      "execution_count": null,
      "outputs": [
        {
          "output_type": "execute_result",
          "data": {
            "text/plain": [
              "[0, 1, 2, 3, 4, 5]"
            ]
          },
          "metadata": {},
          "execution_count": 38
        }
      ]
    },
    {
      "cell_type": "code",
      "source": [
        "roll_no: list[int] = list(range(len(percentages)))\n",
        "roll_no"
      ],
      "metadata": {
        "colab": {
          "base_uri": "https://localhost:8080/"
        },
        "id": "V701F2-WbOYL",
        "outputId": "103415cf-4aac-4a88-e90a-6d54ddbd5290"
      },
      "execution_count": null,
      "outputs": [
        {
          "output_type": "execute_result",
          "data": {
            "text/plain": [
              "[0, 1, 2, 3, 4, 5]"
            ]
          },
          "metadata": {},
          "execution_count": 40
        }
      ]
    },
    {
      "cell_type": "code",
      "source": [
        "data_base = list(zip(roll_no,percentages, grades))\n",
        "data_base"
      ],
      "metadata": {
        "colab": {
          "base_uri": "https://localhost:8080/"
        },
        "id": "4aifoy3PbOa7",
        "outputId": "5167b4ad-27af-42cf-91f4-6c9c7fe08ddf"
      },
      "execution_count": null,
      "outputs": [
        {
          "output_type": "execute_result",
          "data": {
            "text/plain": [
              "[(0, 88, 'A+'),\n",
              " (1, 99.9, 'A+'),\n",
              " (2, 50, 'C'),\n",
              " (3, 51, 'C'),\n",
              " (4, 65, 'B'),\n",
              " (5, 70, 'A')]"
            ]
          },
          "metadata": {},
          "execution_count": 41
        }
      ]
    },
    {
      "cell_type": "code",
      "source": [
        "display(data_base)\n",
        "sorted(data_base)"
      ],
      "metadata": {
        "colab": {
          "base_uri": "https://localhost:8080/",
          "height": 225
        },
        "id": "8rZjR-sLbOg2",
        "outputId": "0009d2c7-db3d-4b75-f47f-e326ea3d9ac2"
      },
      "execution_count": null,
      "outputs": [
        {
          "output_type": "display_data",
          "data": {
            "text/plain": [
              "[(0, 88, 'A+'),\n",
              " (1, 99.9, 'A+'),\n",
              " (2, 50, 'C'),\n",
              " (3, 51, 'C'),\n",
              " (4, 65, 'B'),\n",
              " (5, 70, 'A')]"
            ]
          },
          "metadata": {}
        },
        {
          "output_type": "execute_result",
          "data": {
            "text/plain": [
              "[(0, 88, 'A+'),\n",
              " (1, 99.9, 'A+'),\n",
              " (2, 50, 'C'),\n",
              " (3, 51, 'C'),\n",
              " (4, 65, 'B'),\n",
              " (5, 70, 'A')]"
            ]
          },
          "metadata": {},
          "execution_count": 42
        }
      ]
    },
    {
      "cell_type": "code",
      "source": [
        "display(data_base)\n",
        "sorted(data_base, key=lambda x:x[1])"
      ],
      "metadata": {
        "colab": {
          "base_uri": "https://localhost:8080/",
          "height": 225
        },
        "id": "hyD-1SrubOju",
        "outputId": "d216312c-8681-4d9e-8706-011c95f75d0a"
      },
      "execution_count": null,
      "outputs": [
        {
          "output_type": "display_data",
          "data": {
            "text/plain": [
              "[(0, 88, 'A+'),\n",
              " (1, 99.9, 'A+'),\n",
              " (2, 50, 'C'),\n",
              " (3, 51, 'C'),\n",
              " (4, 65, 'B'),\n",
              " (5, 70, 'A')]"
            ]
          },
          "metadata": {}
        },
        {
          "output_type": "execute_result",
          "data": {
            "text/plain": [
              "[(2, 50, 'C'),\n",
              " (3, 51, 'C'),\n",
              " (4, 65, 'B'),\n",
              " (5, 70, 'A'),\n",
              " (0, 88, 'A+'),\n",
              " (1, 99.9, 'A+')]"
            ]
          },
          "metadata": {},
          "execution_count": 43
        }
      ]
    },
    {
      "cell_type": "code",
      "source": [
        "display(data_base)\n",
        "sorted(data_base, key=lambda x:x[1], reverse=True)"
      ],
      "metadata": {
        "colab": {
          "base_uri": "https://localhost:8080/",
          "height": 225
        },
        "id": "LlkKVVJTbOpj",
        "outputId": "43ccd148-d16a-4c92-ab55-d65546cacb51"
      },
      "execution_count": null,
      "outputs": [
        {
          "output_type": "display_data",
          "data": {
            "text/plain": [
              "[(0, 88, 'A+'),\n",
              " (1, 99.9, 'A+'),\n",
              " (2, 50, 'C'),\n",
              " (3, 51, 'C'),\n",
              " (4, 65, 'B'),\n",
              " (5, 70, 'A')]"
            ]
          },
          "metadata": {}
        },
        {
          "output_type": "execute_result",
          "data": {
            "text/plain": [
              "[(1, 99.9, 'A+'),\n",
              " (0, 88, 'A+'),\n",
              " (5, 70, 'A'),\n",
              " (4, 65, 'B'),\n",
              " (3, 51, 'C'),\n",
              " (2, 50, 'C')]"
            ]
          },
          "metadata": {},
          "execution_count": 44
        }
      ]
    },
    {
      "cell_type": "code",
      "source": [
        "cars : list[str] = ['audi', 'bmw', 'subaru', 'toyota']\n",
        "for car in cars:\n",
        "    if car == 'bmw':\n",
        "     print(car.upper())\n",
        "    else:\n",
        "     print(car.title())"
      ],
      "metadata": {
        "colab": {
          "base_uri": "https://localhost:8080/"
        },
        "id": "BA8lkuVgd7L1",
        "outputId": "aa4d3fbb-9809-4562-d915-a97af5e72c42"
      },
      "execution_count": null,
      "outputs": [
        {
          "output_type": "stream",
          "name": "stdout",
          "text": [
            "Audi\n",
            "BMW\n",
            "Subaru\n",
            "Toyota\n"
          ]
        }
      ]
    },
    {
      "cell_type": "code",
      "source": [
        "print(car)\n",
        "car == 'bmw'"
      ],
      "metadata": {
        "colab": {
          "base_uri": "https://localhost:8080/"
        },
        "id": "IvrtGkIgeyh0",
        "outputId": "645cc007-a1a3-4f2a-aec2-1ecc4cffa0bb"
      },
      "execution_count": null,
      "outputs": [
        {
          "output_type": "stream",
          "name": "stdout",
          "text": [
            "toyota\n"
          ]
        },
        {
          "output_type": "execute_result",
          "data": {
            "text/plain": [
              "False"
            ]
          },
          "metadata": {},
          "execution_count": 47
        }
      ]
    },
    {
      "cell_type": "code",
      "source": [
        "car = 'Audi'\n",
        "car.lower() == 'audi'"
      ],
      "metadata": {
        "colab": {
          "base_uri": "https://localhost:8080/"
        },
        "id": "v9jw6U_Feykf",
        "outputId": "c7185441-c8f0-4432-fd95-196a7cd551d5"
      },
      "execution_count": null,
      "outputs": [
        {
          "output_type": "execute_result",
          "data": {
            "text/plain": [
              "True"
            ]
          },
          "metadata": {},
          "execution_count": 48
        }
      ]
    },
    {
      "cell_type": "code",
      "source": [
        "cars : list[str] = ['audi', 'bmw', 'subaru', 'toyota']\n",
        "\n",
        "[i.upper() if i=='bmw' else i.title() for i in cars]"
      ],
      "metadata": {
        "colab": {
          "base_uri": "https://localhost:8080/"
        },
        "id": "cBqYU_Smeyt7",
        "outputId": "c0c501ca-a34f-4974-fde8-9dccfc4b0b67"
      },
      "execution_count": null,
      "outputs": [
        {
          "output_type": "execute_result",
          "data": {
            "text/plain": [
              "['Audi', 'BMW', 'Subaru', 'Toyota']"
            ]
          },
          "metadata": {},
          "execution_count": 49
        }
      ]
    },
    {
      "cell_type": "code",
      "source": [
        "cars : list[str] = ['audi', 'bmw',\"Mehran\", 'subaru', 'toyota']\n",
        "\n",
        "for car in cars: # in = extract element from iterated types\n",
        "    if car != 'Mehran':\n",
        "        print(car.upper())\n",
        "    else:\n",
        "        print(car.lower())\n"
      ],
      "metadata": {
        "colab": {
          "base_uri": "https://localhost:8080/"
        },
        "id": "H2LKaD2egFJa",
        "outputId": "e760cec9-783e-4fc9-abd6-8e964128cf1e"
      },
      "execution_count": null,
      "outputs": [
        {
          "output_type": "stream",
          "name": "stdout",
          "text": [
            "AUDI\n",
            "BMW\n",
            "mehran\n",
            "SUBARU\n",
            "TOYOTA\n"
          ]
        }
      ]
    },
    {
      "cell_type": "code",
      "source": [
        "answer = 17\n",
        "if answer != 42:\n",
        "    print(\"That is not the correct answer. Please try again!\")"
      ],
      "metadata": {
        "colab": {
          "base_uri": "https://localhost:8080/"
        },
        "id": "-kquNl3dgFML",
        "outputId": "dc0283e5-bdeb-4575-9424-e07d2579b806"
      },
      "execution_count": null,
      "outputs": [
        {
          "output_type": "stream",
          "name": "stdout",
          "text": [
            "That is not the correct answer. Please try again!\n"
          ]
        }
      ]
    },
    {
      "cell_type": "code",
      "source": [
        "cars : list[str] = ['audi', 'bmw',\"Mehran\", 'subaru', 'toyota']\n",
        "\n",
        "'bmw' in cars"
      ],
      "metadata": {
        "colab": {
          "base_uri": "https://localhost:8080/"
        },
        "id": "CDdA3RMhg7rZ",
        "outputId": "f3f04200-6c89-4738-ed73-41b2a381f21c"
      },
      "execution_count": null,
      "outputs": [
        {
          "output_type": "execute_result",
          "data": {
            "text/plain": [
              "True"
            ]
          },
          "metadata": {},
          "execution_count": 52
        }
      ]
    },
    {
      "cell_type": "code",
      "source": [
        "cars : list[str] = ['audi', 'bmw',\"Mehran\", 'subaru', 'toyota']\n",
        "\n",
        "'changan' in cars"
      ],
      "metadata": {
        "colab": {
          "base_uri": "https://localhost:8080/"
        },
        "id": "18QxSY1kg7uR",
        "outputId": "87687cc1-982f-4c84-abf5-4c99f67bf7ea"
      },
      "execution_count": null,
      "outputs": [
        {
          "output_type": "execute_result",
          "data": {
            "text/plain": [
              "False"
            ]
          },
          "metadata": {},
          "execution_count": 53
        }
      ]
    },
    {
      "cell_type": "code",
      "source": [
        "banned_users : list[str] = ['andrew', 'carolina', 'david']\n",
        "user : str = 'marie'\n",
        "\n",
        "print(user not in banned_users)\n",
        "\n",
        "if user not in banned_users:\n",
        "    print(f\"{user.title()}, you can post a response if you wish.\")"
      ],
      "metadata": {
        "colab": {
          "base_uri": "https://localhost:8080/"
        },
        "id": "guqKw_Hag73Q",
        "outputId": "44de0183-4cc7-4957-9f61-a80879d3ff3c"
      },
      "execution_count": null,
      "outputs": [
        {
          "output_type": "stream",
          "name": "stdout",
          "text": [
            "True\n",
            "Marie, you can post a response if you wish.\n"
          ]
        }
      ]
    },
    {
      "cell_type": "code",
      "source": [
        "age: int = 17\n",
        "if age >= 18:\n",
        "    print(\"You are old enough to vote!\")\n",
        "    print(\"Have you registered to vote yet?\")\n",
        "else:\n",
        "    print(\"Sorry, you are too young to vote.\")\n",
        "    print(\"Please register to vote as soon as you turn 18!\")"
      ],
      "metadata": {
        "colab": {
          "base_uri": "https://localhost:8080/"
        },
        "id": "9DWoLtQtg76I",
        "outputId": "e4010a9f-1057-43db-89e2-22c75368b265"
      },
      "execution_count": null,
      "outputs": [
        {
          "output_type": "stream",
          "name": "stdout",
          "text": [
            "Sorry, you are too young to vote.\n",
            "Please register to vote as soon as you turn 18!\n"
          ]
        }
      ]
    },
    {
      "cell_type": "code",
      "source": [
        "age = 12\n",
        "if age < 4:\n",
        "    print(\"Your admission cost is $0.\")\n",
        "elif age < 18:\n",
        "    print(\"Your admission cost is $25.\")\n",
        "else:\n",
        "      print(\"Your admission cost is $40.\")"
      ],
      "metadata": {
        "colab": {
          "base_uri": "https://localhost:8080/"
        },
        "id": "pF5Lrz7disEJ",
        "outputId": "faa59462-73aa-4975-95a5-7b97aca6f900"
      },
      "execution_count": null,
      "outputs": [
        {
          "output_type": "stream",
          "name": "stdout",
          "text": [
            "Your admission cost is $25.\n"
          ]
        }
      ]
    },
    {
      "cell_type": "code",
      "source": [
        "requested_toppings : list[str] = ['mushrooms', 'extra cheese']\n",
        "\n",
        "if 'mushrooms' in requested_toppings:\n",
        "      print(\"Adding mushrooms.\")\n",
        "\n",
        "if 'pepperoni' in requested_toppings:\n",
        "    print(\"Adding pepperoni.\")\n",
        "\n",
        "if 'extra cheese' in requested_toppings:\n",
        "    print(\"Adding extra cheese.\")\n",
        "\n",
        "print(\"\\nFinished making your pizza!\")"
      ],
      "metadata": {
        "colab": {
          "base_uri": "https://localhost:8080/"
        },
        "id": "WG-YT8XiisG6",
        "outputId": "f8c567b3-8dda-4110-b49e-5d6bbc22f2a8"
      },
      "execution_count": null,
      "outputs": [
        {
          "output_type": "stream",
          "name": "stdout",
          "text": [
            "Adding mushrooms.\n",
            "Adding extra cheese.\n",
            "\n",
            "Finished making your pizza!\n"
          ]
        }
      ]
    },
    {
      "cell_type": "code",
      "source": [
        "requested_toppings = ['mushrooms', 'green peppers', 'extra cheese']\n",
        "for requested_topping in requested_toppings:\n",
        "    if requested_topping == 'green peppers':\n",
        "        print(\"Sorry, we are out of green peppers right now.\")\n",
        "    else:\n",
        "        print(f\"Adding {requested_topping}.\")\n",
        "print(\"\\nFinished making your pizza!\")"
      ],
      "metadata": {
        "colab": {
          "base_uri": "https://localhost:8080/"
        },
        "id": "_hgs9bdFisLn",
        "outputId": "3f555ea8-e6a2-4391-8e94-f184186fe17e"
      },
      "execution_count": null,
      "outputs": [
        {
          "output_type": "stream",
          "name": "stdout",
          "text": [
            "Adding mushrooms.\n",
            "Sorry, we are out of green peppers right now.\n",
            "Adding extra cheese.\n",
            "\n",
            "Finished making your pizza!\n"
          ]
        }
      ]
    },
    {
      "cell_type": "code",
      "source": [
        "requested_toppings = []\n",
        "\n",
        "if requested_toppings:\n",
        "    for requested_topping in requested_toppings:\n",
        "        print(f\"Adding {requested_topping}.\")\n",
        "    print(\"\\nFinished making your pizza!\")\n",
        "else:\n",
        "    print(\"Are you sure you want a plain pizza?\")"
      ],
      "metadata": {
        "colab": {
          "base_uri": "https://localhost:8080/"
        },
        "id": "geBPiBf-j9h5",
        "outputId": "a5c66cf5-8876-4167-cb07-eb096667b80c"
      },
      "execution_count": null,
      "outputs": [
        {
          "output_type": "stream",
          "name": "stdout",
          "text": [
            "Are you sure you want a plain pizza?\n"
          ]
        }
      ]
    },
    {
      "cell_type": "code",
      "source": [
        "available_toppings:list[str] = ['mushrooms', 'olives', 'green peppers',\n",
        "                        'pepperoni', 'pineapple', 'extra cheese']\n",
        "\n",
        "requested_toppings:list[str] = ['mushrooms', 'french fries', 'extra cheese'] # user input\n",
        "\n",
        "for requested_topping in requested_toppings:\n",
        "    if requested_topping in available_toppings:\n",
        "        print(f\"Adding {requested_topping}.\")\n",
        "    else:\n",
        "        print(f\"Sorry, we don't have {requested_topping}.\")\n",
        "print(\"\\nFinished making your pizza!\")"
      ],
      "metadata": {
        "colab": {
          "base_uri": "https://localhost:8080/"
        },
        "id": "SC4ycRVNkB3Q",
        "outputId": "4180bc51-04e3-4c40-8aa1-f811745265fc"
      },
      "execution_count": null,
      "outputs": [
        {
          "output_type": "stream",
          "name": "stdout",
          "text": [
            "Adding mushrooms.\n",
            "Sorry, we don't have french fries.\n",
            "Adding extra cheese.\n",
            "\n",
            "Finished making your pizza!\n"
          ]
        }
      ]
    },
    {
      "cell_type": "code",
      "source": [
        "input(\"Enter ',' seprated value for topping\").split(\",\")"
      ],
      "metadata": {
        "colab": {
          "base_uri": "https://localhost:8080/"
        },
        "id": "eeadZnhOkB6n",
        "outputId": "21087b4b-5d16-4524-d729-7aa0ebef80aa"
      },
      "execution_count": null,
      "outputs": [
        {
          "name": "stdout",
          "output_type": "stream",
          "text": [
            "Enter ',' seprated value for topping123,234,345,567\n"
          ]
        },
        {
          "output_type": "execute_result",
          "data": {
            "text/plain": [
              "['123', '234', '345', '567']"
            ]
          },
          "metadata": {},
          "execution_count": 62
        }
      ]
    },
    {
      "cell_type": "code",
      "source": [
        "available_toppings:list[str] = ['mushrooms', 'olives', 'green peppers',\n",
        "                        'pepperoni', 'pineapple', 'extra cheese']\n",
        "\n",
        "requested_toppings:list[str] = input(\"Enter ',' seprated value for topping\").split(\",\")\n",
        "\n",
        "for requested_topping in requested_toppings:\n",
        "    if requested_topping in available_toppings:\n",
        "        print(f\"Adding {requested_topping}.\")\n",
        "    else:\n",
        "        print(f\"Sorry, we don't have {requested_topping}.\")\n",
        "print(\"\\nFinished making your pizza!\")"
      ],
      "metadata": {
        "colab": {
          "base_uri": "https://localhost:8080/"
        },
        "id": "qsHvUOCKk7En",
        "outputId": "cbdef1d5-b7dc-42d4-9d7b-90e94765a9cb"
      },
      "execution_count": null,
      "outputs": [
        {
          "output_type": "stream",
          "name": "stdout",
          "text": [
            "Enter ',' seprated value for toppingmushrooms\n",
            "Adding mushrooms.\n",
            "\n",
            "Finished making your pizza!\n"
          ]
        }
      ]
    },
    {
      "cell_type": "code",
      "source": [
        "user_name : str = input(\"Enter user id: \\t\")\n",
        "user_passwrod : str = input(\"Enter password:\\t\")\n",
        "\n",
        "\n",
        "if user_name == 'admin' and user_passwrod == 'admin':\n",
        "    print(\"sent otp on you registered number\")\n",
        "    otp : str = input(\"Please inter otp\")\n",
        "    if otp == '123':\n",
        "        print(\"Welcom PIAIC\")\n",
        "else:\n",
        "    print(\"Invalid user or password\")"
      ],
      "metadata": {
        "colab": {
          "base_uri": "https://localhost:8080/"
        },
        "id": "hI7y20QvldWl",
        "outputId": "0a8a3323-6f1d-4420-840d-9fe4de6efad9"
      },
      "execution_count": null,
      "outputs": [
        {
          "output_type": "stream",
          "name": "stdout",
          "text": [
            "Enter user id: \tw\n",
            "Enter password:\tn\n",
            "Invalid user or password\n"
          ]
        }
      ]
    },
    {
      "cell_type": "code",
      "source": [
        "user_name : str = input(\"Enter user id: \\t\")\n",
        "user_passwrod : str = input(\"Enter password:\\t\")\n",
        "\n",
        "\n",
        "if user_name == 'admin' and user_passwrod == 'admin':\n",
        "    print(\"sent otp on you registered number\")\n",
        "    otp : str = input(\"Please inter otp\")\n",
        "    if otp == '123':\n",
        "        print(\"Welcom PIAIC\")\n",
        "else:\n",
        "    print(\"Invalid user or password\")"
      ],
      "metadata": {
        "colab": {
          "base_uri": "https://localhost:8080/"
        },
        "outputId": "ac8b2b03-c26f-40ec-8def-a3a239da57ad",
        "id": "DN_1XbU0l_4W"
      },
      "execution_count": null,
      "outputs": [
        {
          "output_type": "stream",
          "name": "stdout",
          "text": [
            "Enter user id: \tadmin\n",
            "Enter password:\tadmin\n",
            "sent otp on you registered number\n",
            "Please inter otp123\n",
            "Welcom PIAIC\n"
          ]
        }
      ]
    }
  ]
}